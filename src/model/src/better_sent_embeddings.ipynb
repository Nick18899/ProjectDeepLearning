{
 "cells": [
  {
   "cell_type": "code",
   "execution_count": 12,
   "metadata": {},
   "outputs": [],
   "source": [
    "import ssl\n",
    "ssl._create_default_https_context = ssl._create_unverified_context\n",
    "\n",
    "def download_model():\n",
    "    import fasttext.util\n",
    "    fasttext.util.download_model('en', if_exists='ignore')  # English\n"
   ]
  },
  {
   "cell_type": "code",
   "execution_count": 13,
   "metadata": {},
   "outputs": [
    {
     "name": "stderr",
     "output_type": "stream",
     "text": [
      "Warning : `load_model` does not return WordVectorModel or SupervisedModel any more, but a `FastText` object which is very similar.\n"
     ]
    }
   ],
   "source": [
    "#download_model()\n",
    "import fasttext\n",
    "model = fasttext.load_model('./cc.en.100.bin')\n"
   ]
  },
  {
   "cell_type": "code",
   "execution_count": 14,
   "metadata": {},
   "outputs": [],
   "source": [
    "def find_most_similar_sentence_from_dataset(sentence, dataset):\n",
    "    vectorized_dataset = [(sentence, model.get_sentence_vector(sentence)) for sentence in dataset]\n",
    "    vectorized_sentence = model.get_sentence_vector(sentence) # 1 sentence\n",
    "    answer = 'cat'\n",
    "    import numpy as np\n",
    "    for (sentence, vector) in vectorized_dataset:\n",
    "        if(np.dot(vector, vectorized_sentence) > np.dot(model.get_sentence_vector(answer), vectorized_sentence)):\n",
    "            answer = sentence\n",
    "    return answer"
   ]
  },
  {
   "cell_type": "code",
   "execution_count": 15,
   "metadata": {},
   "outputs": [],
   "source": [
    "def scan_kaggle_dataset() : # scanning kaggle dataset with 16kk tweets (https://www.kaggle.com/kazanova/sentiment140)\n",
    "    # !!! do not forget to run ../utils/csv_formatter to filter the whole dataset for sentences with hashtags and to remove unnecessary columns\n",
    "    import csv\n",
    "    with open('kaggle_dataset.csv', newline='') as csvfile:\n",
    "        cnt = 0\n",
    "        spamreader = csv.reader(csvfile, delimiter='|', quotechar='|')\n",
    "        sentences = [row[2] for row in spamreader]\n",
    "    return sentences"
   ]
  },
  {
   "cell_type": "code",
   "execution_count": 16,
   "metadata": {},
   "outputs": [
    {
     "name": "stdout",
     "output_type": "stream",
     "text": [
      " Army wives #3 \"\n",
      "#3\n"
     ]
    }
   ],
   "source": [
    "sentence = \"Obama president\"\n",
    "hashtags = scan_kaggle_dataset()\n",
    "words = find_most_similar_sentence_from_dataset(sentence, hashtags)\n",
    "print(words)\n",
    "for word in words.split():\n",
    "    if '#' in word:\n",
    "        print(word)"
   ]
  },
  {
   "cell_type": "code",
   "execution_count": null,
   "metadata": {},
   "outputs": [],
   "source": []
  }
 ],
 "metadata": {
  "kernelspec": {
   "display_name": "Python 3",
   "language": "python",
   "name": "python3"
  },
  "language_info": {
   "codemirror_mode": {
    "name": "ipython",
    "version": 3
   },
   "file_extension": ".py",
   "mimetype": "text/x-python",
   "name": "python",
   "nbconvert_exporter": "python",
   "pygments_lexer": "ipython3",
   "version": "3.8.5"
  }
 },
 "nbformat": 4,
 "nbformat_minor": 4
}
