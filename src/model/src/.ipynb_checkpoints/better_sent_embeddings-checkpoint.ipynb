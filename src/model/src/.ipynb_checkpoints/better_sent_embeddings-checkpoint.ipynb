{
 "cells": [
  {
   "cell_type": "code",
   "execution_count": 1,
   "metadata": {},
   "outputs": [
    {
     "name": "stdout",
     "output_type": "stream",
     "text": [
      "[ 0.19441569 -0.24418941 -0.04665829 -0.00781339  0.1115299  -0.09948094\n",
      "  0.07005046  0.06263553 -0.05934058  0.00926879  0.14626999  0.04668112\n",
      " -0.0052708  -0.10198523  0.04833219  0.12653002  0.050806    0.0221715\n",
      " -0.00530547 -0.05035872  0.00897467 -0.03682203  0.08785269 -0.02357849\n",
      " -0.04158019  0.01524722  0.01526336  0.02075156  0.00884008  0.10992728\n",
      " -0.02179801 -0.00690468 -0.04274657  0.05238057  0.0205072  -0.15835303\n",
      " -0.0249236   0.07858349  0.00342764 -0.1065763  -0.02985347  0.01873739\n",
      " -0.06246227 -0.05262286 -0.05249139 -0.05036978 -0.20920426 -0.13107109\n",
      "  0.23895931  0.0518828  -0.03438945 -0.1392377   0.04953829 -0.15847081\n",
      " -0.07370707 -0.07856289 -0.00602866 -0.02776741  0.12268925 -0.08530006\n",
      " -0.08387674 -0.08744169 -0.00903354  0.07218156  0.01120866 -0.11522149\n",
      " -0.00781984 -0.0467799   0.01046484  0.05107181  0.01831586 -0.18089874\n",
      "  0.06185891 -0.0424092  -0.0278566   0.02166444 -0.1196999   0.0347907\n",
      " -0.04988623  0.04106519  0.09008616  0.09335367 -0.0563608  -0.1111488\n",
      "  0.00494645 -0.01245566 -0.06033586 -0.06638095 -0.01419409  0.02806411\n",
      "  0.01782443 -0.0711222   0.08331089  0.02102832 -0.0780007  -0.01664798\n",
      "  0.01971793  0.03852494  0.02443266 -0.08515683]\n"
     ]
    },
    {
     "name": "stderr",
     "output_type": "stream",
     "text": [
      "Warning : `load_model` does not return WordVectorModel or SupervisedModel any more, but a `FastText` object which is very similar.\n"
     ]
    }
   ],
   "source": [
    "import ssl\n",
    "ssl._create_default_https_context = ssl._create_unverified_context\n",
    "\n",
    "def download_model():\n",
    "    import fasttext.util\n",
    "    fasttext.util.download_model('en', if_exists='ignore')  # English\n"
   ]
  },
  {
   "cell_type": "code",
   "execution_count": 33,
   "metadata": {},
   "outputs": [
    {
     "ename": "NameError",
     "evalue": "name 'download_model' is not defined",
     "output_type": "error",
     "traceback": [
      "\u001b[0;31m---------------------------------------------------------------------------\u001b[0m",
      "\u001b[0;31mNameError\u001b[0m                                 Traceback (most recent call last)",
      "\u001b[0;32m<ipython-input-33-075888e647e2>\u001b[0m in \u001b[0;36m<module>\u001b[0;34m\u001b[0m\n\u001b[0;32m----> 1\u001b[0;31m \u001b[0mdownload_model\u001b[0m\u001b[0;34m(\u001b[0m\u001b[0;34m)\u001b[0m\u001b[0;34m\u001b[0m\u001b[0;34m\u001b[0m\u001b[0m\n\u001b[0m\u001b[1;32m      2\u001b[0m \u001b[0;32mimport\u001b[0m \u001b[0mfasttext\u001b[0m\u001b[0;34m\u001b[0m\u001b[0;34m\u001b[0m\u001b[0m\n\u001b[1;32m      3\u001b[0m \u001b[0mmodel\u001b[0m \u001b[0;34m=\u001b[0m \u001b[0mfasttext\u001b[0m\u001b[0;34m.\u001b[0m\u001b[0mload_model\u001b[0m\u001b[0;34m(\u001b[0m\u001b[0;34m'./cc.en.300.bin'\u001b[0m\u001b[0;34m)\u001b[0m\u001b[0;34m\u001b[0m\u001b[0;34m\u001b[0m\u001b[0m\n",
      "\u001b[0;31mNameError\u001b[0m: name 'download_model' is not defined"
     ]
    }
   ],
   "source": [
    "download_model()\n",
    "!pip install fasttext\n",
    "import fasttext\n",
    "model = fasttext.load_model('./cc.en.300.bin')\n"
   ]
  },
  {
   "cell_type": "code",
   "execution_count": 9,
   "metadata": {},
   "outputs": [],
   "source": [
    "def find_most_similar_sentence_from_dataset(sentence, dataset):\n",
    "    vectorized_dataset = [(sentence, model.get_sentence_vector(sentence)) for sentence in dataset]\n",
    "    vectorized_sentence = model.get_sentence_vector(sentence) # 1 sentence\n",
    "    answer = 'cat'\n",
    "    import numpy as np\n",
    "    for (sentence, vector) in vectorized_dataset:\n",
    "        if(np.dot(vector, vectorized_sentence) > np.dot(model.get_sentence_vector(answer), vectorized_sentence)):\n",
    "            answer = sentence\n",
    "    return answer"
   ]
  },
  {
   "cell_type": "code",
   "execution_count": 10,
   "metadata": {},
   "outputs": [],
   "source": [
    "def scan_kaggle_dataset() : # scanning kaggle dataset with 16kk tweets (https://www.kaggle.com/kazanova/sentiment140)\n",
    "    # !!! do not forget to run ../utils/csv_formatter to filter the whole dataset for sentences with hashtags and to remove unnecessary columns\n",
    "    import csv\n",
    "    with open('kaggle_dataset.csv', newline='') as csvfile:\n",
    "        cnt = 0\n",
    "        spamreader = csv.reader(csvfile, delimiter='|', quotechar='|')\n",
    "        sentences = [row[2] for row in spamreader]\n",
    "    return sentences"
   ]
  },
  {
   "cell_type": "code",
   "execution_count": 32,
   "metadata": {},
   "outputs": [
    {
     "data": {
      "text/plain": [
       "[(0.6242956519126892,\n",
       "  'CrônicasEsdrasNeemiasEsterJóSalmosProvérbiosEclesiastesCânticosIsaíasJeremiasLamentaçõesEzequielDanielOséiasJoelAmósObadiasJonasMiquéiasNaumHabacuqueSofoniasAgeuZacariasMalaquiasNovo'),\n",
       " (0.6168031096458435, 'KellerTitusTOAM06TOAM07TOAM08TOAM09TOAM10TOAM11Todd'),\n",
       " (0.6099061369895935,\n",
       "  'deblogueroreflejoantecedentesexitlacuachebateysuteindesignableabsorbersexilatifundiosexibrezarsutemultiétnicosexiplinrapobrezarcorrentosoVd.lazadafisiochillidomabrezarsico-chuzaoutcolodrablogueroin'),\n",
       " (0.6076529622077942,\n",
       "  'crescendosexibloguerobateyabsorbersexiindesignabledinerolatifundiosexibrezarcularsutesexirapoplinbrezarcorrentosoVd.lazadareflejoreglafeministabrezarchuzasexiouttiqueblogueroin'),\n",
       " (0.6067987680435181,\n",
       "  'Llanfairpwllgwyngyllgogerychwyrndrobwllllantysiliogogogoch'),\n",
       " (0.6067721843719482,\n",
       "  'FaceTherm-a-RestThetfordTilleyTimexToggiTopeakTottieTrakkerTrangiaTrekmatesTrespassTrue'),\n",
       " (0.5940313935279846,\n",
       "  'DEky4M0BSpUOTPnSpkuL5I0GTSnRI4jMepcaFAoxIoFnX5kmJQk1aYvr2odGBAAIfkECQoABAAsCQAAABAAEgAACGcAARAYSLCgQQEABBokkFAhAQEQHQ4EMKCiQogRCVKsOOAiRocbLQ7EmJEhR4cfEWoUOTFhRIUNE44kGZOjSIQfG9rsyDCnzp0AaMYMyfNjS6JFZWpEKlDiUqALJ0KNatKmU4NDBwYEACH5BAUKAAQALAkAAAAQABIAAAhpAAEQGEiQIICDBAUgLEgAwICHAgkImBhxoMOHAyJOpGgQY8aBGxV2hJgwZMWLFTcCUIjwoEuLBym69PgxJMuDNAUqVDkz50qZLi'),\n",
       " (0.592512309551239,\n",
       "  'DEky4M0BSpUOTPnSpkuL5I0GTSnRI4jMepcaFAoxIoFnX5kmJQk1aYvr2odGBAAIfkECQoABAAsCQAAABAAEgAACGcAARAYSLCgQQEABBokkFAhAQEQHQ4EMKCiQogRCVKsOOAiRocbLQ7EmJEhR4cfEWoUOTFhRIUNE44kGZOjSIQfG9rsyDCnzp0AaMYMyfNjS6JFZWpEKlDiUqALJ0KNatKmU4NDBwYEACH5BAkKAAQALAkAAAAQABIAAAhpAAEQGEiQIICDBAUgLEgAwICHAgkImBhxoMOHAyJOpGgQY8aBGxV2hJgwZMWLFTcCUIjwoEuLBym69PgxJMuDNAUqVDkz50qZLi'),\n",
       " (0.5921078324317932,\n",
       "  'crescendolampistahidro-atrialtlacuachesexiglutenblogueromultiétnicoSign'),\n",
       " (0.588265061378479,\n",
       "  'ToysBrasherBreoBridgedaleBroginiBruntonBuffBulldogCadacCaldeneCalibreCalorCamelbakCampCampingazCarr')]"
      ]
     },
     "execution_count": 32,
     "metadata": {},
     "output_type": "execute_result"
    }
   ],
   "source": [
    "sentence = \"Obama president\"\n",
    "hashtags = scan_kaggle_dataset()\n",
    "words = find_most_similar_sentence_from_dataset(sentence, hashtags)\n",
    "print(words)\n",
    "for word in words.split():\n",
    "    if '#' in word:\n",
    "        print(word)"
   ]
  },
  {
   "cell_type": "code",
   "execution_count": null,
   "metadata": {},
   "outputs": [],
   "source": []
  },
  {
   "cell_type": "code",
   "execution_count": null,
   "metadata": {},
   "outputs": [],
   "source": []
  }
 ],
 "metadata": {
  "kernelspec": {
   "display_name": "Python 3",
   "language": "python",
   "name": "python3"
  },
  "language_info": {
   "codemirror_mode": {
    "name": "ipython",
    "version": 3
   },
   "file_extension": ".py",
   "mimetype": "text/x-python",
   "name": "python",
   "nbconvert_exporter": "python",
   "pygments_lexer": "ipython3",
   "version": "3.8.5"
  }
 },
 "nbformat": 4,
 "nbformat_minor": 4
}
