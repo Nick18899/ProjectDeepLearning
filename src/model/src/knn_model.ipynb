{
 "cells": [
  {
   "cell_type": "code",
   "execution_count": 2,
   "metadata": {},
   "outputs": [],
   "source": [
    "from gensim.models.wrappers import FastText\n",
    "import numpy as np"
   ]
  },
  {
   "cell_type": "code",
   "execution_count": 3,
   "metadata": {},
   "outputs": [
    {
     "name": "stdout",
     "output_type": "stream",
     "text": [
      "its fine\n"
     ]
    }
   ],
   "source": [
    "model = FastText.load_fasttext_format('cc.en.100.bin')\n",
    "print ('its fine')"
   ]
  },
  {
   "cell_type": "code",
   "execution_count": 5,
   "metadata": {},
   "outputs": [],
   "source": [
    "sentence_obama = 'Obama speaks to the media in Illinois'.lower().split()\n",
    "hashtags_list = ['animal', 'art', 'science', 'criminal', 'politics']"
   ]
  },
  {
   "cell_type": "code",
   "execution_count": 10,
   "metadata": {},
   "outputs": [
    {
     "name": "stdout",
     "output_type": "stream",
     "text": [
      "[-0.04740398 -0.26761213 -0.03071783  0.04034736  0.07778923  0.12736101\n",
      " -0.05109699 -0.1919496   0.00095714  0.04517234  0.0031714   0.10451455\n",
      "  0.09783155 -0.02973312  0.02081372  0.05974016 -0.05083311  0.03458391\n",
      "  0.02685243 -0.07233715  0.02618467 -0.05430955  0.0013078  -0.02557758\n",
      " -0.00355502  0.01903362  0.00692946  0.10419849  0.02766424 -0.16904335\n",
      "  0.08985553 -0.00153541 -0.04129634 -0.0012264  -0.0334328   0.0313609\n",
      "  0.05303923 -0.02994876  0.01120188 -0.03878623 -0.06328576 -0.00164243\n",
      " -0.00649193 -0.03786537  0.09160391 -0.06547498 -0.0946069  -0.06407085\n",
      "  0.21021876  0.10048576 -0.06267808 -0.02199082  0.09098437 -0.28622794\n",
      " -0.17517371 -0.03445712  0.13852999 -0.10511725  0.07364751 -0.05839262\n",
      " -0.18566991  0.05289595 -0.07655998  0.00088408 -0.02473621 -0.0086043\n",
      " -0.0397746  -0.00530325  0.01982171  0.02985759  0.03601735 -0.01219767\n",
      "  0.03088492  0.00851918  0.07233043  0.0447527  -0.15886565  0.08148424\n",
      "  0.0121013   0.01705907  0.00593801  0.04511231 -0.05691687 -0.02166646\n",
      "  0.00421679 -0.06055102  0.04123092 -0.08436041  0.1116448  -0.04578974\n",
      " -0.03384129 -0.11276812 -0.05143671  0.02005197 -0.14880553 -0.03072063\n",
      " -0.02538344 -0.02331865  0.00877519 -0.03139815]\n"
     ]
    }
   ],
   "source": [
    "wordvecs_obama = [model[word] for word in sentence_obama]\n",
    "meanvec_obama = np.array(wordvecs_obama).mean(axis=0)\n",
    "# print(meanvec_obama)"
   ]
  },
  {
   "cell_type": "code",
   "execution_count": 19,
   "metadata": {},
   "outputs": [
    {
     "ename": "TypeError",
     "evalue": "Cannot cast array data from dtype('float32') to dtype('<U32') according to the rule 'safe'",
     "output_type": "error",
     "traceback": [
      "\u001b[0;31m---------------------------------------------------------------------------\u001b[0m",
      "\u001b[0;31mTypeError\u001b[0m                                 Traceback (most recent call last)",
      "\u001b[0;32m<ipython-input-19-078caa4eb245>\u001b[0m in \u001b[0;36m<module>\u001b[0;34m\u001b[0m\n\u001b[1;32m      1\u001b[0m \u001b[0manswer\u001b[0m \u001b[0;34m=\u001b[0m \u001b[0;34m'AKJSNDJNASJNKDAS'\u001b[0m\u001b[0;34m\u001b[0m\u001b[0;34m\u001b[0m\u001b[0m\n\u001b[1;32m      2\u001b[0m \u001b[0;32mfor\u001b[0m \u001b[0mhashtag\u001b[0m \u001b[0;32min\u001b[0m \u001b[0mhashtags_list\u001b[0m\u001b[0;34m:\u001b[0m\u001b[0;34m\u001b[0m\u001b[0;34m\u001b[0m\u001b[0m\n\u001b[0;32m----> 3\u001b[0;31m     \u001b[0mprint\u001b[0m\u001b[0;34m(\u001b[0m\u001b[0mnp\u001b[0m\u001b[0;34m.\u001b[0m\u001b[0mdot\u001b[0m\u001b[0;34m(\u001b[0m\u001b[0mhashtag\u001b[0m\u001b[0;34m,\u001b[0m \u001b[0mmeanvec_obama\u001b[0m\u001b[0;34m)\u001b[0m\u001b[0;34m)\u001b[0m\u001b[0;34m\u001b[0m\u001b[0;34m\u001b[0m\u001b[0m\n\u001b[0m\u001b[1;32m      4\u001b[0m \u001b[0mprint\u001b[0m\u001b[0;34m(\u001b[0m\u001b[0mhashtag\u001b[0m\u001b[0;34m)\u001b[0m\u001b[0;34m\u001b[0m\u001b[0;34m\u001b[0m\u001b[0m\n",
      "\u001b[0;32m<__array_function__ internals>\u001b[0m in \u001b[0;36mdot\u001b[0;34m(*args, **kwargs)\u001b[0m\n",
      "\u001b[0;31mTypeError\u001b[0m: Cannot cast array data from dtype('float32') to dtype('<U32') according to the rule 'safe'"
     ]
    }
   ],
   "source": [
    "answer = 'AKJSNDJNASJNKDAS'\n",
    "for hashtag in hashtags_list:\n",
    "    print(np.dot(hashtag, meanvec_obama))\n",
    "print(hashtag)"
   ]
  },
  {
   "cell_type": "code",
   "execution_count": 15,
   "metadata": {},
   "outputs": [],
   "source": []
  },
  {
   "cell_type": "code",
   "execution_count": null,
   "metadata": {},
   "outputs": [],
   "source": []
  }
 ],
 "metadata": {
  "kernelspec": {
   "display_name": "Python 3",
   "language": "python",
   "name": "python3"
  },
  "language_info": {
   "codemirror_mode": {
    "name": "ipython",
    "version": 3
   },
   "file_extension": ".py",
   "mimetype": "text/x-python",
   "name": "python",
   "nbconvert_exporter": "python",
   "pygments_lexer": "ipython3",
   "version": "3.8.5"
  }
 },
 "nbformat": 4,
 "nbformat_minor": 4
}
