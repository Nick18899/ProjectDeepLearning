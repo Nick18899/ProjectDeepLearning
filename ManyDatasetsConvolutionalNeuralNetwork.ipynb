{
  "nbformat": 4,
  "nbformat_minor": 0,
  "metadata": {
    "accelerator": "GPU",
    "colab": {
      "provenance": [],
      "machine_shape": "hm",
      "include_colab_link": true
    },
    "kernelspec": {
      "display_name": "Python 3",
      "name": "python3"
    },
    "language_info": {
      "name": "python"
    }
  },
  "cells": [
    {
      "cell_type": "markdown",
      "metadata": {
        "id": "view-in-github",
        "colab_type": "text"
      },
      "source": [
        "<a href=\"https://colab.research.google.com/github/Nick18899/ProjectDeepLearning/blob/main/ManyDatasetsConvolutionalNeuralNetwork.ipynb\" target=\"_parent\"><img src=\"https://colab.research.google.com/assets/colab-badge.svg\" alt=\"Open In Colab\"/></a>"
      ]
    },
    {
      "cell_type": "code",
      "metadata": {
        "colab": {
          "base_uri": "https://localhost:8080/"
        },
        "id": "6o4inQCvUhy-",
        "outputId": "b1fd93c7-2e36-4dc1-9b3d-ce77de3574c0"
      },
      "source": [
        "import nltk\n",
        "!pip3 uninstall keras-nightly\n",
        "!pip3 install gensim\n",
        "!pip3 uninstall -y tensorflow\n",
        "!pip3 install keras==2.3.1\n",
        "!pip install ekphrasis torch transformers emoji swifter\n",
        "!pip install ekphrasis sentence-transformers\n",
        "!pip install -U bert-serving-server  # server\n",
        "!pip install -U bert-serving-client \n",
        "!pip install tensorflow==1.15.0\n",
        "!pip3 install h5py==2.10.0\n",
        "!pip install git+https://github.com/erikavaris/tokenizer.git\n",
        "!pip install stop-words\n",
        "!pip install pandas\n",
        "!rm ./tweets.csv* # Удалить дубликаты и старые версии файла на всякий случай\n",
        "#!cat './celebr.csv' | head -n 10\n",
        "nltk.download('stopwords')\n",
        "nltk.download('punkt')\n",
        "nltk.download('word_tokenize')"
      ],
      "execution_count": null,
      "outputs": [
        {
          "output_type": "stream",
          "name": "stdout",
          "text": [
            "\u001b[33mWARNING: Skipping keras-nightly as it is not installed.\u001b[0m\n",
            "Requirement already satisfied: gensim in /usr/local/lib/python3.7/dist-packages (3.6.0)\n",
            "Requirement already satisfied: scipy>=0.18.1 in /usr/local/lib/python3.7/dist-packages (from gensim) (1.4.1)\n",
            "Requirement already satisfied: smart-open>=1.2.1 in /usr/local/lib/python3.7/dist-packages (from gensim) (5.2.1)\n",
            "Requirement already satisfied: numpy>=1.11.3 in /usr/local/lib/python3.7/dist-packages (from gensim) (1.19.5)\n",
            "Requirement already satisfied: six>=1.5.0 in /usr/local/lib/python3.7/dist-packages (from gensim) (1.15.0)\n",
            "Found existing installation: tensorflow 1.15.2\n",
            "Uninstalling tensorflow-1.15.2:\n",
            "  Successfully uninstalled tensorflow-1.15.2\n",
            "Requirement already satisfied: keras==2.3.1 in /tensorflow-1.15.2/python3.7 (2.3.1)\n",
            "Requirement already satisfied: six>=1.9.0 in /usr/local/lib/python3.7/dist-packages (from keras==2.3.1) (1.15.0)\n",
            "Requirement already satisfied: numpy>=1.9.1 in /usr/local/lib/python3.7/dist-packages (from keras==2.3.1) (1.19.5)\n",
            "Requirement already satisfied: keras-preprocessing>=1.0.5 in /usr/local/lib/python3.7/dist-packages (from keras==2.3.1) (1.1.2)\n",
            "Requirement already satisfied: scipy>=0.14 in /usr/local/lib/python3.7/dist-packages (from keras==2.3.1) (1.4.1)\n",
            "Requirement already satisfied: pyyaml in /usr/local/lib/python3.7/dist-packages (from keras==2.3.1) (6.0)\n",
            "Requirement already satisfied: keras-applications>=1.0.6 in /tensorflow-1.15.2/python3.7 (from keras==2.3.1) (1.0.8)\n",
            "Requirement already satisfied: h5py in /usr/local/lib/python3.7/dist-packages (from keras==2.3.1) (2.10.0)\n",
            "Requirement already satisfied: ekphrasis in /usr/local/lib/python3.7/dist-packages (0.5.1)\n",
            "Requirement already satisfied: torch in /usr/local/lib/python3.7/dist-packages (1.10.0+cu111)\n",
            "Requirement already satisfied: transformers in /usr/local/lib/python3.7/dist-packages (4.13.0)\n",
            "Requirement already satisfied: emoji in /usr/local/lib/python3.7/dist-packages (1.6.1)\n",
            "Requirement already satisfied: swifter in /usr/local/lib/python3.7/dist-packages (1.0.9)\n",
            "Requirement already satisfied: numpy in /usr/local/lib/python3.7/dist-packages (from ekphrasis) (1.19.5)\n",
            "Requirement already satisfied: matplotlib in /usr/local/lib/python3.7/dist-packages (from ekphrasis) (3.2.2)\n",
            "Requirement already satisfied: ftfy in /usr/local/lib/python3.7/dist-packages (from ekphrasis) (6.0.3)\n",
            "Requirement already satisfied: ujson in /usr/local/lib/python3.7/dist-packages (from ekphrasis) (4.3.0)\n",
            "Requirement already satisfied: nltk in /usr/local/lib/python3.7/dist-packages (from ekphrasis) (3.2.5)\n",
            "Requirement already satisfied: termcolor in /usr/local/lib/python3.7/dist-packages (from ekphrasis) (1.1.0)\n",
            "Requirement already satisfied: tqdm in /usr/local/lib/python3.7/dist-packages (from ekphrasis) (4.62.3)\n",
            "Requirement already satisfied: colorama in /usr/local/lib/python3.7/dist-packages (from ekphrasis) (0.4.4)\n",
            "Requirement already satisfied: typing-extensions in /usr/local/lib/python3.7/dist-packages (from torch) (3.10.0.2)\n",
            "Requirement already satisfied: requests in /usr/local/lib/python3.7/dist-packages (from transformers) (2.23.0)\n",
            "Requirement already satisfied: filelock in /usr/local/lib/python3.7/dist-packages (from transformers) (3.4.0)\n",
            "Requirement already satisfied: sacremoses in /usr/local/lib/python3.7/dist-packages (from transformers) (0.0.46)\n",
            "Requirement already satisfied: importlib-metadata in /usr/local/lib/python3.7/dist-packages (from transformers) (4.8.2)\n",
            "Requirement already satisfied: packaging>=20.0 in /usr/local/lib/python3.7/dist-packages (from transformers) (21.3)\n",
            "Requirement already satisfied: pyyaml>=5.1 in /usr/local/lib/python3.7/dist-packages (from transformers) (6.0)\n",
            "Requirement already satisfied: regex!=2019.12.17 in /usr/local/lib/python3.7/dist-packages (from transformers) (2019.12.20)\n",
            "Requirement already satisfied: huggingface-hub<1.0,>=0.1.0 in /usr/local/lib/python3.7/dist-packages (from transformers) (0.2.1)\n",
            "Requirement already satisfied: tokenizers<0.11,>=0.10.1 in /usr/local/lib/python3.7/dist-packages (from transformers) (0.10.3)\n",
            "Requirement already satisfied: pyparsing!=3.0.5,>=2.0.2 in /usr/local/lib/python3.7/dist-packages (from packaging>=20.0->transformers) (3.0.6)\n",
            "Requirement already satisfied: parso>0.4.0 in /usr/local/lib/python3.7/dist-packages (from swifter) (0.8.3)\n",
            "Requirement already satisfied: dask[dataframe]>=2.10.0 in /usr/local/lib/python3.7/dist-packages (from swifter) (2.12.0)\n",
            "Requirement already satisfied: pandas>=1.0.0 in /usr/local/lib/python3.7/dist-packages (from swifter) (1.1.5)\n",
            "Requirement already satisfied: bleach>=3.1.1 in /usr/local/lib/python3.7/dist-packages (from swifter) (4.1.0)\n",
            "Requirement already satisfied: psutil>=5.6.6 in /usr/local/lib/python3.7/dist-packages (from swifter) (5.8.0)\n",
            "Requirement already satisfied: cloudpickle>=0.2.2 in /usr/local/lib/python3.7/dist-packages (from swifter) (1.3.0)\n",
            "Requirement already satisfied: ipywidgets>=7.0.0 in /usr/local/lib/python3.7/dist-packages (from swifter) (7.6.5)\n",
            "Requirement already satisfied: webencodings in /usr/local/lib/python3.7/dist-packages (from bleach>=3.1.1->swifter) (0.5.1)\n",
            "Requirement already satisfied: six>=1.9.0 in /usr/local/lib/python3.7/dist-packages (from bleach>=3.1.1->swifter) (1.15.0)\n",
            "Requirement already satisfied: toolz>=0.7.3 in /usr/local/lib/python3.7/dist-packages (from dask[dataframe]>=2.10.0->swifter) (0.11.2)\n",
            "Requirement already satisfied: fsspec>=0.6.0 in /usr/local/lib/python3.7/dist-packages (from dask[dataframe]>=2.10.0->swifter) (2021.11.1)\n",
            "Requirement already satisfied: partd>=0.3.10 in /usr/local/lib/python3.7/dist-packages (from dask[dataframe]>=2.10.0->swifter) (1.2.0)\n",
            "Requirement already satisfied: nbformat>=4.2.0 in /usr/local/lib/python3.7/dist-packages (from ipywidgets>=7.0.0->swifter) (5.1.3)\n",
            "Requirement already satisfied: jupyterlab-widgets>=1.0.0 in /usr/local/lib/python3.7/dist-packages (from ipywidgets>=7.0.0->swifter) (1.0.2)\n",
            "Requirement already satisfied: ipython>=4.0.0 in /usr/local/lib/python3.7/dist-packages (from ipywidgets>=7.0.0->swifter) (5.5.0)\n",
            "Requirement already satisfied: ipython-genutils~=0.2.0 in /usr/local/lib/python3.7/dist-packages (from ipywidgets>=7.0.0->swifter) (0.2.0)\n",
            "Requirement already satisfied: traitlets>=4.3.1 in /usr/local/lib/python3.7/dist-packages (from ipywidgets>=7.0.0->swifter) (5.1.1)\n",
            "Requirement already satisfied: ipykernel>=4.5.1 in /usr/local/lib/python3.7/dist-packages (from ipywidgets>=7.0.0->swifter) (4.10.1)\n",
            "Requirement already satisfied: widgetsnbextension~=3.5.0 in /usr/local/lib/python3.7/dist-packages (from ipywidgets>=7.0.0->swifter) (3.5.2)\n",
            "Requirement already satisfied: tornado>=4.0 in /usr/local/lib/python3.7/dist-packages (from ipykernel>=4.5.1->ipywidgets>=7.0.0->swifter) (5.1.1)\n",
            "Requirement already satisfied: jupyter-client in /usr/local/lib/python3.7/dist-packages (from ipykernel>=4.5.1->ipywidgets>=7.0.0->swifter) (5.3.5)\n",
            "Requirement already satisfied: simplegeneric>0.8 in /usr/local/lib/python3.7/dist-packages (from ipython>=4.0.0->ipywidgets>=7.0.0->swifter) (0.8.1)\n",
            "Requirement already satisfied: setuptools>=18.5 in /usr/local/lib/python3.7/dist-packages (from ipython>=4.0.0->ipywidgets>=7.0.0->swifter) (57.4.0)\n",
            "Requirement already satisfied: pickleshare in /usr/local/lib/python3.7/dist-packages (from ipython>=4.0.0->ipywidgets>=7.0.0->swifter) (0.7.5)\n",
            "Requirement already satisfied: pexpect in /usr/local/lib/python3.7/dist-packages (from ipython>=4.0.0->ipywidgets>=7.0.0->swifter) (4.8.0)\n",
            "Requirement already satisfied: decorator in /usr/local/lib/python3.7/dist-packages (from ipython>=4.0.0->ipywidgets>=7.0.0->swifter) (4.4.2)\n",
            "Requirement already satisfied: pygments in /usr/local/lib/python3.7/dist-packages (from ipython>=4.0.0->ipywidgets>=7.0.0->swifter) (2.6.1)\n",
            "Requirement already satisfied: prompt-toolkit<2.0.0,>=1.0.4 in /usr/local/lib/python3.7/dist-packages (from ipython>=4.0.0->ipywidgets>=7.0.0->swifter) (1.0.18)\n",
            "Requirement already satisfied: jsonschema!=2.5.0,>=2.4 in /usr/local/lib/python3.7/dist-packages (from nbformat>=4.2.0->ipywidgets>=7.0.0->swifter) (2.6.0)\n",
            "Requirement already satisfied: jupyter-core in /usr/local/lib/python3.7/dist-packages (from nbformat>=4.2.0->ipywidgets>=7.0.0->swifter) (4.9.1)\n",
            "Requirement already satisfied: pytz>=2017.2 in /usr/local/lib/python3.7/dist-packages (from pandas>=1.0.0->swifter) (2018.9)\n",
            "Requirement already satisfied: python-dateutil>=2.7.3 in /usr/local/lib/python3.7/dist-packages (from pandas>=1.0.0->swifter) (2.8.2)\n",
            "Requirement already satisfied: locket in /usr/local/lib/python3.7/dist-packages (from partd>=0.3.10->dask[dataframe]>=2.10.0->swifter) (0.2.1)\n",
            "Requirement already satisfied: wcwidth in /usr/local/lib/python3.7/dist-packages (from prompt-toolkit<2.0.0,>=1.0.4->ipython>=4.0.0->ipywidgets>=7.0.0->swifter) (0.2.5)\n",
            "Requirement already satisfied: notebook>=4.4.1 in /usr/local/lib/python3.7/dist-packages (from widgetsnbextension~=3.5.0->ipywidgets>=7.0.0->swifter) (5.3.1)\n",
            "Requirement already satisfied: nbconvert in /usr/local/lib/python3.7/dist-packages (from notebook>=4.4.1->widgetsnbextension~=3.5.0->ipywidgets>=7.0.0->swifter) (5.6.1)\n",
            "Requirement already satisfied: jinja2 in /usr/local/lib/python3.7/dist-packages (from notebook>=4.4.1->widgetsnbextension~=3.5.0->ipywidgets>=7.0.0->swifter) (2.11.3)\n",
            "Requirement already satisfied: Send2Trash in /usr/local/lib/python3.7/dist-packages (from notebook>=4.4.1->widgetsnbextension~=3.5.0->ipywidgets>=7.0.0->swifter) (1.8.0)\n",
            "Requirement already satisfied: terminado>=0.8.1 in /usr/local/lib/python3.7/dist-packages (from notebook>=4.4.1->widgetsnbextension~=3.5.0->ipywidgets>=7.0.0->swifter) (0.12.1)\n",
            "Requirement already satisfied: pyzmq>=13 in /usr/local/lib/python3.7/dist-packages (from jupyter-client->ipykernel>=4.5.1->ipywidgets>=7.0.0->swifter) (22.3.0)\n",
            "Requirement already satisfied: ptyprocess in /usr/local/lib/python3.7/dist-packages (from terminado>=0.8.1->notebook>=4.4.1->widgetsnbextension~=3.5.0->ipywidgets>=7.0.0->swifter) (0.7.0)\n",
            "Requirement already satisfied: zipp>=0.5 in /usr/local/lib/python3.7/dist-packages (from importlib-metadata->transformers) (3.6.0)\n",
            "Requirement already satisfied: MarkupSafe>=0.23 in /usr/local/lib/python3.7/dist-packages (from jinja2->notebook>=4.4.1->widgetsnbextension~=3.5.0->ipywidgets>=7.0.0->swifter) (2.0.1)\n",
            "Requirement already satisfied: cycler>=0.10 in /usr/local/lib/python3.7/dist-packages (from matplotlib->ekphrasis) (0.11.0)\n",
            "Requirement already satisfied: kiwisolver>=1.0.1 in /usr/local/lib/python3.7/dist-packages (from matplotlib->ekphrasis) (1.3.2)\n",
            "Requirement already satisfied: defusedxml in /usr/local/lib/python3.7/dist-packages (from nbconvert->notebook>=4.4.1->widgetsnbextension~=3.5.0->ipywidgets>=7.0.0->swifter) (0.7.1)\n",
            "Requirement already satisfied: pandocfilters>=1.4.1 in /usr/local/lib/python3.7/dist-packages (from nbconvert->notebook>=4.4.1->widgetsnbextension~=3.5.0->ipywidgets>=7.0.0->swifter) (1.5.0)\n",
            "Requirement already satisfied: entrypoints>=0.2.2 in /usr/local/lib/python3.7/dist-packages (from nbconvert->notebook>=4.4.1->widgetsnbextension~=3.5.0->ipywidgets>=7.0.0->swifter) (0.3)\n",
            "Requirement already satisfied: mistune<2,>=0.8.1 in /usr/local/lib/python3.7/dist-packages (from nbconvert->notebook>=4.4.1->widgetsnbextension~=3.5.0->ipywidgets>=7.0.0->swifter) (0.8.4)\n",
            "Requirement already satisfied: testpath in /usr/local/lib/python3.7/dist-packages (from nbconvert->notebook>=4.4.1->widgetsnbextension~=3.5.0->ipywidgets>=7.0.0->swifter) (0.5.0)\n",
            "Requirement already satisfied: chardet<4,>=3.0.2 in /usr/local/lib/python3.7/dist-packages (from requests->transformers) (3.0.4)\n",
            "Requirement already satisfied: urllib3!=1.25.0,!=1.25.1,<1.26,>=1.21.1 in /usr/local/lib/python3.7/dist-packages (from requests->transformers) (1.24.3)\n",
            "Requirement already satisfied: idna<3,>=2.5 in /usr/local/lib/python3.7/dist-packages (from requests->transformers) (2.10)\n",
            "Requirement already satisfied: certifi>=2017.4.17 in /usr/local/lib/python3.7/dist-packages (from requests->transformers) (2021.10.8)\n",
            "Requirement already satisfied: click in /usr/local/lib/python3.7/dist-packages (from sacremoses->transformers) (7.1.2)\n",
            "Requirement already satisfied: joblib in /usr/local/lib/python3.7/dist-packages (from sacremoses->transformers) (1.1.0)\n",
            "Requirement already satisfied: ekphrasis in /usr/local/lib/python3.7/dist-packages (0.5.1)\n",
            "Requirement already satisfied: sentence-transformers in /usr/local/lib/python3.7/dist-packages (2.1.0)\n",
            "Requirement already satisfied: ftfy in /usr/local/lib/python3.7/dist-packages (from ekphrasis) (6.0.3)\n",
            "Requirement already satisfied: matplotlib in /usr/local/lib/python3.7/dist-packages (from ekphrasis) (3.2.2)\n",
            "Requirement already satisfied: nltk in /usr/local/lib/python3.7/dist-packages (from ekphrasis) (3.2.5)\n",
            "Requirement already satisfied: tqdm in /usr/local/lib/python3.7/dist-packages (from ekphrasis) (4.62.3)\n",
            "Requirement already satisfied: termcolor in /usr/local/lib/python3.7/dist-packages (from ekphrasis) (1.1.0)\n",
            "Requirement already satisfied: numpy in /usr/local/lib/python3.7/dist-packages (from ekphrasis) (1.19.5)\n",
            "Requirement already satisfied: ujson in /usr/local/lib/python3.7/dist-packages (from ekphrasis) (4.3.0)\n",
            "Requirement already satisfied: colorama in /usr/local/lib/python3.7/dist-packages (from ekphrasis) (0.4.4)\n",
            "Requirement already satisfied: huggingface-hub in /usr/local/lib/python3.7/dist-packages (from sentence-transformers) (0.2.1)\n",
            "Requirement already satisfied: scipy in /usr/local/lib/python3.7/dist-packages (from sentence-transformers) (1.4.1)\n",
            "Requirement already satisfied: torch>=1.6.0 in /usr/local/lib/python3.7/dist-packages (from sentence-transformers) (1.10.0+cu111)\n",
            "Requirement already satisfied: tokenizers>=0.10.3 in /usr/local/lib/python3.7/dist-packages (from sentence-transformers) (0.10.3)\n",
            "Requirement already satisfied: torchvision in /usr/local/lib/python3.7/dist-packages (from sentence-transformers) (0.11.1+cu111)\n",
            "Requirement already satisfied: transformers<5.0.0,>=4.6.0 in /usr/local/lib/python3.7/dist-packages (from sentence-transformers) (4.13.0)\n",
            "Requirement already satisfied: scikit-learn in /usr/local/lib/python3.7/dist-packages (from sentence-transformers) (1.0.1)\n",
            "Requirement already satisfied: sentencepiece in /usr/local/lib/python3.7/dist-packages (from sentence-transformers) (0.1.96)\n",
            "Requirement already satisfied: typing-extensions in /usr/local/lib/python3.7/dist-packages (from torch>=1.6.0->sentence-transformers) (3.10.0.2)\n",
            "Requirement already satisfied: filelock in /usr/local/lib/python3.7/dist-packages (from transformers<5.0.0,>=4.6.0->sentence-transformers) (3.4.0)\n",
            "Requirement already satisfied: importlib-metadata in /usr/local/lib/python3.7/dist-packages (from transformers<5.0.0,>=4.6.0->sentence-transformers) (4.8.2)\n",
            "Requirement already satisfied: sacremoses in /usr/local/lib/python3.7/dist-packages (from transformers<5.0.0,>=4.6.0->sentence-transformers) (0.0.46)\n",
            "Requirement already satisfied: packaging>=20.0 in /usr/local/lib/python3.7/dist-packages (from transformers<5.0.0,>=4.6.0->sentence-transformers) (21.3)\n",
            "Requirement already satisfied: requests in /usr/local/lib/python3.7/dist-packages (from transformers<5.0.0,>=4.6.0->sentence-transformers) (2.23.0)\n",
            "Requirement already satisfied: regex!=2019.12.17 in /usr/local/lib/python3.7/dist-packages (from transformers<5.0.0,>=4.6.0->sentence-transformers) (2019.12.20)\n",
            "Requirement already satisfied: pyyaml>=5.1 in /usr/local/lib/python3.7/dist-packages (from transformers<5.0.0,>=4.6.0->sentence-transformers) (6.0)\n",
            "Requirement already satisfied: pyparsing!=3.0.5,>=2.0.2 in /usr/local/lib/python3.7/dist-packages (from packaging>=20.0->transformers<5.0.0,>=4.6.0->sentence-transformers) (3.0.6)\n",
            "Requirement already satisfied: wcwidth in /usr/local/lib/python3.7/dist-packages (from ftfy->ekphrasis) (0.2.5)\n",
            "Requirement already satisfied: zipp>=0.5 in /usr/local/lib/python3.7/dist-packages (from importlib-metadata->transformers<5.0.0,>=4.6.0->sentence-transformers) (3.6.0)\n",
            "Requirement already satisfied: python-dateutil>=2.1 in /usr/local/lib/python3.7/dist-packages (from matplotlib->ekphrasis) (2.8.2)\n",
            "Requirement already satisfied: kiwisolver>=1.0.1 in /usr/local/lib/python3.7/dist-packages (from matplotlib->ekphrasis) (1.3.2)\n",
            "Requirement already satisfied: cycler>=0.10 in /usr/local/lib/python3.7/dist-packages (from matplotlib->ekphrasis) (0.11.0)\n",
            "Requirement already satisfied: six>=1.5 in /usr/local/lib/python3.7/dist-packages (from python-dateutil>=2.1->matplotlib->ekphrasis) (1.15.0)\n",
            "Requirement already satisfied: chardet<4,>=3.0.2 in /usr/local/lib/python3.7/dist-packages (from requests->transformers<5.0.0,>=4.6.0->sentence-transformers) (3.0.4)\n",
            "Requirement already satisfied: idna<3,>=2.5 in /usr/local/lib/python3.7/dist-packages (from requests->transformers<5.0.0,>=4.6.0->sentence-transformers) (2.10)\n",
            "Requirement already satisfied: urllib3!=1.25.0,!=1.25.1,<1.26,>=1.21.1 in /usr/local/lib/python3.7/dist-packages (from requests->transformers<5.0.0,>=4.6.0->sentence-transformers) (1.24.3)\n",
            "Requirement already satisfied: certifi>=2017.4.17 in /usr/local/lib/python3.7/dist-packages (from requests->transformers<5.0.0,>=4.6.0->sentence-transformers) (2021.10.8)\n",
            "Requirement already satisfied: joblib in /usr/local/lib/python3.7/dist-packages (from sacremoses->transformers<5.0.0,>=4.6.0->sentence-transformers) (1.1.0)\n",
            "Requirement already satisfied: click in /usr/local/lib/python3.7/dist-packages (from sacremoses->transformers<5.0.0,>=4.6.0->sentence-transformers) (7.1.2)\n",
            "Requirement already satisfied: threadpoolctl>=2.0.0 in /usr/local/lib/python3.7/dist-packages (from scikit-learn->sentence-transformers) (3.0.0)\n",
            "Requirement already satisfied: pillow!=8.3.0,>=5.3.0 in /usr/local/lib/python3.7/dist-packages (from torchvision->sentence-transformers) (7.1.2)\n",
            "Requirement already satisfied: bert-serving-server in /usr/local/lib/python3.7/dist-packages (1.10.0)\n",
            "Requirement already satisfied: termcolor>=1.1 in /usr/local/lib/python3.7/dist-packages (from bert-serving-server) (1.1.0)\n",
            "Requirement already satisfied: numpy in /usr/local/lib/python3.7/dist-packages (from bert-serving-server) (1.19.5)\n",
            "Requirement already satisfied: GPUtil>=1.3.0 in /usr/local/lib/python3.7/dist-packages (from bert-serving-server) (1.4.0)\n",
            "Requirement already satisfied: pyzmq>=17.1.0 in /usr/local/lib/python3.7/dist-packages (from bert-serving-server) (22.3.0)\n",
            "Requirement already satisfied: six in /usr/local/lib/python3.7/dist-packages (from bert-serving-server) (1.15.0)\n",
            "Requirement already satisfied: bert-serving-client in /usr/local/lib/python3.7/dist-packages (1.10.0)\n",
            "Requirement already satisfied: pyzmq>=17.1.0 in /usr/local/lib/python3.7/dist-packages (from bert-serving-client) (22.3.0)\n",
            "Requirement already satisfied: numpy in /usr/local/lib/python3.7/dist-packages (from bert-serving-client) (1.19.5)\n",
            "Requirement already satisfied: tensorflow==1.15.0 in /usr/local/lib/python3.7/dist-packages (1.15.0)\n",
            "Requirement already satisfied: opt-einsum>=2.3.2 in /usr/local/lib/python3.7/dist-packages (from tensorflow==1.15.0) (3.3.0)\n",
            "Requirement already satisfied: tensorflow-estimator==1.15.1 in /tensorflow-1.15.2/python3.7 (from tensorflow==1.15.0) (1.15.1)\n",
            "Requirement already satisfied: wrapt>=1.11.1 in /usr/local/lib/python3.7/dist-packages (from tensorflow==1.15.0) (1.13.3)\n",
            "Requirement already satisfied: termcolor>=1.1.0 in /usr/local/lib/python3.7/dist-packages (from tensorflow==1.15.0) (1.1.0)\n",
            "Requirement already satisfied: tensorboard<1.16.0,>=1.15.0 in /tensorflow-1.15.2/python3.7 (from tensorflow==1.15.0) (1.15.0)\n",
            "Requirement already satisfied: google-pasta>=0.1.6 in /usr/local/lib/python3.7/dist-packages (from tensorflow==1.15.0) (0.2.0)\n",
            "Requirement already satisfied: numpy<2.0,>=1.16.0 in /usr/local/lib/python3.7/dist-packages (from tensorflow==1.15.0) (1.19.5)\n",
            "Requirement already satisfied: wheel>=0.26 in /usr/local/lib/python3.7/dist-packages (from tensorflow==1.15.0) (0.37.0)\n",
            "Requirement already satisfied: astor>=0.6.0 in /usr/local/lib/python3.7/dist-packages (from tensorflow==1.15.0) (0.8.1)\n",
            "Requirement already satisfied: absl-py>=0.7.0 in /usr/local/lib/python3.7/dist-packages (from tensorflow==1.15.0) (0.12.0)\n",
            "Requirement already satisfied: protobuf>=3.6.1 in /usr/local/lib/python3.7/dist-packages (from tensorflow==1.15.0) (3.17.3)\n",
            "Requirement already satisfied: six>=1.10.0 in /usr/local/lib/python3.7/dist-packages (from tensorflow==1.15.0) (1.15.0)\n",
            "Requirement already satisfied: keras-preprocessing>=1.0.5 in /usr/local/lib/python3.7/dist-packages (from tensorflow==1.15.0) (1.1.2)\n",
            "Requirement already satisfied: keras-applications>=1.0.8 in /tensorflow-1.15.2/python3.7 (from tensorflow==1.15.0) (1.0.8)\n",
            "Requirement already satisfied: grpcio>=1.8.6 in /usr/local/lib/python3.7/dist-packages (from tensorflow==1.15.0) (1.42.0)\n",
            "Requirement already satisfied: gast==0.2.2 in /usr/local/lib/python3.7/dist-packages (from tensorflow==1.15.0) (0.2.2)\n",
            "Requirement already satisfied: h5py in /usr/local/lib/python3.7/dist-packages (from keras-applications>=1.0.8->tensorflow==1.15.0) (2.10.0)\n",
            "Requirement already satisfied: markdown>=2.6.8 in /usr/local/lib/python3.7/dist-packages (from tensorboard<1.16.0,>=1.15.0->tensorflow==1.15.0) (3.3.6)\n",
            "Requirement already satisfied: werkzeug>=0.11.15 in /usr/local/lib/python3.7/dist-packages (from tensorboard<1.16.0,>=1.15.0->tensorflow==1.15.0) (1.0.1)\n",
            "Requirement already satisfied: setuptools>=41.0.0 in /usr/local/lib/python3.7/dist-packages (from tensorboard<1.16.0,>=1.15.0->tensorflow==1.15.0) (57.4.0)\n",
            "Requirement already satisfied: importlib-metadata>=4.4 in /usr/local/lib/python3.7/dist-packages (from markdown>=2.6.8->tensorboard<1.16.0,>=1.15.0->tensorflow==1.15.0) (4.8.2)\n",
            "Requirement already satisfied: zipp>=0.5 in /usr/local/lib/python3.7/dist-packages (from importlib-metadata>=4.4->markdown>=2.6.8->tensorboard<1.16.0,>=1.15.0->tensorflow==1.15.0) (3.6.0)\n",
            "Requirement already satisfied: typing-extensions>=3.6.4 in /usr/local/lib/python3.7/dist-packages (from importlib-metadata>=4.4->markdown>=2.6.8->tensorboard<1.16.0,>=1.15.0->tensorflow==1.15.0) (3.10.0.2)\n",
            "Requirement already satisfied: h5py==2.10.0 in /usr/local/lib/python3.7/dist-packages (2.10.0)\n",
            "Requirement already satisfied: six in /usr/local/lib/python3.7/dist-packages (from h5py==2.10.0) (1.15.0)\n",
            "Requirement already satisfied: numpy>=1.7 in /usr/local/lib/python3.7/dist-packages (from h5py==2.10.0) (1.19.5)\n",
            "Collecting git+https://github.com/erikavaris/tokenizer.git\n",
            "  Cloning https://github.com/erikavaris/tokenizer.git to /tmp/pip-req-build-941orjd6\n",
            "  Running command git clone -q https://github.com/erikavaris/tokenizer.git /tmp/pip-req-build-941orjd6\n",
            "Requirement already satisfied: nltk in /usr/local/lib/python3.7/dist-packages (from tokenizer==1.0.1) (3.2.5)\n",
            "Requirement already satisfied: six in /usr/local/lib/python3.7/dist-packages (from nltk->tokenizer==1.0.1) (1.15.0)\n",
            "Requirement already satisfied: stop-words in /usr/local/lib/python3.7/dist-packages (2018.7.23)\n",
            "Requirement already satisfied: pandas in /usr/local/lib/python3.7/dist-packages (1.1.5)\n",
            "Requirement already satisfied: python-dateutil>=2.7.3 in /usr/local/lib/python3.7/dist-packages (from pandas) (2.8.2)\n",
            "Requirement already satisfied: numpy>=1.15.4 in /usr/local/lib/python3.7/dist-packages (from pandas) (1.19.5)\n",
            "Requirement already satisfied: pytz>=2017.2 in /usr/local/lib/python3.7/dist-packages (from pandas) (2018.9)\n",
            "Requirement already satisfied: six>=1.5 in /usr/local/lib/python3.7/dist-packages (from python-dateutil>=2.7.3->pandas) (1.15.0)\n",
            "rm: cannot remove './tweets.csv*': No such file or directory\n",
            "[nltk_data] Downloading package stopwords to /root/nltk_data...\n",
            "[nltk_data]   Package stopwords is already up-to-date!\n",
            "[nltk_data] Downloading package punkt to /root/nltk_data...\n",
            "[nltk_data]   Package punkt is already up-to-date!\n",
            "[nltk_data] Error loading word_tokenize: Package 'word_tokenize' not\n",
            "[nltk_data]     found in index\n"
          ]
        },
        {
          "output_type": "execute_result",
          "data": {
            "text/plain": [
              "False"
            ]
          },
          "metadata": {},
          "execution_count": 69
        }
      ]
    },
    {
      "cell_type": "code",
      "metadata": {
        "colab": {
          "base_uri": "https://localhost:8080/"
        },
        "id": "UEDqx4WGmyqu",
        "outputId": "0bac949a-c8f1-4faa-b91e-b02845ff8f9c"
      },
      "source": [
        "%tensorflow_version 1.x\n",
        "!pip install -U torchviz\n",
        "!pip install ekphrasis torch transformers emoji swifter\n",
        "#import torch\n",
        "from transformers import AutoModel, AutoTokenizer \n",
        "from torch.utils.data import Dataset, DataLoader\n",
        "from sklearn.preprocessing import MultiLabelBinarizer\n",
        "!pip install ekphrasis sentence-transformers\n",
        "!pip install -U bert-serving-server  # server\n",
        "!pip install -U bert-serving-client  # client, independent of `bert-serving-server`\n",
        "from torch import nn\n",
        "import torch.optim as optim\n",
        "import numpy as np\n",
        "import torch.nn.functional as F\n",
        "import emoji\n",
        "from google.colab import drive\n",
        "from collections import Counter\n",
        "import os\n",
        "import matplotlib.pyplot as plt\n",
        "import pandas as pd\n",
        "import swifter\n",
        "from bert_serving.client import BertClient\n",
        "from nltk.tokenize import TweetTokenizer\n",
        "from ekphrasis.classes.preprocessor import TextPreProcessor\n",
        "from ekphrasis.classes.tokenizer import SocialTokenizer\n",
        "from ekphrasis.dicts.emoticons import emoticons\n",
        "!wget https://storage.googleapis.com/bert_models/2018_10_18/uncased_L-12_H-768_A-12.zip\n",
        "!unzip -o uncased_L-12_H-768_A-12.zip\n",
        "!nohup bert-serving-start -model_dir=./uncased_L-12_H-768_A-12 -num_worker=4 > out.file 2>&1 & \n",
        "bertClient = BertClient(check_length=False)"
      ],
      "execution_count": null,
      "outputs": [
        {
          "output_type": "stream",
          "name": "stdout",
          "text": [
            "Requirement already satisfied: torchviz in /usr/local/lib/python3.7/dist-packages (0.0.2)\n",
            "Requirement already satisfied: graphviz in /usr/local/lib/python3.7/dist-packages (from torchviz) (0.10.1)\n",
            "Requirement already satisfied: torch in /usr/local/lib/python3.7/dist-packages (from torchviz) (1.10.0+cu111)\n",
            "Requirement already satisfied: typing-extensions in /usr/local/lib/python3.7/dist-packages (from torch->torchviz) (3.10.0.2)\n",
            "Requirement already satisfied: ekphrasis in /usr/local/lib/python3.7/dist-packages (0.5.1)\n",
            "Requirement already satisfied: torch in /usr/local/lib/python3.7/dist-packages (1.10.0+cu111)\n",
            "Requirement already satisfied: transformers in /usr/local/lib/python3.7/dist-packages (4.13.0)\n",
            "Requirement already satisfied: emoji in /usr/local/lib/python3.7/dist-packages (1.6.1)\n",
            "Requirement already satisfied: swifter in /usr/local/lib/python3.7/dist-packages (1.0.9)\n",
            "Requirement already satisfied: colorama in /usr/local/lib/python3.7/dist-packages (from ekphrasis) (0.4.4)\n",
            "Requirement already satisfied: termcolor in /usr/local/lib/python3.7/dist-packages (from ekphrasis) (1.1.0)\n",
            "Requirement already satisfied: ftfy in /usr/local/lib/python3.7/dist-packages (from ekphrasis) (6.0.3)\n",
            "Requirement already satisfied: nltk in /usr/local/lib/python3.7/dist-packages (from ekphrasis) (3.2.5)\n",
            "Requirement already satisfied: matplotlib in /usr/local/lib/python3.7/dist-packages (from ekphrasis) (3.2.2)\n",
            "Requirement already satisfied: tqdm in /usr/local/lib/python3.7/dist-packages (from ekphrasis) (4.62.3)\n",
            "Requirement already satisfied: numpy in /usr/local/lib/python3.7/dist-packages (from ekphrasis) (1.19.5)\n",
            "Requirement already satisfied: ujson in /usr/local/lib/python3.7/dist-packages (from ekphrasis) (4.3.0)\n",
            "Requirement already satisfied: typing-extensions in /usr/local/lib/python3.7/dist-packages (from torch) (3.10.0.2)\n",
            "Requirement already satisfied: pyyaml>=5.1 in /usr/local/lib/python3.7/dist-packages (from transformers) (6.0)\n",
            "Requirement already satisfied: regex!=2019.12.17 in /usr/local/lib/python3.7/dist-packages (from transformers) (2019.12.20)\n",
            "Requirement already satisfied: sacremoses in /usr/local/lib/python3.7/dist-packages (from transformers) (0.0.46)\n",
            "Requirement already satisfied: requests in /usr/local/lib/python3.7/dist-packages (from transformers) (2.23.0)\n",
            "Requirement already satisfied: tokenizers<0.11,>=0.10.1 in /usr/local/lib/python3.7/dist-packages (from transformers) (0.10.3)\n",
            "Requirement already satisfied: packaging>=20.0 in /usr/local/lib/python3.7/dist-packages (from transformers) (21.3)\n",
            "Requirement already satisfied: importlib-metadata in /usr/local/lib/python3.7/dist-packages (from transformers) (4.8.2)\n",
            "Requirement already satisfied: filelock in /usr/local/lib/python3.7/dist-packages (from transformers) (3.4.0)\n",
            "Requirement already satisfied: huggingface-hub<1.0,>=0.1.0 in /usr/local/lib/python3.7/dist-packages (from transformers) (0.2.1)\n",
            "Requirement already satisfied: pyparsing!=3.0.5,>=2.0.2 in /usr/local/lib/python3.7/dist-packages (from packaging>=20.0->transformers) (3.0.6)\n",
            "Requirement already satisfied: psutil>=5.6.6 in /usr/local/lib/python3.7/dist-packages (from swifter) (5.8.0)\n",
            "Requirement already satisfied: ipywidgets>=7.0.0 in /usr/local/lib/python3.7/dist-packages (from swifter) (7.6.5)\n",
            "Requirement already satisfied: dask[dataframe]>=2.10.0 in /usr/local/lib/python3.7/dist-packages (from swifter) (2.12.0)\n",
            "Requirement already satisfied: bleach>=3.1.1 in /usr/local/lib/python3.7/dist-packages (from swifter) (4.1.0)\n",
            "Requirement already satisfied: cloudpickle>=0.2.2 in /usr/local/lib/python3.7/dist-packages (from swifter) (1.3.0)\n",
            "Requirement already satisfied: pandas>=1.0.0 in /usr/local/lib/python3.7/dist-packages (from swifter) (1.1.5)\n",
            "Requirement already satisfied: parso>0.4.0 in /usr/local/lib/python3.7/dist-packages (from swifter) (0.8.3)\n",
            "Requirement already satisfied: webencodings in /usr/local/lib/python3.7/dist-packages (from bleach>=3.1.1->swifter) (0.5.1)\n",
            "Requirement already satisfied: six>=1.9.0 in /usr/local/lib/python3.7/dist-packages (from bleach>=3.1.1->swifter) (1.15.0)\n",
            "Requirement already satisfied: fsspec>=0.6.0 in /usr/local/lib/python3.7/dist-packages (from dask[dataframe]>=2.10.0->swifter) (2021.11.1)\n",
            "Requirement already satisfied: partd>=0.3.10 in /usr/local/lib/python3.7/dist-packages (from dask[dataframe]>=2.10.0->swifter) (1.2.0)\n",
            "Requirement already satisfied: toolz>=0.7.3 in /usr/local/lib/python3.7/dist-packages (from dask[dataframe]>=2.10.0->swifter) (0.11.2)\n",
            "Requirement already satisfied: ipython>=4.0.0 in /usr/local/lib/python3.7/dist-packages (from ipywidgets>=7.0.0->swifter) (5.5.0)\n",
            "Requirement already satisfied: traitlets>=4.3.1 in /usr/local/lib/python3.7/dist-packages (from ipywidgets>=7.0.0->swifter) (5.1.1)\n",
            "Requirement already satisfied: ipykernel>=4.5.1 in /usr/local/lib/python3.7/dist-packages (from ipywidgets>=7.0.0->swifter) (4.10.1)\n",
            "Requirement already satisfied: widgetsnbextension~=3.5.0 in /usr/local/lib/python3.7/dist-packages (from ipywidgets>=7.0.0->swifter) (3.5.2)\n",
            "Requirement already satisfied: nbformat>=4.2.0 in /usr/local/lib/python3.7/dist-packages (from ipywidgets>=7.0.0->swifter) (5.1.3)\n",
            "Requirement already satisfied: ipython-genutils~=0.2.0 in /usr/local/lib/python3.7/dist-packages (from ipywidgets>=7.0.0->swifter) (0.2.0)\n",
            "Requirement already satisfied: jupyterlab-widgets>=1.0.0 in /usr/local/lib/python3.7/dist-packages (from ipywidgets>=7.0.0->swifter) (1.0.2)\n",
            "Requirement already satisfied: tornado>=4.0 in /usr/local/lib/python3.7/dist-packages (from ipykernel>=4.5.1->ipywidgets>=7.0.0->swifter) (5.1.1)\n",
            "Requirement already satisfied: jupyter-client in /usr/local/lib/python3.7/dist-packages (from ipykernel>=4.5.1->ipywidgets>=7.0.0->swifter) (5.3.5)\n",
            "Requirement already satisfied: prompt-toolkit<2.0.0,>=1.0.4 in /usr/local/lib/python3.7/dist-packages (from ipython>=4.0.0->ipywidgets>=7.0.0->swifter) (1.0.18)\n",
            "Requirement already satisfied: setuptools>=18.5 in /usr/local/lib/python3.7/dist-packages (from ipython>=4.0.0->ipywidgets>=7.0.0->swifter) (57.4.0)\n",
            "Requirement already satisfied: decorator in /usr/local/lib/python3.7/dist-packages (from ipython>=4.0.0->ipywidgets>=7.0.0->swifter) (4.4.2)\n",
            "Requirement already satisfied: simplegeneric>0.8 in /usr/local/lib/python3.7/dist-packages (from ipython>=4.0.0->ipywidgets>=7.0.0->swifter) (0.8.1)\n",
            "Requirement already satisfied: pygments in /usr/local/lib/python3.7/dist-packages (from ipython>=4.0.0->ipywidgets>=7.0.0->swifter) (2.6.1)\n",
            "Requirement already satisfied: pickleshare in /usr/local/lib/python3.7/dist-packages (from ipython>=4.0.0->ipywidgets>=7.0.0->swifter) (0.7.5)\n",
            "Requirement already satisfied: pexpect in /usr/local/lib/python3.7/dist-packages (from ipython>=4.0.0->ipywidgets>=7.0.0->swifter) (4.8.0)\n",
            "Requirement already satisfied: jupyter-core in /usr/local/lib/python3.7/dist-packages (from nbformat>=4.2.0->ipywidgets>=7.0.0->swifter) (4.9.1)\n",
            "Requirement already satisfied: jsonschema!=2.5.0,>=2.4 in /usr/local/lib/python3.7/dist-packages (from nbformat>=4.2.0->ipywidgets>=7.0.0->swifter) (2.6.0)\n",
            "Requirement already satisfied: python-dateutil>=2.7.3 in /usr/local/lib/python3.7/dist-packages (from pandas>=1.0.0->swifter) (2.8.2)\n",
            "Requirement already satisfied: pytz>=2017.2 in /usr/local/lib/python3.7/dist-packages (from pandas>=1.0.0->swifter) (2018.9)\n",
            "Requirement already satisfied: locket in /usr/local/lib/python3.7/dist-packages (from partd>=0.3.10->dask[dataframe]>=2.10.0->swifter) (0.2.1)\n",
            "Requirement already satisfied: wcwidth in /usr/local/lib/python3.7/dist-packages (from prompt-toolkit<2.0.0,>=1.0.4->ipython>=4.0.0->ipywidgets>=7.0.0->swifter) (0.2.5)\n",
            "Requirement already satisfied: notebook>=4.4.1 in /usr/local/lib/python3.7/dist-packages (from widgetsnbextension~=3.5.0->ipywidgets>=7.0.0->swifter) (5.3.1)\n",
            "Requirement already satisfied: jinja2 in /usr/local/lib/python3.7/dist-packages (from notebook>=4.4.1->widgetsnbextension~=3.5.0->ipywidgets>=7.0.0->swifter) (2.11.3)\n",
            "Requirement already satisfied: nbconvert in /usr/local/lib/python3.7/dist-packages (from notebook>=4.4.1->widgetsnbextension~=3.5.0->ipywidgets>=7.0.0->swifter) (5.6.1)\n",
            "Requirement already satisfied: Send2Trash in /usr/local/lib/python3.7/dist-packages (from notebook>=4.4.1->widgetsnbextension~=3.5.0->ipywidgets>=7.0.0->swifter) (1.8.0)\n",
            "Requirement already satisfied: terminado>=0.8.1 in /usr/local/lib/python3.7/dist-packages (from notebook>=4.4.1->widgetsnbextension~=3.5.0->ipywidgets>=7.0.0->swifter) (0.12.1)\n",
            "Requirement already satisfied: pyzmq>=13 in /usr/local/lib/python3.7/dist-packages (from jupyter-client->ipykernel>=4.5.1->ipywidgets>=7.0.0->swifter) (22.3.0)\n",
            "Requirement already satisfied: ptyprocess in /usr/local/lib/python3.7/dist-packages (from terminado>=0.8.1->notebook>=4.4.1->widgetsnbextension~=3.5.0->ipywidgets>=7.0.0->swifter) (0.7.0)\n",
            "Requirement already satisfied: zipp>=0.5 in /usr/local/lib/python3.7/dist-packages (from importlib-metadata->transformers) (3.6.0)\n",
            "Requirement already satisfied: MarkupSafe>=0.23 in /usr/local/lib/python3.7/dist-packages (from jinja2->notebook>=4.4.1->widgetsnbextension~=3.5.0->ipywidgets>=7.0.0->swifter) (2.0.1)\n",
            "Requirement already satisfied: cycler>=0.10 in /usr/local/lib/python3.7/dist-packages (from matplotlib->ekphrasis) (0.11.0)\n",
            "Requirement already satisfied: kiwisolver>=1.0.1 in /usr/local/lib/python3.7/dist-packages (from matplotlib->ekphrasis) (1.3.2)\n",
            "Requirement already satisfied: testpath in /usr/local/lib/python3.7/dist-packages (from nbconvert->notebook>=4.4.1->widgetsnbextension~=3.5.0->ipywidgets>=7.0.0->swifter) (0.5.0)\n",
            "Requirement already satisfied: mistune<2,>=0.8.1 in /usr/local/lib/python3.7/dist-packages (from nbconvert->notebook>=4.4.1->widgetsnbextension~=3.5.0->ipywidgets>=7.0.0->swifter) (0.8.4)\n",
            "Requirement already satisfied: entrypoints>=0.2.2 in /usr/local/lib/python3.7/dist-packages (from nbconvert->notebook>=4.4.1->widgetsnbextension~=3.5.0->ipywidgets>=7.0.0->swifter) (0.3)\n",
            "Requirement already satisfied: defusedxml in /usr/local/lib/python3.7/dist-packages (from nbconvert->notebook>=4.4.1->widgetsnbextension~=3.5.0->ipywidgets>=7.0.0->swifter) (0.7.1)\n",
            "Requirement already satisfied: pandocfilters>=1.4.1 in /usr/local/lib/python3.7/dist-packages (from nbconvert->notebook>=4.4.1->widgetsnbextension~=3.5.0->ipywidgets>=7.0.0->swifter) (1.5.0)\n",
            "Requirement already satisfied: idna<3,>=2.5 in /usr/local/lib/python3.7/dist-packages (from requests->transformers) (2.10)\n",
            "Requirement already satisfied: chardet<4,>=3.0.2 in /usr/local/lib/python3.7/dist-packages (from requests->transformers) (3.0.4)\n",
            "Requirement already satisfied: urllib3!=1.25.0,!=1.25.1,<1.26,>=1.21.1 in /usr/local/lib/python3.7/dist-packages (from requests->transformers) (1.24.3)\n",
            "Requirement already satisfied: certifi>=2017.4.17 in /usr/local/lib/python3.7/dist-packages (from requests->transformers) (2021.10.8)\n",
            "Requirement already satisfied: joblib in /usr/local/lib/python3.7/dist-packages (from sacremoses->transformers) (1.1.0)\n",
            "Requirement already satisfied: click in /usr/local/lib/python3.7/dist-packages (from sacremoses->transformers) (7.1.2)\n",
            "Requirement already satisfied: ekphrasis in /usr/local/lib/python3.7/dist-packages (0.5.1)\n",
            "Requirement already satisfied: sentence-transformers in /usr/local/lib/python3.7/dist-packages (2.1.0)\n",
            "Requirement already satisfied: numpy in /usr/local/lib/python3.7/dist-packages (from ekphrasis) (1.19.5)\n",
            "Requirement already satisfied: termcolor in /usr/local/lib/python3.7/dist-packages (from ekphrasis) (1.1.0)\n",
            "Requirement already satisfied: ftfy in /usr/local/lib/python3.7/dist-packages (from ekphrasis) (6.0.3)\n",
            "Requirement already satisfied: tqdm in /usr/local/lib/python3.7/dist-packages (from ekphrasis) (4.62.3)\n",
            "Requirement already satisfied: colorama in /usr/local/lib/python3.7/dist-packages (from ekphrasis) (0.4.4)\n",
            "Requirement already satisfied: nltk in /usr/local/lib/python3.7/dist-packages (from ekphrasis) (3.2.5)\n",
            "Requirement already satisfied: ujson in /usr/local/lib/python3.7/dist-packages (from ekphrasis) (4.3.0)\n",
            "Requirement already satisfied: matplotlib in /usr/local/lib/python3.7/dist-packages (from ekphrasis) (3.2.2)\n",
            "Requirement already satisfied: sentencepiece in /usr/local/lib/python3.7/dist-packages (from sentence-transformers) (0.1.96)\n",
            "Requirement already satisfied: huggingface-hub in /usr/local/lib/python3.7/dist-packages (from sentence-transformers) (0.2.1)\n",
            "Requirement already satisfied: transformers<5.0.0,>=4.6.0 in /usr/local/lib/python3.7/dist-packages (from sentence-transformers) (4.13.0)\n",
            "Requirement already satisfied: tokenizers>=0.10.3 in /usr/local/lib/python3.7/dist-packages (from sentence-transformers) (0.10.3)\n",
            "Requirement already satisfied: torch>=1.6.0 in /usr/local/lib/python3.7/dist-packages (from sentence-transformers) (1.10.0+cu111)\n",
            "Requirement already satisfied: scikit-learn in /usr/local/lib/python3.7/dist-packages (from sentence-transformers) (1.0.1)\n",
            "Requirement already satisfied: scipy in /usr/local/lib/python3.7/dist-packages (from sentence-transformers) (1.4.1)\n",
            "Requirement already satisfied: torchvision in /usr/local/lib/python3.7/dist-packages (from sentence-transformers) (0.11.1+cu111)\n",
            "Requirement already satisfied: typing-extensions in /usr/local/lib/python3.7/dist-packages (from torch>=1.6.0->sentence-transformers) (3.10.0.2)\n",
            "Requirement already satisfied: importlib-metadata in /usr/local/lib/python3.7/dist-packages (from transformers<5.0.0,>=4.6.0->sentence-transformers) (4.8.2)\n",
            "Requirement already satisfied: regex!=2019.12.17 in /usr/local/lib/python3.7/dist-packages (from transformers<5.0.0,>=4.6.0->sentence-transformers) (2019.12.20)\n",
            "Requirement already satisfied: packaging>=20.0 in /usr/local/lib/python3.7/dist-packages (from transformers<5.0.0,>=4.6.0->sentence-transformers) (21.3)\n",
            "Requirement already satisfied: filelock in /usr/local/lib/python3.7/dist-packages (from transformers<5.0.0,>=4.6.0->sentence-transformers) (3.4.0)\n",
            "Requirement already satisfied: requests in /usr/local/lib/python3.7/dist-packages (from transformers<5.0.0,>=4.6.0->sentence-transformers) (2.23.0)\n",
            "Requirement already satisfied: sacremoses in /usr/local/lib/python3.7/dist-packages (from transformers<5.0.0,>=4.6.0->sentence-transformers) (0.0.46)\n",
            "Requirement already satisfied: pyyaml>=5.1 in /usr/local/lib/python3.7/dist-packages (from transformers<5.0.0,>=4.6.0->sentence-transformers) (6.0)\n",
            "Requirement already satisfied: pyparsing!=3.0.5,>=2.0.2 in /usr/local/lib/python3.7/dist-packages (from packaging>=20.0->transformers<5.0.0,>=4.6.0->sentence-transformers) (3.0.6)\n",
            "Requirement already satisfied: wcwidth in /usr/local/lib/python3.7/dist-packages (from ftfy->ekphrasis) (0.2.5)\n",
            "Requirement already satisfied: zipp>=0.5 in /usr/local/lib/python3.7/dist-packages (from importlib-metadata->transformers<5.0.0,>=4.6.0->sentence-transformers) (3.6.0)\n",
            "Requirement already satisfied: kiwisolver>=1.0.1 in /usr/local/lib/python3.7/dist-packages (from matplotlib->ekphrasis) (1.3.2)\n",
            "Requirement already satisfied: python-dateutil>=2.1 in /usr/local/lib/python3.7/dist-packages (from matplotlib->ekphrasis) (2.8.2)\n",
            "Requirement already satisfied: cycler>=0.10 in /usr/local/lib/python3.7/dist-packages (from matplotlib->ekphrasis) (0.11.0)\n",
            "Requirement already satisfied: six>=1.5 in /usr/local/lib/python3.7/dist-packages (from python-dateutil>=2.1->matplotlib->ekphrasis) (1.15.0)\n",
            "Requirement already satisfied: chardet<4,>=3.0.2 in /usr/local/lib/python3.7/dist-packages (from requests->transformers<5.0.0,>=4.6.0->sentence-transformers) (3.0.4)\n",
            "Requirement already satisfied: certifi>=2017.4.17 in /usr/local/lib/python3.7/dist-packages (from requests->transformers<5.0.0,>=4.6.0->sentence-transformers) (2021.10.8)\n",
            "Requirement already satisfied: idna<3,>=2.5 in /usr/local/lib/python3.7/dist-packages (from requests->transformers<5.0.0,>=4.6.0->sentence-transformers) (2.10)\n",
            "Requirement already satisfied: urllib3!=1.25.0,!=1.25.1,<1.26,>=1.21.1 in /usr/local/lib/python3.7/dist-packages (from requests->transformers<5.0.0,>=4.6.0->sentence-transformers) (1.24.3)\n",
            "Requirement already satisfied: joblib in /usr/local/lib/python3.7/dist-packages (from sacremoses->transformers<5.0.0,>=4.6.0->sentence-transformers) (1.1.0)\n",
            "Requirement already satisfied: click in /usr/local/lib/python3.7/dist-packages (from sacremoses->transformers<5.0.0,>=4.6.0->sentence-transformers) (7.1.2)\n",
            "Requirement already satisfied: threadpoolctl>=2.0.0 in /usr/local/lib/python3.7/dist-packages (from scikit-learn->sentence-transformers) (3.0.0)\n",
            "Requirement already satisfied: pillow!=8.3.0,>=5.3.0 in /usr/local/lib/python3.7/dist-packages (from torchvision->sentence-transformers) (7.1.2)\n",
            "Requirement already satisfied: bert-serving-server in /usr/local/lib/python3.7/dist-packages (1.10.0)\n",
            "Requirement already satisfied: pyzmq>=17.1.0 in /usr/local/lib/python3.7/dist-packages (from bert-serving-server) (22.3.0)\n",
            "Requirement already satisfied: numpy in /usr/local/lib/python3.7/dist-packages (from bert-serving-server) (1.19.5)\n",
            "Requirement already satisfied: six in /usr/local/lib/python3.7/dist-packages (from bert-serving-server) (1.15.0)\n",
            "Requirement already satisfied: termcolor>=1.1 in /usr/local/lib/python3.7/dist-packages (from bert-serving-server) (1.1.0)\n",
            "Requirement already satisfied: GPUtil>=1.3.0 in /usr/local/lib/python3.7/dist-packages (from bert-serving-server) (1.4.0)\n",
            "Requirement already satisfied: bert-serving-client in /usr/local/lib/python3.7/dist-packages (1.10.0)\n",
            "Requirement already satisfied: pyzmq>=17.1.0 in /usr/local/lib/python3.7/dist-packages (from bert-serving-client) (22.3.0)\n",
            "Requirement already satisfied: numpy in /usr/local/lib/python3.7/dist-packages (from bert-serving-client) (1.19.5)\n",
            "--2021-12-14 13:34:57--  https://storage.googleapis.com/bert_models/2018_10_18/uncased_L-12_H-768_A-12.zip\n",
            "Resolving storage.googleapis.com (storage.googleapis.com)... 64.233.170.128, 108.177.11.128, 74.125.31.128, ...\n",
            "Connecting to storage.googleapis.com (storage.googleapis.com)|64.233.170.128|:443... connected.\n",
            "HTTP request sent, awaiting response... 200 OK\n",
            "Length: 407727028 (389M) [application/zip]\n",
            "Saving to: ‘uncased_L-12_H-768_A-12.zip.2’\n",
            "\n",
            "uncased_L-12_H-768_ 100%[===================>] 388.84M  62.9MB/s    in 6.7s    \n",
            "\n",
            "2021-12-14 13:35:04 (57.6 MB/s) - ‘uncased_L-12_H-768_A-12.zip.2’ saved [407727028/407727028]\n",
            "\n",
            "Archive:  uncased_L-12_H-768_A-12.zip\n",
            "  inflating: uncased_L-12_H-768_A-12/bert_model.ckpt.meta  \n",
            "  inflating: uncased_L-12_H-768_A-12/bert_model.ckpt.data-00000-of-00001  \n",
            "  inflating: uncased_L-12_H-768_A-12/vocab.txt  \n",
            "  inflating: uncased_L-12_H-768_A-12/bert_model.ckpt.index  \n",
            "  inflating: uncased_L-12_H-768_A-12/bert_config.json  \n"
          ]
        }
      ]
    },
    {
      "cell_type": "code",
      "metadata": {
        "id": "FSXPvaDSUqkK"
      },
      "source": [
        "from google.colab import drive\n",
        "from collections import Counter\n",
        "import pandas as pd\n",
        "import numpy as np\n",
        "import keras\n",
        "from tokenizer import tokenizer\n",
        "from keras.preprocessing.text import Tokenizer\n",
        "import matplotlib.pyplot as plt\n",
        "from sklearn import metrics\n",
        "from sklearn import datasets\n",
        "import pandas as pd\n",
        "from sklearn.cluster import KMeans, AgglomerativeClustering, AffinityPropagation, SpectralClustering\n",
        "from stop_words import get_stop_words\n",
        "import nltk\n",
        "import os\n",
        "from nltk.corpus import stopwords\n",
        "from tokenizer import tokenizer\n",
        "from nltk.tokenize import word_tokenize\n",
        "from sklearn.preprocessing import Normalizer\n",
        "from sklearn.model_selection import train_test_split\n",
        "import keras\n",
        "from keras.models import Sequential, Model\n",
        "from keras.layers import Dense, Dropout, Activation, Input, Embedding, Conv1D, GlobalMaxPool1D\n",
        "from keras.preprocessing.text import Tokenizer\n",
        "from keras.preprocessing.sequence import pad_sequences\n",
        "from keras.callbacks import TensorBoard  \n",
        "from keras.callbacks import EarlyStopping\n",
        "import tensorflow as tf\n",
        "import keras, keras.layers as L\n",
        "from google.colab import drive\n",
        "from keras.models import Sequential, Model\n",
        "from keras.layers import Dense, Dropout, Activation, Input, Embedding, Conv1D, GlobalMaxPool1D\n",
        "from keras.preprocessing.text import Tokenizer\n",
        "from keras.preprocessing.sequence import pad_sequences\n",
        "from gensim.models import Phrases\n",
        "from gensim.models import Word2Vec\n",
        "import matplotlib.pyplot as plt\n",
        "from sklearn.preprocessing import MultiLabelBinarizer\n",
        "import numpy as np\n",
        "import keras\n",
        "from keras.models import Sequential, Model\n",
        "from keras.layers import Dense, Dropout, Activation, Input, Embedding, Conv1D, GlobalMaxPool1D\n",
        "from keras.preprocessing.text import Tokenizer\n",
        "from keras.preprocessing.sequence import pad_sequences\n",
        "from keras.callbacks import TensorBoard  \n",
        "from keras.callbacks import EarlyStopping\n",
        "import tensorflow as tf\n",
        "from sklearn.model_selection import train_test_split\n",
        "import pickle\n",
        "from keras.utils import plot_model\n",
        "from keras.callbacks import TensorBoard  \n",
        "from keras.callbacks import EarlyStopping\n",
        "import keras.callbacks\n",
        "import tensorflow as tf\n",
        "from keras.preprocessing.sequence import pad_sequences\n",
        "from keras import backend as K\n",
        "\n",
        "!pip install -q kaggle"
      ],
      "execution_count": null,
      "outputs": []
    },
    {
      "cell_type": "code",
      "metadata": {
        "id": "CH6-9W9jYk5r"
      },
      "source": [
        "def _download_recourses():\n",
        "  drive.mount('/content/gdrive')\n",
        "  os.environ['KAGGLE_CONFIG_DIR'] = \"/content/gdrive/My Drive\"\n",
        "  %cd /content/gdrive/My Drive/Kaggle\n",
        "  !rm *.csv *.zip\n",
        "  #!yes | kaggle datasets download -d manchunhui/us-election-2020-tweets\n",
        "  #!unzip -o us-election-2020-tweets.zip\n",
        "  #!yes | kaggle datasets download -d wjia26/epl-teams-twitter-sentiment-dataset\n",
        "  #!unzip -o epl-teams-twitter-sentiment-dataset.zip \n",
        "  #!yes | kaggle datasets download -d alaix14/bitcoin-tweets-20160101-to-20190329\n",
        "  #!unzip -o bitcoin-tweets-20160101-to-20190329.zip\n",
        "  #!yes | kaggle datasets download -d yazanshannak/us-covid-tweets\n",
        "  #!unzip -o us-covid-tweets.zip\n",
        "  #!yes | kaggle datasets download -d monogenea/game-of-thrones-twitter\n",
        "  #!unzip -o game-of-thrones-twitter.zip\n",
        "  #!yes | kaggle datasets download -d aellatif/covid19\n",
        "  #!unzip -o covid19.zip\n",
        "  !yes | kaggle datasets download -d nick1899/new-twitter-data\n",
        "  !unzip -o new-twitter-data.zip\n",
        "  #!yes | kaggle datasets download -d rgupta09/world-cup-2018-tweets\n",
        "  #!unzip -o world-cup-2018-tweets.zip\n",
        "  #!cat hashtag_donaldtrump.csv | tail -n 10"
      ],
      "execution_count": null,
      "outputs": []
    },
    {
      "cell_type": "code",
      "metadata": {
        "id": "zpM2R4z2V3cC"
      },
      "source": [
        "def _new_data_load_from_files():\n",
        "  #unparsed_data = pd.read_csv('./all.csv', lineterminator='\\n',\n",
        "  #                              usecols=[' full_text', ' user_name', ' likes'])\n",
        "  #unparsed_data.rename(columns = {' full_text':'tweet'}, inplace=True)\n",
        "  #data = unparsed_data.iloc[[index for index, value in unparsed_data.tweet.str.contains('#').iteritems() if value]].reset_index(drop=True).sample(n=3000000, random_state=1)\n",
        "  #data = data.reset_index(drop=True)\n",
        "  data1_unparsed = pd.read_csv('./datum2.csv', lineterminator='\\n',\n",
        "                                usecols=['full_text', 'likes', 'user_name'])\n",
        "  '''data1_unparsed = pd.read_csv('./bigboy.csv', lineterminator='\\n',\n",
        "                                usecols=['full_text', 'user_name', 'likes'])'''\n",
        "  data1_unparsed.rename(columns = {'full_text':'tweet'}, inplace=True)\n",
        "  data1 = data1_unparsed.iloc[[index for index, value in data1_unparsed.tweet.str.contains('#').iteritems() if value]].reset_index(drop=True).sample(n=4000000, random_state=1)\n",
        "  #1 -- 3400000; 2 -- 4000000; 3 --\n",
        "  data1.rename(columns={'likes': 'number_of_likes', 'tweet':'content', 'user_name':'author'},inplace=True)\n",
        "  #data.rename(columns={' likes': 'number_of_likes', 'tweet':'content', ' user_name':'author'},inplace=True)\n",
        "  #data = data.reset_index(drop=True)\n",
        "  data1 = data1.reset_index(drop=True)\n",
        "  #data = data.append(data1, ignore_index=True)\n",
        "  #data = data.reset_index(drop=True)\n",
        "  return data1"
      ],
      "execution_count": null,
      "outputs": []
    },
    {
      "cell_type": "code",
      "metadata": {
        "id": "cXNwrZ1fYll_"
      },
      "source": [
        "def _bulk_load_from_files():\n",
        "    trump_unparsed_data = pd.read_csv('./hashtag_donaldtrump.csv', lineterminator='\\n',\n",
        "                                usecols=['likes', 'retweet_count', 'user_followers_count', 'tweet', 'user_name'])\n",
        "    biden_unparsed_data = pd.read_csv('./hashtag_joebiden.csv', lineterminator='\\n',\n",
        "                                usecols=['likes', 'retweet_count', 'user_followers_count', 'tweet', 'user_name'])\n",
        "    football = pd.read_csv('./2020-07-09 till 2020-09-19.csv', lineterminator='\\n',\n",
        "                                usecols=['username', 'retweet_count', 'text', 'search_query'])\n",
        "    football2 = pd.read_csv('./2020-09-20 till 2020-10-13.csv', lineterminator='\\n',\n",
        "                                usecols=['username', 'retweet_count', 'text', 'search_query'])\n",
        "    bitcoin = pd.read_csv('tweets.csv', lineterminator='\\n', delimiter=';', skiprows=0,\n",
        "                                usecols=['user', 'text\\r', 'likes'])\n",
        "    GoT = pd.read_csv('gotTwitter.csv', lineterminator='\\n',\n",
        "                                usecols=['screen_name', 'text', 'display_text_width'])\n",
        "    Fifa = pd.read_csv('FIFA.csv', lineterminator='\\n',\n",
        "                                usecols=['len', 'Orig_Tweet', 'RTs'])\n",
        "    covid_11 = pd.read_csv('covid-19_tw.csv', lineterminator='\\n',\n",
        "                                usecols=['Tweet ID', 'Tweet', 'Favorited'])\n",
        "    covid_12 = pd.read_csv('db_tw.csv', lineterminator='\\n',\n",
        "                                    usecols=['Tweet ID', 'Tweet', 'Favorited'])\n",
        "    covid_11 = covid_11.append(covid_12)\n",
        "    covid_11.rename(columns={'Favorited':'likes', 'Tweet ID':'user_name', 'Tweet': 'tweet'},inplace=True)\n",
        "    covid_11 = covid_11.sort_values(by = 'likes',  ascending=False)\n",
        "    covid_11 = covid_11.reset_index(drop=True)\n",
        "    covid_11 = covid_11.iloc[[index for index, value in covid_11.tweet.str.contains('#').iteritems() if value]].reset_index(drop=True).sample(n=800000, random_state=1)\n",
        "    Fifa.rename(columns={'RTs':'likes', 'len':'user_name', 'Orig_Tweet': 'tweet'},inplace=True)\n",
        "    Fifa = Fifa.iloc[[index for index, value in Fifa.tweet.str.contains('#').iteritems() if value]].reset_index(drop=True).sample(n=200000, random_state=1)\n",
        "    GoT.rename(columns={'display_text_width':'likes', 'screen_name':'user_name', 'text': 'tweet'},inplace=True)\n",
        "    GoT = GoT.iloc[[index for index, value in GoT.tweet.str.contains('#').iteritems() if value]].reset_index(drop=True).sample(n=100000, random_state=1)\n",
        "    bitcoin.rename(columns={'text':'tweet', 'user':'user_name', 'text\\r': 'tweet'},inplace=True)\n",
        "    bitcoin = bitcoin.sort_values(by = 'likes',  ascending=False)\n",
        "    bitcoin = bitcoin[:1000000]\n",
        "    bitcoin = bitcoin.reset_index(drop=True)\n",
        "    bitcoin = bitcoin.iloc[[index for index, value in bitcoin.tweet.str.contains('#').iteritems() if value]].reset_index(drop=True).sample(n=200000, random_state=1)\n",
        "    football.append(football2)\n",
        "    football.reset_index(drop=True)\n",
        "    unparsed_data = trump_unparsed_data.append(biden_unparsed_data)\n",
        "    unparsed_data.drop(columns = ['user_followers_count', 'retweet_count'],inplace=True, axis=1)\n",
        "    football.rename(columns={'retweet_count': 'likes', 'text':'tweet', 'username':'user_name'},inplace=True)\n",
        "    football['search_query'] = football['search_query'].apply(lambda x: x.split(' OR '))\n",
        "    football = football.iloc[[index for index, value in football.tweet.str.contains('#').iteritems() if value]].reset_index(drop=True).sample(n=200000, random_state=1)\n",
        "    football.rename(columns={'likes': 'number_of_likes', 'tweet':'content', 'user_name':'author'},inplace=True)\n",
        "    data = unparsed_data.iloc[[index for index, value in unparsed_data.tweet.str.contains('#').iteritems() if value]].reset_index(drop=True).sample(n=400000, random_state=1)\n",
        "    data = data.append(bitcoin)\n",
        "    data = data.append(GoT)\n",
        "    data = data.append(Fifa)\n",
        "    data = data.append(covid_11)\n",
        "    data = data.reset_index(drop=True)\n",
        "    data.rename(columns={'likes': 'number_of_likes', 'tweet':'content', 'user_name':'author'},inplace=True)\n",
        "    #data.drop(columns = 'user_followers_count',inplace=True, axis=1) #потом переписать, удалив celebreties\n",
        "    return data, football\n",
        "    \n"
      ],
      "execution_count": null,
      "outputs": []
    },
    {
      "cell_type": "code",
      "metadata": {
        "id": "NIOjRbztDo-9"
      },
      "source": [
        "tokenizer = AutoTokenizer.from_pretrained(\"bert-base-uncased\", normalization=True, use_fast=False)"
      ],
      "execution_count": null,
      "outputs": []
    },
    {
      "cell_type": "code",
      "metadata": {
        "id": "UmkLt2Ur6Q4H"
      },
      "source": [
        "def _extract_tags(tweets: pd.Series):\n",
        "  return tweets.apply(lambda lstOfTokens: [token for token in lstOfTokens if token.startswith('#')])\n",
        "\n",
        "def _tokenize(row_tweets: pd.Series):\n",
        "  print(\"---TOKENIZING TWEETS NOW---\")\n",
        "  text_processor = TextPreProcessor(\n",
        "    normalize=['url', 'email', 'percent', 'money', 'phone', 'user',\n",
        "        'time', 'url', 'date', 'number'],\n",
        "    annotate={\"hashtag\",# \"allcaps\", \n",
        "              \"elongated\", \"repeated\",\n",
        "        'emphasis', 'censored'},\n",
        "    fix_html=True,  # fix HTML tokens\n",
        "    segmenter=\"twitter\", \n",
        "    corrector=\"twitter\", \n",
        "    #unpack_hashtags=True,  # perform word segmentation on hashtags\n",
        "    unpack_contractions=True,  # Unpack contractions (can't -> can not)\n",
        "    spell_correct_elong=False,  # spell correction for elongated words\n",
        "    tokenizer=SocialTokenizer(lowercase=True).tokenize,\n",
        "    dicts=[emoticons]\n",
        "  )\n",
        "  return row_tweets.apply(text_processor.pre_process_doc)"
      ],
      "execution_count": null,
      "outputs": []
    },
    {
      "cell_type": "code",
      "metadata": {
        "colab": {
          "base_uri": "https://localhost:8080/"
        },
        "id": "EsCjOAfAZM-T",
        "outputId": "00621f52-001e-4a3f-e845-f717affea82f"
      },
      "source": [
        "_download_recourses()\n",
        "!wget 'https://raw.githubusercontent.com/Nick18899/Dataset/main/celebr.csv'"
      ],
      "execution_count": null,
      "outputs": [
        {
          "output_type": "stream",
          "name": "stdout",
          "text": [
            "Drive already mounted at /content/gdrive; to attempt to forcibly remount, call drive.mount(\"/content/gdrive\", force_remount=True).\n",
            "/content/gdrive/My Drive/Kaggle\n",
            "Downloading new-twitter-data.zip to /content/gdrive/My Drive/Kaggle\n",
            "100% 2.37G/2.37G [00:23<00:00, 137MB/s]\n",
            "100% 2.37G/2.37G [00:23<00:00, 108MB/s]\n",
            "Archive:  new-twitter-data.zip\n",
            "  inflating: bigboy.csv              \n",
            "  inflating: datum1.csv              \n",
            "  inflating: datum2.csv              \n",
            "  inflating: datum3.csv              \n",
            "  inflating: test.csv                \n",
            "--2021-12-14 13:37:32--  https://raw.githubusercontent.com/Nick18899/Dataset/main/celebr.csv\n",
            "Resolving raw.githubusercontent.com (raw.githubusercontent.com)... 185.199.109.133, 185.199.108.133, 185.199.110.133, ...\n",
            "Connecting to raw.githubusercontent.com (raw.githubusercontent.com)|185.199.109.133|:443... connected.\n",
            "HTTP request sent, awaiting response... 200 OK\n",
            "Length: 7881958 (7.5M) [text/plain]\n",
            "Saving to: ‘celebr.csv’\n",
            "\n",
            "celebr.csv          100%[===================>]   7.52M  --.-KB/s    in 0.1s    \n",
            "\n",
            "2021-12-14 13:37:32 (51.8 MB/s) - ‘celebr.csv’ saved [7881958/7881958]\n",
            "\n"
          ]
        }
      ]
    },
    {
      "cell_type": "markdown",
      "metadata": {
        "id": "GBSMjYyJnlum"
      },
      "source": [
        "# Парсинг датасета и запихивание его в dataframe"
      ]
    },
    {
      "cell_type": "markdown",
      "metadata": {
        "id": "4d1lP1GSnnxH"
      },
      "source": [
        "# Добавление других датасетов"
      ]
    },
    {
      "cell_type": "code",
      "metadata": {
        "id": "rke5CQTLZDW3"
      },
      "source": [
        "#new_dataset, football = _bulk_load_from_files()\n",
        "data = _new_data_load_from_files()\n",
        "data = data.reset_index(drop=True)\n",
        "#print(new_dataset)"
      ],
      "execution_count": null,
      "outputs": []
    },
    {
      "cell_type": "code",
      "metadata": {
        "id": "ZoTkcwAoqJ_u"
      },
      "source": [
        "def _filter_bad_tweets(data: pd.DataFrame):\n",
        "  data = data[data['content'].apply(lambda tweet: 10 < len(tweet) < 1000000)].reset_index(drop=True)\n",
        "  data = data[data['tags'].apply(lambda lst: 5 > len(lst) > 0)].reset_index(drop=True)\n",
        "  return data"
      ],
      "execution_count": null,
      "outputs": []
    },
    {
      "cell_type": "code",
      "metadata": {
        "id": "uirFgq7AdM7n"
      },
      "source": [
        "def summing_of_tags(football: pd.DataFrame):\n",
        "  for i in range (0, football['tags'].size):\n",
        "    football['tags'].iloc[i].extend(football['search_query'].iloc[i])\n",
        "  return football"
      ],
      "execution_count": null,
      "outputs": []
    },
    {
      "cell_type": "markdown",
      "metadata": {
        "id": "kp2eGMvgneYD"
      },
      "source": [
        "# Предподготовка текстов твитов для последующей векторизации, разбиение текстов на токены при помощи токенайзера\n",
        "\n",
        "https://github.com/cbaziotis/ekphrasis -- используемый токенайзер"
      ]
    },
    {
      "cell_type": "code",
      "metadata": {
        "colab": {
          "base_uri": "https://localhost:8080/"
        },
        "id": "eNjQO2n297uJ",
        "outputId": "d631bbe8-a571-4826-8561-9d8fee00cb2f"
      },
      "source": [
        "%cd /root\n",
        "!yes | kaggle datasets download -d nick1899/ekphrasis-stats\n",
        "!jar -xvf ekphrasis-stats.zip\n",
        "%cd /content"
      ],
      "execution_count": null,
      "outputs": [
        {
          "output_type": "stream",
          "name": "stdout",
          "text": [
            "/root\n",
            "Downloading ekphrasis-stats.zip to /root\n",
            "100% 203M/203M [00:01<00:00, 127MB/s]\n",
            "100% 203M/203M [00:01<00:00, 117MB/s]\n",
            " inflated: .ekphrasis/stats/english/counts_1grams.txt\n",
            " inflated: .ekphrasis/stats/english/counts_2grams.txt\n",
            " inflated: .ekphrasis/stats/twitter/counts_1grams.json\n",
            " inflated: .ekphrasis/stats/twitter/counts_1grams.pickle\n",
            " inflated: .ekphrasis/stats/twitter/counts_1grams.txt\n",
            " inflated: .ekphrasis/stats/twitter/counts_2grams.json\n",
            " inflated: .ekphrasis/stats/twitter/counts_2grams.txt\n",
            " inflated: .ekphrasis/stats/twitter_2018/counts_1grams.txt\n",
            " inflated: .ekphrasis/stats/twitter_2018/counts_2grams.txt\n",
            "/content\n"
          ]
        }
      ]
    },
    {
      "cell_type": "code",
      "source": [
        "data.head()"
      ],
      "metadata": {
        "colab": {
          "base_uri": "https://localhost:8080/",
          "height": 206
        },
        "id": "PlpfxHX79x8O",
        "outputId": "0d4c1e5c-779d-40f9-ec0e-78fbf9f2f54d"
      },
      "execution_count": null,
      "outputs": [
        {
          "output_type": "execute_result",
          "data": {
            "text/html": [
              "<div>\n",
              "<style scoped>\n",
              "    .dataframe tbody tr th:only-of-type {\n",
              "        vertical-align: middle;\n",
              "    }\n",
              "\n",
              "    .dataframe tbody tr th {\n",
              "        vertical-align: top;\n",
              "    }\n",
              "\n",
              "    .dataframe thead th {\n",
              "        text-align: right;\n",
              "    }\n",
              "</style>\n",
              "<table border=\"1\" class=\"dataframe\">\n",
              "  <thead>\n",
              "    <tr style=\"text-align: right;\">\n",
              "      <th></th>\n",
              "      <th>content</th>\n",
              "      <th>author</th>\n",
              "      <th>number_of_likes</th>\n",
              "    </tr>\n",
              "  </thead>\n",
              "  <tbody>\n",
              "    <tr>\n",
              "      <th>0</th>\n",
              "      <td>@jmonlyjm Uhhhhhhh baby chickie minie😚\\nWE MIS...</td>\n",
              "      <td>KINGPJM1310</td>\n",
              "      <td>2</td>\n",
              "    </tr>\n",
              "    <tr>\n",
              "      <th>1</th>\n",
              "      <td>@BiggBoss  If people talk behind your back, it...</td>\n",
              "      <td>Saif68394021</td>\n",
              "      <td>0</td>\n",
              "    </tr>\n",
              "    <tr>\n",
              "      <th>2</th>\n",
              "      <td>Congrats to @PhD_GSA graduate Eman Mayah &amp;amp;...</td>\n",
              "      <td>PhD_GSA</td>\n",
              "      <td>2</td>\n",
              "    </tr>\n",
              "    <tr>\n",
              "      <th>3</th>\n",
              "      <td>No word can explain the vibrant crowd at Kasar...</td>\n",
              "      <td>geffmomanyi</td>\n",
              "      <td>1</td>\n",
              "    </tr>\n",
              "    <tr>\n",
              "      <th>4</th>\n",
              "      <td>Among the greatest reasons for the high status...</td>\n",
              "      <td>MianSad63622281</td>\n",
              "      <td>0</td>\n",
              "    </tr>\n",
              "  </tbody>\n",
              "</table>\n",
              "</div>"
            ],
            "text/plain": [
              "                                             content  ... number_of_likes\n",
              "0  @jmonlyjm Uhhhhhhh baby chickie minie😚\\nWE MIS...  ...               2\n",
              "1  @BiggBoss  If people talk behind your back, it...  ...               0\n",
              "2  Congrats to @PhD_GSA graduate Eman Mayah &amp;...  ...               2\n",
              "3  No word can explain the vibrant crowd at Kasar...  ...               1\n",
              "4  Among the greatest reasons for the high status...  ...               0\n",
              "\n",
              "[5 rows x 3 columns]"
            ]
          },
          "metadata": {},
          "execution_count": 82
        }
      ]
    },
    {
      "cell_type": "code",
      "metadata": {
        "id": "IHDDftaYe4BN",
        "colab": {
          "base_uri": "https://localhost:8080/"
        },
        "outputId": "1359e0fa-4228-4b70-d2ea-cc9cad907e76"
      },
      "source": [
        "data['content'] = _tokenize(data['content'])\n",
        "#football['content'] = _tokenize(football['content'])\n",
        "data['tags'] = _extract_tags(data['content'])\n",
        "#football['tags'] = _extract_tags(football['content'])\n",
        "#football = summing_of_tags(football)\n",
        "#football.head()\n"
      ],
      "execution_count": null,
      "outputs": [
        {
          "output_type": "stream",
          "name": "stdout",
          "text": [
            "---TOKENIZING TWEETS NOW---\n",
            "Reading twitter - 1grams ...\n"
          ]
        }
      ]
    },
    {
      "cell_type": "code",
      "metadata": {
        "id": "OaTKo4TZnbgi"
      },
      "source": [
        "#football.reset_index(drop=True)\n",
        "#football1 = football\n",
        "#data.drop(columns = 'number_of_shares', inplace=True, axis=1)"
      ],
      "execution_count": null,
      "outputs": []
    },
    {
      "cell_type": "code",
      "metadata": {
        "id": "7K2u2GbV5VVC"
      },
      "source": [
        "#football.columns.to_list()"
      ],
      "execution_count": null,
      "outputs": []
    },
    {
      "cell_type": "code",
      "metadata": {
        "id": "SSYcNF0e5KWI"
      },
      "source": [
        "#football = football.drop(columns = 'search_query', inplace=True, axis=1)"
      ],
      "execution_count": null,
      "outputs": []
    },
    {
      "cell_type": "code",
      "metadata": {
        "id": "40jsDOiFfQAn"
      },
      "source": [
        "#cols = data.columns.to_list()\n",
        "#football1 = football1[cols]"
      ],
      "execution_count": null,
      "outputs": []
    },
    {
      "cell_type": "code",
      "metadata": {
        "id": "cGbOoigqn11B"
      },
      "source": [
        "#data = data.append(football1,ignore_index=True)\n",
        "#data = data.reset_index(drop=True)"
      ],
      "execution_count": null,
      "outputs": []
    },
    {
      "cell_type": "code",
      "metadata": {
        "id": "Cd7rtiu9aHso"
      },
      "source": [
        "#football1 = football1.iloc[0:0]"
      ],
      "execution_count": null,
      "outputs": []
    },
    {
      "cell_type": "code",
      "metadata": {
        "colab": {
          "base_uri": "https://localhost:8080/"
        },
        "id": "0DF6hQy1GTG5",
        "outputId": "6c77af3a-4cde-4bb6-c001-bb597d5497df"
      },
      "source": [
        "data.shape"
      ],
      "execution_count": null,
      "outputs": [
        {
          "output_type": "execute_result",
          "data": {
            "text/plain": [
              "(4000000, 4)"
            ]
          },
          "metadata": {},
          "execution_count": 90
        }
      ]
    },
    {
      "cell_type": "code",
      "source": [
        "data.head()"
      ],
      "metadata": {
        "colab": {
          "base_uri": "https://localhost:8080/",
          "height": 206
        },
        "id": "BOyThX1S7Umx",
        "outputId": "c9cf577f-b66f-4598-8c49-41b10d0aa785"
      },
      "execution_count": null,
      "outputs": [
        {
          "output_type": "execute_result",
          "data": {
            "text/html": [
              "<div>\n",
              "<style scoped>\n",
              "    .dataframe tbody tr th:only-of-type {\n",
              "        vertical-align: middle;\n",
              "    }\n",
              "\n",
              "    .dataframe tbody tr th {\n",
              "        vertical-align: top;\n",
              "    }\n",
              "\n",
              "    .dataframe thead th {\n",
              "        text-align: right;\n",
              "    }\n",
              "</style>\n",
              "<table border=\"1\" class=\"dataframe\">\n",
              "  <thead>\n",
              "    <tr style=\"text-align: right;\">\n",
              "      <th></th>\n",
              "      <th>content</th>\n",
              "      <th>author</th>\n",
              "      <th>number_of_likes</th>\n",
              "      <th>tags</th>\n",
              "    </tr>\n",
              "  </thead>\n",
              "  <tbody>\n",
              "    <tr>\n",
              "      <th>0</th>\n",
              "      <td>[&lt;user&gt;, uh, &lt;elongated&gt;, baby, chickie, minie...</td>\n",
              "      <td>KINGPJM1310</td>\n",
              "      <td>2</td>\n",
              "      <td>[#jiminie, #jiminwrap2021, #parkjimin]</td>\n",
              "    </tr>\n",
              "    <tr>\n",
              "      <th>1</th>\n",
              "      <td>[&lt;user&gt;, if, people, talk, behind, your, back,...</td>\n",
              "      <td>Saif68394021</td>\n",
              "      <td>0</td>\n",
              "      <td>[#bbkingkaran, #karankundrra, #bb15]</td>\n",
              "    </tr>\n",
              "    <tr>\n",
              "      <th>2</th>\n",
              "      <td>[congrats, to, &lt;user&gt;, graduate, eman, mayah, ...</td>\n",
              "      <td>PhD_GSA</td>\n",
              "      <td>2</td>\n",
              "      <td>[#etpac21]</td>\n",
              "    </tr>\n",
              "    <tr>\n",
              "      <th>3</th>\n",
              "      <td>[no, word, can, explain, the, vibrant, crowd, ...</td>\n",
              "      <td>geffmomanyi</td>\n",
              "      <td>1</td>\n",
              "      <td>[#azimiolaumoja]</td>\n",
              "    </tr>\n",
              "    <tr>\n",
              "      <th>4</th>\n",
              "      <td>[among, the, greatest, reasons, for, the, high...</td>\n",
              "      <td>MianSad63622281</td>\n",
              "      <td>0</td>\n",
              "      <td>[#امام_اہلسنت_کانفرس_خیرپور]</td>\n",
              "    </tr>\n",
              "  </tbody>\n",
              "</table>\n",
              "</div>"
            ],
            "text/plain": [
              "                                             content  ...                                    tags\n",
              "0  [<user>, uh, <elongated>, baby, chickie, minie...  ...  [#jiminie, #jiminwrap2021, #parkjimin]\n",
              "1  [<user>, if, people, talk, behind, your, back,...  ...    [#bbkingkaran, #karankundrra, #bb15]\n",
              "2  [congrats, to, <user>, graduate, eman, mayah, ...  ...                              [#etpac21]\n",
              "3  [no, word, can, explain, the, vibrant, crowd, ...  ...                        [#azimiolaumoja]\n",
              "4  [among, the, greatest, reasons, for, the, high...  ...            [#امام_اہلسنت_کانفرس_خیرپور]\n",
              "\n",
              "[5 rows x 4 columns]"
            ]
          },
          "metadata": {},
          "execution_count": 91
        }
      ]
    },
    {
      "cell_type": "code",
      "metadata": {
        "id": "FcrX5EIGcM6t"
      },
      "source": [
        "#T = tokenizer.TweetTokenizer(preserve_case=False, preserve_handles=False, preserve_hashes=True, regularize=True, preserve_len=False, preserve_emoji=True, preserve_url=False)\n",
        "stop_words = list(get_stop_words('en'))\n",
        "nltk_words = list(set(stopwords.words('english')))\n",
        "data = _filter_bad_tweets(data)"
      ],
      "execution_count": null,
      "outputs": []
    },
    {
      "cell_type": "markdown",
      "metadata": {
        "id": "p8-DSS8Fn5Yi"
      },
      "source": [
        "# Скачивание эмбеддингов"
      ]
    },
    {
      "cell_type": "code",
      "metadata": {
        "colab": {
          "base_uri": "https://localhost:8080/"
        },
        "id": "2aZp_aUQnR8U",
        "outputId": "3a5f5757-a83b-421e-e5f2-dea2506a6578"
      },
      "source": [
        "#import gensim.downloader\n",
        "#EMBEDDINGS_DIMENSIONS = 100 #размерность векторов\n",
        "#glove_vectors = gensim.downloader.load('glove-twitter-' + str(EMBEDDINGS_DIMENSIONS)) ## Импорт эмбеддингов при помощи оберкти gensim\n",
        "# Допустимые размерности векторов: 25, 50, 100, 200\n",
        "# Чтобы посмотреть список эмбеддингов: gensim.downloader.info(name_only=True)\n",
        "data.shape"
      ],
      "execution_count": null,
      "outputs": [
        {
          "output_type": "execute_result",
          "data": {
            "text/plain": [
              "(2719004, 4)"
            ]
          },
          "metadata": {},
          "execution_count": 93
        }
      ]
    },
    {
      "cell_type": "code",
      "metadata": {
        "id": "qAyae7Ww5BDT"
      },
      "source": [
        "#data = data1"
      ],
      "execution_count": null,
      "outputs": []
    },
    {
      "cell_type": "markdown",
      "metadata": {
        "id": "umK3kFqzn3f_"
      },
      "source": [
        "# Удаление стоп-слов, знаков препинания и слов, отсутствующих в словаре\n",
        "\n",
        "---\n",
        "\n",
        "\n"
      ]
    },
    {
      "cell_type": "code",
      "metadata": {
        "id": "3F4d7gZqnyDt"
      },
      "source": [
        "def filtering (data: pd.DataFrame):\n",
        "  #data = data.apply(lambda separatedTweet: list(filter(lambda token: not ('#' in token), separatedTweet)))\n",
        "  filters=['!','\"','$','%','&','(',')','*','+',',','-','.','/',':',';','<','=','>','?','[','\\\\',']','^','_','`','{','|','}','~','\\t','\\n']\n",
        "  #filters=['!','\"','@','#','$','%','&','(',')','*','+',',','-','.','/',':',';','<','=','>','?','[','\\\\',']','^','_','`','{','|','}','~','\\t','\\n']\n",
        "\n",
        "  data = data.apply(lambda tweet: list(filter(lambda word: not (word in filters), tweet))) #убираем знаки препинания\n",
        "  return data\n",
        "\n",
        "data['content'] = filtering(data['content'])\n",
        "#data['content'] = data['content'].apply(lambda tweet: list(filter(lambda word: word in glove_vectors.vocab.keys(), tweet))) #убираем левые слова\n",
        "#data['content'] = data['content'].apply(lambda tweet: list(filter(lambda word: not (word in nltk_words), tweet))) #убираем стоп-слова"
      ],
      "execution_count": null,
      "outputs": []
    },
    {
      "cell_type": "code",
      "metadata": {
        "colab": {
          "base_uri": "https://localhost:8080/"
        },
        "id": "HStscxJRBqsA",
        "outputId": "5cf8e756-3d16-4665-bc51-2c6ca2185003"
      },
      "source": [
        "%cd /content/gdrive/My Drive/Models_alpha_version"
      ],
      "execution_count": null,
      "outputs": [
        {
          "output_type": "stream",
          "name": "stdout",
          "text": [
            "/content/gdrive/My Drive/Models_alpha_version\n"
          ]
        }
      ]
    },
    {
      "cell_type": "code",
      "metadata": {
        "id": "BZAhC2oOqlN7"
      },
      "source": [
        "from pathlib import Path\n",
        "\n",
        "my_file = Path(\"./word2vec.model\")\n",
        "if my_file.is_file():\n",
        "  model = Word2Vec.load(\"word2vec.model\")\n",
        "  #model.train(data['content'], total_examples=model.corpus_count, epochs=model.epochs)\n",
        "else:\n",
        "  model = Word2Vec(data['content'], min_count=70)\n",
        "  #model = Word2Vec(min_count=70)"
      ],
      "execution_count": null,
      "outputs": []
    },
    {
      "cell_type": "code",
      "metadata": {
        "id": "_iW12jJECc11"
      },
      "source": [
        "with open('company_data.pkl', 'rb') as k:\n",
        "    mdb = pickle.load(k)"
      ],
      "execution_count": null,
      "outputs": []
    },
    {
      "cell_type": "code",
      "source": [
        "from gensim.test.utils import common_texts, get_tmpfile\n",
        "from gensim.models import Word2Vec\n",
        "from gensim.models.callbacks import CallbackAny2Vec\n",
        "\n",
        "class callback(CallbackAny2Vec):\n",
        "\n",
        "    def __init__(self):\n",
        "        self.epoch = 0\n",
        "\n",
        "    def on_epoch_end(self, model):\n",
        "        loss = model.get_latest_training_loss()\n",
        "        print('Loss after epoch {}: {}'.format(self.epoch, loss))\n",
        "        self.epoch += 1"
      ],
      "metadata": {
        "id": "huEJjOdMv2aR"
      },
      "execution_count": null,
      "outputs": []
    },
    {
      "cell_type": "code",
      "source": [
        "#model.build_vocab(data['content'], update = True)\n",
        "#model.train(data['content'], total_examples=model.corpus_count, epochs=model.epochs)"
      ],
      "metadata": {
        "id": "RxHRLNvqMd4x"
      },
      "execution_count": null,
      "outputs": []
    },
    {
      "cell_type": "code",
      "metadata": {
        "colab": {
          "base_uri": "https://localhost:8080/"
        },
        "id": "aX3S0WAerdxB",
        "outputId": "87373e25-db0d-4021-ee4a-ed54e670c063"
      },
      "source": [
        "#model1 = Word2Vec.load(\"word2vec.model\")\n",
        "words = list(model.wv.vocab)\n",
        "len(words)\n",
        "#46792"
      ],
      "execution_count": null,
      "outputs": [
        {
          "output_type": "execute_result",
          "data": {
            "text/plain": [
              "46792"
            ]
          },
          "metadata": {},
          "execution_count": 101
        }
      ]
    },
    {
      "cell_type": "code",
      "source": [
        "'''model1 = Word2Vec([[\"cat\", \"say\", \"meow\"], [\"dog\", \"say\", \"woof\"]], min_count=1)\n",
        "model1.build_vocab([['potoatoes', 'and', 'farmers']], update=True)\n",
        "model1.train([['potoatoes', 'and', 'farmers']], total_examples=model1.corpus_count, epochs=model1.epochs)\n",
        "model1['cat']'''"
      ],
      "metadata": {
        "colab": {
          "base_uri": "https://localhost:8080/",
          "height": 70
        },
        "id": "Mr9VuGENZsny",
        "outputId": "de66e0fa-4315-4181-e3ce-eb6bc7848e2a"
      },
      "execution_count": null,
      "outputs": [
        {
          "output_type": "execute_result",
          "data": {
            "application/vnd.google.colaboratory.intrinsic+json": {
              "type": "string"
            },
            "text/plain": [
              "'model1 = Word2Vec([[\"cat\", \"say\", \"meow\"], [\"dog\", \"say\", \"woof\"]], min_count=1)\\nmodel1.build_vocab([[\\'potoatoes\\', \\'and\\', \\'farmers\\']], update=True)\\nmodel1.train([[\\'potoatoes\\', \\'and\\', \\'farmers\\']], total_examples=model1.corpus_count, epochs=model1.epochs)\\nmodel1[\\'cat\\']'"
            ]
          },
          "metadata": {},
          "execution_count": 102
        }
      ]
    },
    {
      "cell_type": "code",
      "source": [
        "with open('cluster_data.pkl', 'rb') as f:\n",
        "    dict_of_vectors = pickle.load(f)"
      ],
      "metadata": {
        "id": "Vc4URmERZ4vq"
      },
      "execution_count": null,
      "outputs": []
    },
    {
      "cell_type": "code",
      "source": [
        "#model.save(\"word2vec.model\")"
      ],
      "metadata": {
        "id": "kXjvmZxt_noa"
      },
      "execution_count": null,
      "outputs": []
    },
    {
      "cell_type": "code",
      "metadata": {
        "colab": {
          "base_uri": "https://localhost:8080/"
        },
        "id": "0XSVRnmPgJi9",
        "outputId": "2e0001d6-e48d-4b13-f21a-62fafb69ee88"
      },
      "source": [
        "model.most_similar(positive=['#real'])"
      ],
      "execution_count": null,
      "outputs": [
        {
          "output_type": "stream",
          "name": "stderr",
          "text": [
            "/usr/local/lib/python3.7/dist-packages/ipykernel_launcher.py:1: DeprecationWarning: Call to deprecated `most_similar` (Method will be removed in 4.0.0, use self.wv.most_similar() instead).\n",
            "  \"\"\"Entry point for launching an IPython kernel.\n"
          ]
        },
        {
          "output_type": "execute_result",
          "data": {
            "text/plain": [
              "[('kidding', 0.5046029090881348),\n",
              " ('kookie', 0.4492488503456116),\n",
              " ('crying', 0.4341100752353668),\n",
              " ('teasing', 0.43243277072906494),\n",
              " ('sus', 0.42311179637908936),\n",
              " ('sexy', 0.4226997494697571),\n",
              " ('jk', 0.41915661096572876),\n",
              " ('#naddictsgiveaway', 0.4162015914916992),\n",
              " ('omfg', 0.41597938537597656),\n",
              " ('blushing', 0.4149855971336365)]"
            ]
          },
          "metadata": {},
          "execution_count": 105
        }
      ]
    },
    {
      "cell_type": "code",
      "metadata": {
        "id": "7ixsF3zMhwLI"
      },
      "source": [
        "def getting_word_and_vector_dictionary(list: words, model):\n",
        "  true_words = []\n",
        "  for i in words:\n",
        "    if '#' in i:\n",
        "      true_words.append(i)\n",
        "  print(true_words)\n",
        "  res_dict = pd.DataFrame()\n",
        "  res_dict['words'] = true_words\n",
        "  res_dict['vectors'] = res_dict['words'].apply(lambda word: model[word])\n",
        "  return res_dict\n",
        "    "
      ],
      "execution_count": null,
      "outputs": []
    },
    {
      "cell_type": "code",
      "metadata": {
        "id": "9sbeBAlSha4p"
      },
      "source": [
        "#words = list(model.wv.vocab)\n",
        "#dict_of_vectors = getting_word_and_vector_dictionary(words, model)"
      ],
      "execution_count": null,
      "outputs": []
    },
    {
      "cell_type": "code",
      "metadata": {
        "id": "_JYJw527Ga4z"
      },
      "source": [
        "#dict_of_vectors.head()"
      ],
      "execution_count": null,
      "outputs": []
    },
    {
      "cell_type": "code",
      "metadata": {
        "id": "K4DZhycJGhOZ"
      },
      "source": [
        "#np.zeros(100).shape"
      ],
      "execution_count": null,
      "outputs": []
    },
    {
      "cell_type": "code",
      "metadata": {
        "id": "-bb1kkUuFS4o",
        "colab": {
          "base_uri": "https://localhost:8080/",
          "height": 35
        },
        "outputId": "e681d40a-2a9e-4bff-a3ed-5e486ba3bf64"
      },
      "source": [
        "'''row = ['#UNK', np.zeros(100)]\n",
        "dict_of_vectors.loc[len(dict_of_vectors)] = row'''"
      ],
      "execution_count": null,
      "outputs": [
        {
          "output_type": "execute_result",
          "data": {
            "application/vnd.google.colaboratory.intrinsic+json": {
              "type": "string"
            },
            "text/plain": [
              "\"row = ['#UNK', np.zeros(100)]\\ndict_of_vectors.loc[len(dict_of_vectors)] = row\""
            ]
          },
          "metadata": {},
          "execution_count": 110
        }
      ]
    },
    {
      "cell_type": "code",
      "metadata": {
        "id": "cpkQaUKqpnzs"
      },
      "source": [
        "def tensor_cat_trandform (categ: pd.Series):\n",
        "  tensor_train_cat = categ.apply(lambda arr: np.asarray(arr))\n",
        "  tensor_train_cat = np.asarray(tensor_train_cat)\n",
        "  return np.stack(tensor_train_cat)"
      ],
      "execution_count": null,
      "outputs": []
    },
    {
      "cell_type": "code",
      "metadata": {
        "id": "aWluGMV3qjRb"
      },
      "source": [
        "#vec = tensor_cat_trandform(dict_of_vectors['vectors'])"
      ],
      "execution_count": null,
      "outputs": []
    },
    {
      "cell_type": "code",
      "metadata": {
        "colab": {
          "base_uri": "https://localhost:8080/",
          "height": 53
        },
        "id": "QfQoT-0_p3Wf",
        "outputId": "ca4e34ab-f4ef-4498-c094-3b371e02e1f0"
      },
      "source": [
        "'''inertia = []\n",
        "for k in range(1, 13):\n",
        "    kmeans1 = KMeans(n_clusters=k*10, random_state=1).fit(vec)\n",
        "    inertia.append(np.sqrt(kmeans1.inertia_))\n",
        "    print(metrics.silhouette_score(vec, kmeans1.labels_))\n",
        "    print(k)'''"
      ],
      "execution_count": null,
      "outputs": [
        {
          "output_type": "execute_result",
          "data": {
            "application/vnd.google.colaboratory.intrinsic+json": {
              "type": "string"
            },
            "text/plain": [
              "'inertia = []\\nfor k in range(1, 13):\\n    kmeans1 = KMeans(n_clusters=k*10, random_state=1).fit(vec)\\n    inertia.append(np.sqrt(kmeans1.inertia_))\\n    print(metrics.silhouette_score(vec, kmeans1.labels_))\\n    print(k)'"
            ]
          },
          "metadata": {},
          "execution_count": 113
        }
      ]
    },
    {
      "cell_type": "code",
      "metadata": {
        "id": "VMhuQtBulhv0"
      },
      "source": [
        "#kmeans = AgglomerativeClustering(n_clusters=121).fit(vec)"
      ],
      "execution_count": null,
      "outputs": []
    },
    {
      "cell_type": "code",
      "metadata": {
        "id": "5V_AWlQIHJKR"
      },
      "source": [
        "#dict_of_vectors['clusters'] = kmeans.labels_"
      ],
      "execution_count": null,
      "outputs": []
    },
    {
      "cell_type": "code",
      "metadata": {
        "id": "FMAVsHOHY6kg"
      },
      "source": [
        "#len(kmeans.labels_)"
      ],
      "execution_count": null,
      "outputs": []
    },
    {
      "cell_type": "code",
      "metadata": {
        "id": "vNubdSyOx0dX"
      },
      "source": [
        "#metrics.silhouette_score(vec, kmeans.labels_)"
      ],
      "execution_count": null,
      "outputs": []
    },
    {
      "cell_type": "code",
      "metadata": {
        "colab": {
          "base_uri": "https://localhost:8080/",
          "height": 35
        },
        "id": "J39YT2JCsaEv",
        "outputId": "57a34b37-f141-4997-9671-ce7da8f77881"
      },
      "source": [
        "'''\n",
        "plt.plot(range(1, 25), inertia, marker='s');\n",
        "plt.xlabel('$k$')\n",
        "plt.ylabel('$J(C_k)$');'''"
      ],
      "execution_count": null,
      "outputs": [
        {
          "output_type": "execute_result",
          "data": {
            "application/vnd.google.colaboratory.intrinsic+json": {
              "type": "string"
            },
            "text/plain": [
              "\"\\nplt.plot(range(1, 25), inertia, marker='s');\\nplt.xlabel('$k$')\\nplt.ylabel('$J(C_k)$');\""
            ]
          },
          "metadata": {},
          "execution_count": 118
        }
      ]
    },
    {
      "cell_type": "code",
      "metadata": {
        "colab": {
          "base_uri": "https://localhost:8080/",
          "height": 53
        },
        "id": "vddDa2FH7NTX",
        "outputId": "f5ba68ba-3a5c-4e07-9189-03b4f67c6fb2"
      },
      "source": [
        "'''inertia1 = []\n",
        "for k in range(1, 200):\n",
        "    agl = AgglomerativeClustering(n_clusters=k*10).fit(vec)\n",
        "    #inertia1.append(np.sqrt(agl.inertia_))\n",
        "    inertia1.append(metrics.silhouette_score(vec, agl.labels_))\n",
        "    print(k)'''"
      ],
      "execution_count": null,
      "outputs": [
        {
          "output_type": "execute_result",
          "data": {
            "application/vnd.google.colaboratory.intrinsic+json": {
              "type": "string"
            },
            "text/plain": [
              "'inertia1 = []\\nfor k in range(1, 200):\\n    agl = AgglomerativeClustering(n_clusters=k*10).fit(vec)\\n    #inertia1.append(np.sqrt(agl.inertia_))\\n    inertia1.append(metrics.silhouette_score(vec, agl.labels_))\\n    print(k)'"
            ]
          },
          "metadata": {},
          "execution_count": 119
        }
      ]
    },
    {
      "cell_type": "code",
      "metadata": {
        "id": "Z182EthS7kBC",
        "colab": {
          "base_uri": "https://localhost:8080/",
          "height": 35
        },
        "outputId": "a6ea2850-c862-4358-9361-f12b486fa7b0"
      },
      "source": [
        "'''plt.plot(range(1, 44), inertia1, marker='s');\n",
        "plt.xlabel('$k$')\n",
        "plt.ylabel('$Silhouette$');'''"
      ],
      "execution_count": null,
      "outputs": [
        {
          "output_type": "execute_result",
          "data": {
            "application/vnd.google.colaboratory.intrinsic+json": {
              "type": "string"
            },
            "text/plain": [
              "\"plt.plot(range(1, 44), inertia1, marker='s');\\nplt.xlabel('$k$')\\nplt.ylabel('$Silhouette$');\""
            ]
          },
          "metadata": {},
          "execution_count": 120
        }
      ]
    },
    {
      "cell_type": "code",
      "metadata": {
        "id": "ZCzAR90lJe3W",
        "colab": {
          "base_uri": "https://localhost:8080/",
          "height": 70
        },
        "outputId": "b8ba91bf-8e73-472a-82c8-d7370e280ff5"
      },
      "source": [
        "'''inertia2 = []\n",
        "#for k in range(1, 25):\n",
        "sp = SpectralClustering(n_clusters=121, random_state=1,\n",
        "                                     affinity='nearest_neighbors').fit(vec)\n",
        "    #inertia1.append(np.sqrt(agl.inertia_))\n",
        "inertia2.append(metrics.silhouette_score(vec, sp.labels_))\n",
        "#print(k)'''"
      ],
      "execution_count": null,
      "outputs": [
        {
          "output_type": "execute_result",
          "data": {
            "application/vnd.google.colaboratory.intrinsic+json": {
              "type": "string"
            },
            "text/plain": [
              "\"inertia2 = []\\n#for k in range(1, 25):\\nsp = SpectralClustering(n_clusters=121, random_state=1,\\n                                     affinity='nearest_neighbors').fit(vec)\\n    #inertia1.append(np.sqrt(agl.inertia_))\\ninertia2.append(metrics.silhouette_score(vec, sp.labels_))\\n#print(k)\""
            ]
          },
          "metadata": {},
          "execution_count": 121
        }
      ]
    },
    {
      "cell_type": "code",
      "metadata": {
        "id": "eMKCXgpXs52D"
      },
      "source": [
        "#inertia2"
      ],
      "execution_count": null,
      "outputs": []
    },
    {
      "cell_type": "code",
      "metadata": {
        "id": "UpMSE8U1slU7",
        "colab": {
          "base_uri": "https://localhost:8080/",
          "height": 53
        },
        "outputId": "7dd192bd-afad-4f56-b447-5f3a1f7c7cd0"
      },
      "source": [
        "'''dict_of_vectors1 = dict_of_vectors\n",
        "dict_of_vectors2 = dict_of_vectors\n",
        "dict_of_vectors1['clusters'] = kmeans1.labels_\n",
        "dict_of_vectors2['clusters'] = sp.labels_'''"
      ],
      "execution_count": null,
      "outputs": [
        {
          "output_type": "execute_result",
          "data": {
            "application/vnd.google.colaboratory.intrinsic+json": {
              "type": "string"
            },
            "text/plain": [
              "\"dict_of_vectors1 = dict_of_vectors\\ndict_of_vectors2 = dict_of_vectors\\ndict_of_vectors1['clusters'] = kmeans1.labels_\\ndict_of_vectors2['clusters'] = sp.labels_\""
            ]
          },
          "metadata": {},
          "execution_count": 123
        }
      ]
    },
    {
      "cell_type": "code",
      "metadata": {
        "id": "j4wvQ20Vt231"
      },
      "source": [
        "#max(kmeans.labels_)"
      ],
      "execution_count": null,
      "outputs": []
    },
    {
      "cell_type": "code",
      "metadata": {
        "colab": {
          "base_uri": "https://localhost:8080/"
        },
        "id": "jjvLy9R2tINt",
        "outputId": "f4d11f4e-7a04-48a9-ad1e-ed478c13302b"
      },
      "source": [
        "dict_of_vectors.loc[dict_of_vectors['clusters']==9, 'words']"
      ],
      "execution_count": null,
      "outputs": [
        {
          "output_type": "execute_result",
          "data": {
            "text/plain": [
              "44             #climateaction\n",
              "45                     #cop26\n",
              "69          #energytransition\n",
              "83             #climatechange\n",
              "230                  #nuclear\n",
              "240             #cop26glasgow\n",
              "258         #climateemergency\n",
              "259            #climatecrisis\n",
              "260                  #climate\n",
              "504                    #green\n",
              "570                 #aviation\n",
              "642                       #ev\n",
              "711     #togetherforourplanet\n",
              "823                  #netzero\n",
              "862              #cleanenergy\n",
              "871             #actonclimate\n",
              "889              #sustainable\n",
              "890           #climatejustice\n",
              "993                   #energy\n",
              "994          #renewableenergy\n",
              "1120             #environment\n",
              "1292             #development\n",
              "1304            #biodiversity\n",
              "1377            #construction\n",
              "1541                   #solar\n",
              "2133           #manufacturing\n",
              "2167             #agriculture\n",
              "2257        #electricvehicles\n",
              "2339                   #water\n",
              "2602                #hydrogen\n",
              "2762            #conservation\n",
              "3023               #recycling\n",
              "3295           #investinrural\n",
              "3523              #scotbudget\n",
              "3568        #aravalliblackday\n",
              "3569        #wteisfailedmodel\n",
              "3570        #nowteinaravallis\n",
              "3602                   #ukmfg\n",
              "7011                 #farming\n",
              "Name: words, dtype: object"
            ]
          },
          "metadata": {},
          "execution_count": 125
        }
      ]
    },
    {
      "cell_type": "code",
      "metadata": {
        "colab": {
          "base_uri": "https://localhost:8080/"
        },
        "id": "3m34kGthtgbT",
        "outputId": "1472f0e4-8c05-45ed-d528-451af7f072cc"
      },
      "source": [
        "dict_of_vectors.loc[dict_of_vectors['words']=='#boing', 'clusters']"
      ],
      "execution_count": null,
      "outputs": [
        {
          "output_type": "execute_result",
          "data": {
            "text/plain": [
              "Series([], Name: clusters, dtype: int64)"
            ]
          },
          "metadata": {},
          "execution_count": 126
        }
      ]
    },
    {
      "cell_type": "code",
      "metadata": {
        "id": "Tuog41a3Kf2h",
        "colab": {
          "base_uri": "https://localhost:8080/",
          "height": 35
        },
        "outputId": "bdde2274-d3b8-42ec-de90-3bcf7c343c6e"
      },
      "source": [
        "'''plt.plot(range(1, 25), inertia2, marker='s');\n",
        "plt.xlabel('$k$')\n",
        "plt.ylabel('$J(C_k)$');'''"
      ],
      "execution_count": null,
      "outputs": [
        {
          "output_type": "execute_result",
          "data": {
            "application/vnd.google.colaboratory.intrinsic+json": {
              "type": "string"
            },
            "text/plain": [
              "\"plt.plot(range(1, 25), inertia2, marker='s');\\nplt.xlabel('$k$')\\nplt.ylabel('$J(C_k)$');\""
            ]
          },
          "metadata": {},
          "execution_count": 127
        }
      ]
    },
    {
      "cell_type": "code",
      "metadata": {
        "colab": {
          "base_uri": "https://localhost:8080/"
        },
        "id": "onrZX98ZG0tN",
        "outputId": "3a69fdae-0313-4de1-d8ee-0ce008332f9b"
      },
      "source": [
        "dict_of_vectors.iloc[len(dict_of_vectors)-1]"
      ],
      "execution_count": null,
      "outputs": [
        {
          "output_type": "execute_result",
          "data": {
            "text/plain": [
              "words                                                    #UNK\n",
              "vectors     [0.0, 0.0, 0.0, 0.0, 0.0, 0.0, 0.0, 0.0, 0.0, ...\n",
              "clusters                                                   96\n",
              "Name: 12757, dtype: object"
            ]
          },
          "metadata": {},
          "execution_count": 128
        }
      ]
    },
    {
      "cell_type": "code",
      "metadata": {
        "id": "zeCBWm5G-g8A"
      },
      "source": [
        "#len(kmeans.labels_)"
      ],
      "execution_count": null,
      "outputs": []
    },
    {
      "cell_type": "code",
      "metadata": {
        "id": "4B1dccjbFp9k"
      },
      "source": [
        "array_of_words = list(dict_of_vectors['words'])\n",
        "array_of_clusters = list(dict_of_vectors['clusters'])"
      ],
      "execution_count": null,
      "outputs": []
    },
    {
      "cell_type": "code",
      "metadata": {
        "id": "xhAs36DbBZQx"
      },
      "source": [
        "unk_vector_index = len(dict_of_vectors)-1\n",
        "list_of_words = set(dict_of_vectors['words'])\n",
        "data['indexes_of_clusters'] = data['tags'].apply(lambda tags: [array_of_words.index(i) if i in list_of_words else unk_vector_index for i in tags])"
      ],
      "execution_count": null,
      "outputs": []
    },
    {
      "cell_type": "code",
      "metadata": {
        "id": "Bbk3HY9iDfMg"
      },
      "source": [
        "data['clusters'] = data['indexes_of_clusters'].apply(lambda inds: [array_of_clusters[i] for i in inds])"
      ],
      "execution_count": null,
      "outputs": []
    },
    {
      "cell_type": "code",
      "metadata": {
        "colab": {
          "base_uri": "https://localhost:8080/",
          "height": 293
        },
        "id": "hgJo9pwoolev",
        "outputId": "09c57c69-969a-4f23-80d7-051a248b9531"
      },
      "source": [
        "data.head()"
      ],
      "execution_count": null,
      "outputs": [
        {
          "output_type": "execute_result",
          "data": {
            "text/html": [
              "<div>\n",
              "<style scoped>\n",
              "    .dataframe tbody tr th:only-of-type {\n",
              "        vertical-align: middle;\n",
              "    }\n",
              "\n",
              "    .dataframe tbody tr th {\n",
              "        vertical-align: top;\n",
              "    }\n",
              "\n",
              "    .dataframe thead th {\n",
              "        text-align: right;\n",
              "    }\n",
              "</style>\n",
              "<table border=\"1\" class=\"dataframe\">\n",
              "  <thead>\n",
              "    <tr style=\"text-align: right;\">\n",
              "      <th></th>\n",
              "      <th>content</th>\n",
              "      <th>author</th>\n",
              "      <th>number_of_likes</th>\n",
              "      <th>tags</th>\n",
              "      <th>indexes_of_clusters</th>\n",
              "      <th>clusters</th>\n",
              "    </tr>\n",
              "  </thead>\n",
              "  <tbody>\n",
              "    <tr>\n",
              "      <th>0</th>\n",
              "      <td>[&lt;user&gt;, uh, &lt;elongated&gt;, baby, chickie, minie...</td>\n",
              "      <td>KINGPJM1310</td>\n",
              "      <td>2</td>\n",
              "      <td>[#jiminie, #jiminwrap2021, #parkjimin]</td>\n",
              "      <td>[7887, 12757, 7695]</td>\n",
              "      <td>[108, 96, 108]</td>\n",
              "    </tr>\n",
              "    <tr>\n",
              "      <th>1</th>\n",
              "      <td>[&lt;user&gt;, if, people, talk, behind, your, back,...</td>\n",
              "      <td>Saif68394021</td>\n",
              "      <td>0</td>\n",
              "      <td>[#bbkingkaran, #karankundrra, #bb15]</td>\n",
              "      <td>[648, 389, 224]</td>\n",
              "      <td>[5, 5, 5]</td>\n",
              "    </tr>\n",
              "    <tr>\n",
              "      <th>2</th>\n",
              "      <td>[congrats, to, &lt;user&gt;, graduate, eman, mayah, ...</td>\n",
              "      <td>PhD_GSA</td>\n",
              "      <td>2</td>\n",
              "      <td>[#etpac21]</td>\n",
              "      <td>[5659]</td>\n",
              "      <td>[96]</td>\n",
              "    </tr>\n",
              "    <tr>\n",
              "      <th>3</th>\n",
              "      <td>[no, word, can, explain, the, vibrant, crowd, ...</td>\n",
              "      <td>geffmomanyi</td>\n",
              "      <td>1</td>\n",
              "      <td>[#azimiolaumoja]</td>\n",
              "      <td>[3293]</td>\n",
              "      <td>[15]</td>\n",
              "    </tr>\n",
              "    <tr>\n",
              "      <th>4</th>\n",
              "      <td>[among, the, greatest, reasons, for, the, high...</td>\n",
              "      <td>MianSad63622281</td>\n",
              "      <td>0</td>\n",
              "      <td>[#امام_اہلسنت_کانفرس_خیرپور]</td>\n",
              "      <td>[8905]</td>\n",
              "      <td>[18]</td>\n",
              "    </tr>\n",
              "  </tbody>\n",
              "</table>\n",
              "</div>"
            ],
            "text/plain": [
              "                                             content  ...        clusters\n",
              "0  [<user>, uh, <elongated>, baby, chickie, minie...  ...  [108, 96, 108]\n",
              "1  [<user>, if, people, talk, behind, your, back,...  ...       [5, 5, 5]\n",
              "2  [congrats, to, <user>, graduate, eman, mayah, ...  ...            [96]\n",
              "3  [no, word, can, explain, the, vibrant, crowd, ...  ...            [15]\n",
              "4  [among, the, greatest, reasons, for, the, high...  ...            [18]\n",
              "\n",
              "[5 rows x 6 columns]"
            ]
          },
          "metadata": {},
          "execution_count": 133
        }
      ]
    },
    {
      "cell_type": "code",
      "metadata": {
        "id": "AXQQeBReoo37"
      },
      "source": [
        "def one_hot_encoding_of_clusters (clusters: pd.Series):\n",
        "  all_clusters = []\n",
        "  clusters.apply(all_clusters.extend)\n",
        "  with open(\"clusters.txt\", \"w\") as file:\n",
        "    for cluster in all_clusters:\n",
        "        file.write(str(cluster) + '\\n')\n",
        "  mlb = MultiLabelBinarizer()\n",
        "  mlb.fit([all_clusters])\n",
        "  return mlb"
      ],
      "execution_count": null,
      "outputs": []
    },
    {
      "cell_type": "code",
      "metadata": {
        "id": "9_W8mG7ky_oG"
      },
      "source": [
        "data.drop(columns={'indexes_of_clusters'}, inplace=True, axis=1)"
      ],
      "execution_count": null,
      "outputs": []
    },
    {
      "cell_type": "code",
      "metadata": {
        "colab": {
          "base_uri": "https://localhost:8080/",
          "height": 206
        },
        "id": "WFxn8J3kzVi7",
        "outputId": "2c290745-d41c-4af8-d67b-1fa5bee5cb4f"
      },
      "source": [
        "data.head()"
      ],
      "execution_count": null,
      "outputs": [
        {
          "output_type": "execute_result",
          "data": {
            "text/html": [
              "<div>\n",
              "<style scoped>\n",
              "    .dataframe tbody tr th:only-of-type {\n",
              "        vertical-align: middle;\n",
              "    }\n",
              "\n",
              "    .dataframe tbody tr th {\n",
              "        vertical-align: top;\n",
              "    }\n",
              "\n",
              "    .dataframe thead th {\n",
              "        text-align: right;\n",
              "    }\n",
              "</style>\n",
              "<table border=\"1\" class=\"dataframe\">\n",
              "  <thead>\n",
              "    <tr style=\"text-align: right;\">\n",
              "      <th></th>\n",
              "      <th>content</th>\n",
              "      <th>author</th>\n",
              "      <th>number_of_likes</th>\n",
              "      <th>tags</th>\n",
              "      <th>clusters</th>\n",
              "    </tr>\n",
              "  </thead>\n",
              "  <tbody>\n",
              "    <tr>\n",
              "      <th>0</th>\n",
              "      <td>[&lt;user&gt;, uh, &lt;elongated&gt;, baby, chickie, minie...</td>\n",
              "      <td>KINGPJM1310</td>\n",
              "      <td>2</td>\n",
              "      <td>[#jiminie, #jiminwrap2021, #parkjimin]</td>\n",
              "      <td>[108, 96, 108]</td>\n",
              "    </tr>\n",
              "    <tr>\n",
              "      <th>1</th>\n",
              "      <td>[&lt;user&gt;, if, people, talk, behind, your, back,...</td>\n",
              "      <td>Saif68394021</td>\n",
              "      <td>0</td>\n",
              "      <td>[#bbkingkaran, #karankundrra, #bb15]</td>\n",
              "      <td>[5, 5, 5]</td>\n",
              "    </tr>\n",
              "    <tr>\n",
              "      <th>2</th>\n",
              "      <td>[congrats, to, &lt;user&gt;, graduate, eman, mayah, ...</td>\n",
              "      <td>PhD_GSA</td>\n",
              "      <td>2</td>\n",
              "      <td>[#etpac21]</td>\n",
              "      <td>[96]</td>\n",
              "    </tr>\n",
              "    <tr>\n",
              "      <th>3</th>\n",
              "      <td>[no, word, can, explain, the, vibrant, crowd, ...</td>\n",
              "      <td>geffmomanyi</td>\n",
              "      <td>1</td>\n",
              "      <td>[#azimiolaumoja]</td>\n",
              "      <td>[15]</td>\n",
              "    </tr>\n",
              "    <tr>\n",
              "      <th>4</th>\n",
              "      <td>[among, the, greatest, reasons, for, the, high...</td>\n",
              "      <td>MianSad63622281</td>\n",
              "      <td>0</td>\n",
              "      <td>[#امام_اہلسنت_کانفرس_خیرپور]</td>\n",
              "      <td>[18]</td>\n",
              "    </tr>\n",
              "  </tbody>\n",
              "</table>\n",
              "</div>"
            ],
            "text/plain": [
              "                                             content  ...        clusters\n",
              "0  [<user>, uh, <elongated>, baby, chickie, minie...  ...  [108, 96, 108]\n",
              "1  [<user>, if, people, talk, behind, your, back,...  ...       [5, 5, 5]\n",
              "2  [congrats, to, <user>, graduate, eman, mayah, ...  ...            [96]\n",
              "3  [no, word, can, explain, the, vibrant, crowd, ...  ...            [15]\n",
              "4  [among, the, greatest, reasons, for, the, high...  ...            [18]\n",
              "\n",
              "[5 rows x 5 columns]"
            ]
          },
          "metadata": {},
          "execution_count": 136
        }
      ]
    },
    {
      "cell_type": "code",
      "metadata": {
        "colab": {
          "base_uri": "https://localhost:8080/"
        },
        "id": "xGw_nvc4zb1z",
        "outputId": "f0f27874-f753-4480-f718-630a6b7b375e"
      },
      "source": [
        "dict_of_vectors.loc[dict_of_vectors['clusters']==208, 'words']"
      ],
      "execution_count": null,
      "outputs": [
        {
          "output_type": "execute_result",
          "data": {
            "text/plain": [
              "Series([], Name: words, dtype: object)"
            ]
          },
          "metadata": {},
          "execution_count": 137
        }
      ]
    },
    {
      "cell_type": "code",
      "metadata": {
        "id": "r4uijp7V2EOM"
      },
      "source": [
        "dict_of_vectors['clusters'] = dict_of_vectors['clusters'].apply(lambda x: [x])"
      ],
      "execution_count": null,
      "outputs": []
    },
    {
      "cell_type": "code",
      "metadata": {
        "id": "YrG4hFUH13Fh"
      },
      "source": [
        "#mdb = one_hot_encoding_of_clusters(dict_of_vectors['clusters'])"
      ],
      "execution_count": null,
      "outputs": []
    },
    {
      "cell_type": "code",
      "metadata": {
        "id": "U1eiGeCHp3b_"
      },
      "source": [
        "#data['content'] = data['content'].apply(lambda lst: ' '.join(lst))"
      ],
      "execution_count": null,
      "outputs": []
    },
    {
      "cell_type": "code",
      "metadata": {
        "colab": {
          "base_uri": "https://localhost:8080/"
        },
        "id": "0z8snaNL8Tn5",
        "outputId": "2ead60df-aebd-4c2b-b4ca-ff06661286b8"
      },
      "source": [
        "data.shape"
      ],
      "execution_count": null,
      "outputs": [
        {
          "output_type": "execute_result",
          "data": {
            "text/plain": [
              "(2719004, 5)"
            ]
          },
          "metadata": {},
          "execution_count": 141
        }
      ]
    },
    {
      "cell_type": "markdown",
      "metadata": {
        "id": "AKolgd6d5qGz"
      },
      "source": [
        "# Разреживание обучающего датасета"
      ]
    },
    {
      "cell_type": "code",
      "metadata": {
        "id": "27ltK2DW5pIV"
      },
      "source": [
        "def dropping_of_too_popular_tags(tags: pd.Series):\n",
        "  count = np.zeros(121)\n",
        "  list_of_tags = list(tags)\n",
        "  indexes_for_dropping = []\n",
        "  for i in range(0, len(list_of_tags)):\n",
        "    for j in list_of_tags[i]:\n",
        "      #print(j)\n",
        "      if (count[j]>10000):\n",
        "        indexes_for_dropping.append(i)\n",
        "      else:\n",
        "        count[j]+=1\n",
        "        #break\n",
        "  print(count)\n",
        "  return indexes_for_dropping"
      ],
      "execution_count": null,
      "outputs": []
    },
    {
      "cell_type": "code",
      "metadata": {
        "id": "AmvTN3Wk9Uca"
      },
      "source": [
        "data = data.sample(frac=1) #перемешиваем данные в датасете\n",
        "data = data.reset_index(drop=True)"
      ],
      "execution_count": null,
      "outputs": []
    },
    {
      "cell_type": "code",
      "metadata": {
        "id": "0ftc9bJ2-Hbz"
      },
      "source": [
        "#data = data.drop(index = dropping_of_too_popular_tags(data['clusters']))"
      ],
      "execution_count": null,
      "outputs": []
    },
    {
      "cell_type": "code",
      "metadata": {
        "id": "Ako4g5DT-ZD4"
      },
      "source": [
        "#data = data.reset_index(drop=True)"
      ],
      "execution_count": null,
      "outputs": []
    },
    {
      "cell_type": "code",
      "metadata": {
        "colab": {
          "base_uri": "https://localhost:8080/"
        },
        "id": "0X_untvz-bik",
        "outputId": "c5985cdd-e99b-401c-b587-3a978c0816eb"
      },
      "source": [
        "data.shape"
      ],
      "execution_count": null,
      "outputs": [
        {
          "output_type": "execute_result",
          "data": {
            "text/plain": [
              "(2719004, 5)"
            ]
          },
          "metadata": {},
          "execution_count": 146
        }
      ]
    },
    {
      "cell_type": "markdown",
      "metadata": {
        "id": "TXy87FM4pq0-"
      },
      "source": [
        "# Присвоение каждому тегу вектора"
      ]
    },
    {
      "cell_type": "code",
      "metadata": {
        "colab": {
          "base_uri": "https://localhost:8080/",
          "height": 206
        },
        "id": "p1YlHQuQpTW7",
        "outputId": "c7a4e72c-1d79-4ba7-ffbd-3c0eb6e4dcaf"
      },
      "source": [
        "def max_size(tokens):\n",
        "  max_len = 0\n",
        "  for tweet in tokens:\n",
        "    if len(tweet)>max_len:\n",
        "      max_len = len(tweet)\n",
        "  return max_len\n",
        "\n",
        "max_len =max_size(data['content'])\n",
        "data.head()"
      ],
      "execution_count": null,
      "outputs": [
        {
          "output_type": "execute_result",
          "data": {
            "text/html": [
              "<div>\n",
              "<style scoped>\n",
              "    .dataframe tbody tr th:only-of-type {\n",
              "        vertical-align: middle;\n",
              "    }\n",
              "\n",
              "    .dataframe tbody tr th {\n",
              "        vertical-align: top;\n",
              "    }\n",
              "\n",
              "    .dataframe thead th {\n",
              "        text-align: right;\n",
              "    }\n",
              "</style>\n",
              "<table border=\"1\" class=\"dataframe\">\n",
              "  <thead>\n",
              "    <tr style=\"text-align: right;\">\n",
              "      <th></th>\n",
              "      <th>content</th>\n",
              "      <th>author</th>\n",
              "      <th>number_of_likes</th>\n",
              "      <th>tags</th>\n",
              "      <th>clusters</th>\n",
              "    </tr>\n",
              "  </thead>\n",
              "  <tbody>\n",
              "    <tr>\n",
              "      <th>0</th>\n",
              "      <td>[morning, ', s, is, for, seafood, while, night...</td>\n",
              "      <td>emixjiew</td>\n",
              "      <td>7</td>\n",
              "      <td>[#emsearthmixspaceep7]</td>\n",
              "      <td>[29]</td>\n",
              "    </tr>\n",
              "    <tr>\n",
              "      <th>1</th>\n",
              "      <td>[taking, &lt;user&gt;, to, see, #dontlookup, on, sun...</td>\n",
              "      <td>LukeHearfield</td>\n",
              "      <td>8</td>\n",
              "      <td>[#dontlookup]</td>\n",
              "      <td>[27]</td>\n",
              "    </tr>\n",
              "    <tr>\n",
              "      <th>2</th>\n",
              "      <td>[【, quest, complete, 】, ⚔️, attention, heroes,...</td>\n",
              "      <td>Hiroe_VT</td>\n",
              "      <td>10</td>\n",
              "      <td>[#hiroquest]</td>\n",
              "      <td>[96]</td>\n",
              "    </tr>\n",
              "    <tr>\n",
              "      <th>3</th>\n",
              "      <td>[i, have, participated, thanks, for, opportuni...</td>\n",
              "      <td>Hasib147</td>\n",
              "      <td>1</td>\n",
              "      <td>[#clashofgods, #clashofgods, #airdrop, #bsc]</td>\n",
              "      <td>[35, 35, 112, 112]</td>\n",
              "    </tr>\n",
              "    <tr>\n",
              "      <th>4</th>\n",
              "      <td>[hey, guys, the, new, collection, here, noprot...</td>\n",
              "      <td>no_protagonist</td>\n",
              "      <td>14</td>\n",
              "      <td>[#nft, #nftcommunity, #nfts]</td>\n",
              "      <td>[16, 16, 16]</td>\n",
              "    </tr>\n",
              "  </tbody>\n",
              "</table>\n",
              "</div>"
            ],
            "text/plain": [
              "                                             content  ...            clusters\n",
              "0  [morning, ', s, is, for, seafood, while, night...  ...                [29]\n",
              "1  [taking, <user>, to, see, #dontlookup, on, sun...  ...                [27]\n",
              "2  [【, quest, complete, 】, ⚔️, attention, heroes,...  ...                [96]\n",
              "3  [i, have, participated, thanks, for, opportuni...  ...  [35, 35, 112, 112]\n",
              "4  [hey, guys, the, new, collection, here, noprot...  ...        [16, 16, 16]\n",
              "\n",
              "[5 rows x 5 columns]"
            ]
          },
          "metadata": {},
          "execution_count": 147
        }
      ]
    },
    {
      "cell_type": "code",
      "metadata": {
        "id": "BMpMI8NHDExu"
      },
      "source": [
        "def _one_hot_encode_tags(tags: pd.Series):\n",
        "    all_tags = []\n",
        "    tags.apply(all_tags.extend)\n",
        "    top_tags, top_counts = zip(*Counter(all_tags).most_common(300))\n",
        "    recognized_tags = set(top_tags)\n",
        "    tags = tags.map(lambda prev_tags: [tag if tag in recognized_tags else \"OTHER\" for tag in prev_tags])\n",
        "    recognized_tags.add('OTHER')\n",
        "    with open(\"tags.txt\", \"w\") as file:\n",
        "      for tag in recognized_tags:\n",
        "        file.write(str(tag) + '\\n')\n",
        "    mlb = MultiLabelBinarizer()\n",
        "    mlb.fit([recognized_tags])\n",
        "    return mlb"
      ],
      "execution_count": null,
      "outputs": []
    },
    {
      "cell_type": "markdown",
      "metadata": {
        "id": "LJbaoVb3pks6"
      },
      "source": [
        "# Превращение всех хэш-тэгов в OneHot-вектора"
      ]
    },
    {
      "cell_type": "code",
      "metadata": {
        "id": "C0MIbPCfpXIp"
      },
      "source": [
        "#mdb =_one_hot_encode_tags(data['tags'])"
      ],
      "execution_count": null,
      "outputs": []
    },
    {
      "cell_type": "markdown",
      "metadata": {
        "id": "-XOF4jDiMT_z"
      },
      "source": [
        "**Фильрация пустых авторов**"
      ]
    },
    {
      "cell_type": "code",
      "metadata": {
        "id": "xlPtxOl0MSwx"
      },
      "source": [
        "def replace_empty_authors(tweets: pd.Series):\n",
        "  for i in range (0, tweets.size):\n",
        "     if type(tweets.iloc[i])!=str:\n",
        "        tweets.at[i] = \"UNK\"\n",
        "  #Tweets = tweets.apply(lambda x: x if type(x) == str else 'UNK')\n",
        "  return tweets"
      ],
      "execution_count": null,
      "outputs": []
    },
    {
      "cell_type": "code",
      "metadata": {
        "id": "vOCPElsIaJDw"
      },
      "source": [
        "def drop_empty_authors(tweets: pd.Series):\n",
        "  indexes_for_dropping=[]\n",
        "  for i in range(0,tweets.size):\n",
        "    if type(tweets.iloc[i])!=str:\n",
        "      #print(tweets.iloc[i])\n",
        "      indexes_for_dropping.append(i)\n",
        "  return indexes_for_dropping"
      ],
      "execution_count": null,
      "outputs": []
    },
    {
      "cell_type": "code",
      "metadata": {
        "id": "EPcSvkXPHRnJ"
      },
      "source": [
        "def index_drop(tweets: pd.Series):\n",
        "  indexes_for_dropping=[]\n",
        "  for i in range(0, tweets.size):\n",
        "    if len(tweets.iloc[i])<1:\n",
        "      indexes_for_dropping.append(i)\n",
        "  return indexes_for_dropping"
      ],
      "execution_count": null,
      "outputs": []
    },
    {
      "cell_type": "code",
      "metadata": {
        "colab": {
          "base_uri": "https://localhost:8080/"
        },
        "id": "E9aTd2ZkthHO",
        "outputId": "f8c091c8-a737-41e7-9e62-8a14ef77d0b9"
      },
      "source": [
        "data = data.drop(index = index_drop(data['content'])) #дропаем их\n",
        "data = data.reset_index(drop=True)\n",
        "#data = data.drop(index = drop_empty_authors(data['author'])) #дропаем их\n",
        "data['author'] = replace_empty_authors(data['author']) #заменяем пустых авторов на UNK\n",
        "data.shape"
      ],
      "execution_count": null,
      "outputs": [
        {
          "output_type": "execute_result",
          "data": {
            "text/plain": [
              "(2719004, 5)"
            ]
          },
          "metadata": {},
          "execution_count": 153
        }
      ]
    },
    {
      "cell_type": "code",
      "metadata": {
        "id": "joYzIn4AQAM7"
      },
      "source": [
        "data = data.sample(frac=1) #перемешиваем данные в датасете"
      ],
      "execution_count": null,
      "outputs": []
    },
    {
      "cell_type": "code",
      "metadata": {
        "id": "2OD_L8o4K569"
      },
      "source": [
        "data = data.reset_index(drop=True)"
      ],
      "execution_count": null,
      "outputs": []
    },
    {
      "cell_type": "code",
      "metadata": {
        "colab": {
          "base_uri": "https://localhost:8080/",
          "height": 241
        },
        "id": "7B-a2c7aTRP4",
        "outputId": "0ec893ca-375e-4963-f1fa-a799bd89a5e4"
      },
      "source": [
        "data.head()"
      ],
      "execution_count": null,
      "outputs": [
        {
          "output_type": "execute_result",
          "data": {
            "text/html": [
              "<div>\n",
              "<style scoped>\n",
              "    .dataframe tbody tr th:only-of-type {\n",
              "        vertical-align: middle;\n",
              "    }\n",
              "\n",
              "    .dataframe tbody tr th {\n",
              "        vertical-align: top;\n",
              "    }\n",
              "\n",
              "    .dataframe thead th {\n",
              "        text-align: right;\n",
              "    }\n",
              "</style>\n",
              "<table border=\"1\" class=\"dataframe\">\n",
              "  <thead>\n",
              "    <tr style=\"text-align: right;\">\n",
              "      <th></th>\n",
              "      <th>content</th>\n",
              "      <th>author</th>\n",
              "      <th>number_of_likes</th>\n",
              "      <th>tags</th>\n",
              "      <th>clusters</th>\n",
              "    </tr>\n",
              "  </thead>\n",
              "  <tbody>\n",
              "    <tr>\n",
              "      <th>0</th>\n",
              "      <td>[📸, &lt;number&gt;, enhypen, official, twitter, upda...</td>\n",
              "      <td>enhypen_phi</td>\n",
              "      <td>0</td>\n",
              "      <td>[#todaysenhypen, #sunghoonkingparkmc]</td>\n",
              "      <td>[96, 96]</td>\n",
              "    </tr>\n",
              "    <tr>\n",
              "      <th>1</th>\n",
              "      <td>[&lt;user&gt;, &lt;user&gt;, i, hope, you, will, be, sippi...</td>\n",
              "      <td>KingDon_za</td>\n",
              "      <td>2</td>\n",
              "      <td>[#huntersrefreshes, #redroadtrip]</td>\n",
              "      <td>[13, 13]</td>\n",
              "    </tr>\n",
              "    <tr>\n",
              "      <th>2</th>\n",
              "      <td>[هیممم, let, ', s, play, ball, with, nct, #nct...</td>\n",
              "      <td>Kimiya2003kpop</td>\n",
              "      <td>1</td>\n",
              "      <td>[#nct_universe, #nct, #universe]</td>\n",
              "      <td>[62, 62, 62]</td>\n",
              "    </tr>\n",
              "    <tr>\n",
              "      <th>3</th>\n",
              "      <td>[&lt;user&gt;, mananzan, and, almario, share, their,...</td>\n",
              "      <td>rapplerdotcom</td>\n",
              "      <td>7</td>\n",
              "      <td>[#nobelpeaceprize]</td>\n",
              "      <td>[71]</td>\n",
              "    </tr>\n",
              "    <tr>\n",
              "      <th>4</th>\n",
              "      <td>[#iniラジオリクエスト仲間, 📻, nack5, 📻, &lt;url&gt;, #ini, &lt;us...</td>\n",
              "      <td>fjmkkysk0810</td>\n",
              "      <td>0</td>\n",
              "      <td>[#iniラジオリクエスト仲間, #ini, #rocketeer]</td>\n",
              "      <td>[96, 12, 12]</td>\n",
              "    </tr>\n",
              "  </tbody>\n",
              "</table>\n",
              "</div>"
            ],
            "text/plain": [
              "                                             content  ...      clusters\n",
              "0  [📸, <number>, enhypen, official, twitter, upda...  ...      [96, 96]\n",
              "1  [<user>, <user>, i, hope, you, will, be, sippi...  ...      [13, 13]\n",
              "2  [هیممم, let, ', s, play, ball, with, nct, #nct...  ...  [62, 62, 62]\n",
              "3  [<user>, mananzan, and, almario, share, their,...  ...          [71]\n",
              "4  [#iniラジオリクエスト仲間, 📻, nack5, 📻, <url>, #ini, <us...  ...  [96, 12, 12]\n",
              "\n",
              "[5 rows x 5 columns]"
            ]
          },
          "metadata": {},
          "execution_count": 156
        }
      ]
    },
    {
      "cell_type": "markdown",
      "metadata": {
        "id": "2GZYr4qcpccH"
      },
      "source": [
        "# Нормализация лайков"
      ]
    },
    {
      "cell_type": "code",
      "metadata": {
        "id": "lNkJs5but5K9"
      },
      "source": [
        "def _normalize_likes_by_author(df: pd.DataFrame):\n",
        "  likes_author = df[['author', 'number_of_likes']]\n",
        "  return likes_author.groupby('author').transform(lambda x: (x - x.min()) / (x.max() - x.min())).fillna(0)\n",
        "  #return likes_author.groupby('author').transform(lambda x: x / x.max()).fillna(0)\n",
        "  #return likes_author.groupby('author').transform(lambda x: x / x.max()).replace(np.nan, 0)"
      ],
      "execution_count": null,
      "outputs": []
    },
    {
      "cell_type": "code",
      "metadata": {
        "id": "d9lUdJl7t-gT"
      },
      "source": [
        "data['number_of_likes']=_normalize_likes_by_author(data)"
      ],
      "execution_count": null,
      "outputs": []
    },
    {
      "cell_type": "code",
      "metadata": {
        "colab": {
          "base_uri": "https://localhost:8080/",
          "height": 493
        },
        "id": "kJj3gX76VMMX",
        "outputId": "2af5973e-2b8a-43d4-913c-82aa6f3fab4c"
      },
      "source": [
        "data.head(250)"
      ],
      "execution_count": null,
      "outputs": [
        {
          "output_type": "execute_result",
          "data": {
            "text/html": [
              "<div>\n",
              "<style scoped>\n",
              "    .dataframe tbody tr th:only-of-type {\n",
              "        vertical-align: middle;\n",
              "    }\n",
              "\n",
              "    .dataframe tbody tr th {\n",
              "        vertical-align: top;\n",
              "    }\n",
              "\n",
              "    .dataframe thead th {\n",
              "        text-align: right;\n",
              "    }\n",
              "</style>\n",
              "<table border=\"1\" class=\"dataframe\">\n",
              "  <thead>\n",
              "    <tr style=\"text-align: right;\">\n",
              "      <th></th>\n",
              "      <th>content</th>\n",
              "      <th>author</th>\n",
              "      <th>number_of_likes</th>\n",
              "      <th>tags</th>\n",
              "      <th>clusters</th>\n",
              "    </tr>\n",
              "  </thead>\n",
              "  <tbody>\n",
              "    <tr>\n",
              "      <th>0</th>\n",
              "      <td>[📸, &lt;number&gt;, enhypen, official, twitter, upda...</td>\n",
              "      <td>enhypen_phi</td>\n",
              "      <td>0.000000</td>\n",
              "      <td>[#todaysenhypen, #sunghoonkingparkmc]</td>\n",
              "      <td>[96, 96]</td>\n",
              "    </tr>\n",
              "    <tr>\n",
              "      <th>1</th>\n",
              "      <td>[&lt;user&gt;, &lt;user&gt;, i, hope, you, will, be, sippi...</td>\n",
              "      <td>KingDon_za</td>\n",
              "      <td>0.050000</td>\n",
              "      <td>[#huntersrefreshes, #redroadtrip]</td>\n",
              "      <td>[13, 13]</td>\n",
              "    </tr>\n",
              "    <tr>\n",
              "      <th>2</th>\n",
              "      <td>[هیممم, let, ', s, play, ball, with, nct, #nct...</td>\n",
              "      <td>Kimiya2003kpop</td>\n",
              "      <td>0.000000</td>\n",
              "      <td>[#nct_universe, #nct, #universe]</td>\n",
              "      <td>[62, 62, 62]</td>\n",
              "    </tr>\n",
              "    <tr>\n",
              "      <th>3</th>\n",
              "      <td>[&lt;user&gt;, mananzan, and, almario, share, their,...</td>\n",
              "      <td>rapplerdotcom</td>\n",
              "      <td>0.032258</td>\n",
              "      <td>[#nobelpeaceprize]</td>\n",
              "      <td>[71]</td>\n",
              "    </tr>\n",
              "    <tr>\n",
              "      <th>4</th>\n",
              "      <td>[#iniラジオリクエスト仲間, 📻, nack5, 📻, &lt;url&gt;, #ini, &lt;us...</td>\n",
              "      <td>fjmkkysk0810</td>\n",
              "      <td>0.000000</td>\n",
              "      <td>[#iniラジオリクエスト仲間, #ini, #rocketeer]</td>\n",
              "      <td>[96, 12, 12]</td>\n",
              "    </tr>\n",
              "    <tr>\n",
              "      <th>...</th>\n",
              "      <td>...</td>\n",
              "      <td>...</td>\n",
              "      <td>...</td>\n",
              "      <td>...</td>\n",
              "      <td>...</td>\n",
              "    </tr>\n",
              "    <tr>\n",
              "      <th>245</th>\n",
              "      <td>[now, showing, dhamakedar, weekend, loaded, wi...</td>\n",
              "      <td>_PVRCinemas</td>\n",
              "      <td>1.000000</td>\n",
              "      <td>[#pvr, #upcomingfilms]</td>\n",
              "      <td>[96, 96]</td>\n",
              "    </tr>\n",
              "    <tr>\n",
              "      <th>246</th>\n",
              "      <td>[&lt;user&gt;, sells, its, products, on, both, the, ...</td>\n",
              "      <td>tbonnita</td>\n",
              "      <td>0.666667</td>\n",
              "      <td>[#26icpauannualseminar]</td>\n",
              "      <td>[39]</td>\n",
              "    </tr>\n",
              "    <tr>\n",
              "      <th>247</th>\n",
              "      <td>[with, just, &lt;number&gt;, hours, left, to, cast, ...</td>\n",
              "      <td>lolbookawards</td>\n",
              "      <td>0.000000</td>\n",
              "      <td>[#lollies2022]</td>\n",
              "      <td>[96]</td>\n",
              "    </tr>\n",
              "    <tr>\n",
              "      <th>248</th>\n",
              "      <td>[hear, how, our, #startyourday, hosts, &lt;user&gt;,...</td>\n",
              "      <td>BNCNews</td>\n",
              "      <td>0.000000</td>\n",
              "      <td>[#startyourday, #jussiesmollett]</td>\n",
              "      <td>[96, 57]</td>\n",
              "    </tr>\n",
              "    <tr>\n",
              "      <th>249</th>\n",
              "      <td>[#meetingyoulovingyou, today, ’, s, stills, ar...</td>\n",
              "      <td>YoukuOfficial</td>\n",
              "      <td>0.116279</td>\n",
              "      <td>[#meetingyoulovingyou, #youku, #优酷]</td>\n",
              "      <td>[96, 96, 96]</td>\n",
              "    </tr>\n",
              "  </tbody>\n",
              "</table>\n",
              "<p>250 rows × 5 columns</p>\n",
              "</div>"
            ],
            "text/plain": [
              "                                               content  ...      clusters\n",
              "0    [📸, <number>, enhypen, official, twitter, upda...  ...      [96, 96]\n",
              "1    [<user>, <user>, i, hope, you, will, be, sippi...  ...      [13, 13]\n",
              "2    [هیممم, let, ', s, play, ball, with, nct, #nct...  ...  [62, 62, 62]\n",
              "3    [<user>, mananzan, and, almario, share, their,...  ...          [71]\n",
              "4    [#iniラジオリクエスト仲間, 📻, nack5, 📻, <url>, #ini, <us...  ...  [96, 12, 12]\n",
              "..                                                 ...  ...           ...\n",
              "245  [now, showing, dhamakedar, weekend, loaded, wi...  ...      [96, 96]\n",
              "246  [<user>, sells, its, products, on, both, the, ...  ...          [39]\n",
              "247  [with, just, <number>, hours, left, to, cast, ...  ...          [96]\n",
              "248  [hear, how, our, #startyourday, hosts, <user>,...  ...      [96, 57]\n",
              "249  [#meetingyoulovingyou, today, ’, s, stills, ar...  ...  [96, 96, 96]\n",
              "\n",
              "[250 rows x 5 columns]"
            ]
          },
          "metadata": {},
          "execution_count": 159
        }
      ]
    },
    {
      "cell_type": "markdown",
      "metadata": {
        "id": "deIN7j2Aputw"
      },
      "source": [
        "# Создание обучающей и тестирующей выборки"
      ]
    },
    {
      "cell_type": "code",
      "metadata": {
        "id": "lW9dUIULp43K"
      },
      "source": [
        "num_of_tags = max_size(data['tags'])\n",
        "data.reset_index(drop=True)\n",
        "data1 = data"
      ],
      "execution_count": null,
      "outputs": []
    },
    {
      "cell_type": "code",
      "metadata": {
        "id": "_aiIUH0cAm7e"
      },
      "source": [
        "data.drop(columns = 'author',inplace=True, axis=1)"
      ],
      "execution_count": null,
      "outputs": []
    },
    {
      "cell_type": "markdown",
      "metadata": {
        "id": "Acr_3Ii_5_8m"
      },
      "source": [
        "**Ищем индексы элементов с пустой строкой**"
      ]
    },
    {
      "cell_type": "code",
      "metadata": {
        "id": "hdhofnZ-qKMJ"
      },
      "source": [
        "def bert_tweet_encofing(bertClient, content: pd.Series):\n",
        "  content = content.apply(lambda tweet:bertClient.encode([tweet], is_tokenized=True))\n",
        "  return content.apply(lambda tweet: tweet[0])"
      ],
      "execution_count": null,
      "outputs": []
    },
    {
      "cell_type": "code",
      "metadata": {
        "colab": {
          "base_uri": "https://localhost:8080/",
          "height": 206
        },
        "id": "2qoWjrqfClLL",
        "outputId": "6ce78afb-7009-40eb-e27a-35b556f02612"
      },
      "source": [
        "data = data1[:100000]\n",
        "data = data.reset_index(drop=True)\n",
        "data.head()"
      ],
      "execution_count": null,
      "outputs": [
        {
          "output_type": "execute_result",
          "data": {
            "text/html": [
              "<div>\n",
              "<style scoped>\n",
              "    .dataframe tbody tr th:only-of-type {\n",
              "        vertical-align: middle;\n",
              "    }\n",
              "\n",
              "    .dataframe tbody tr th {\n",
              "        vertical-align: top;\n",
              "    }\n",
              "\n",
              "    .dataframe thead th {\n",
              "        text-align: right;\n",
              "    }\n",
              "</style>\n",
              "<table border=\"1\" class=\"dataframe\">\n",
              "  <thead>\n",
              "    <tr style=\"text-align: right;\">\n",
              "      <th></th>\n",
              "      <th>content</th>\n",
              "      <th>number_of_likes</th>\n",
              "      <th>tags</th>\n",
              "      <th>clusters</th>\n",
              "    </tr>\n",
              "  </thead>\n",
              "  <tbody>\n",
              "    <tr>\n",
              "      <th>0</th>\n",
              "      <td>[📸, &lt;number&gt;, enhypen, official, twitter, upda...</td>\n",
              "      <td>0.000000</td>\n",
              "      <td>[#todaysenhypen, #sunghoonkingparkmc]</td>\n",
              "      <td>[96, 96]</td>\n",
              "    </tr>\n",
              "    <tr>\n",
              "      <th>1</th>\n",
              "      <td>[&lt;user&gt;, &lt;user&gt;, i, hope, you, will, be, sippi...</td>\n",
              "      <td>0.050000</td>\n",
              "      <td>[#huntersrefreshes, #redroadtrip]</td>\n",
              "      <td>[13, 13]</td>\n",
              "    </tr>\n",
              "    <tr>\n",
              "      <th>2</th>\n",
              "      <td>[هیممم, let, ', s, play, ball, with, nct, #nct...</td>\n",
              "      <td>0.000000</td>\n",
              "      <td>[#nct_universe, #nct, #universe]</td>\n",
              "      <td>[62, 62, 62]</td>\n",
              "    </tr>\n",
              "    <tr>\n",
              "      <th>3</th>\n",
              "      <td>[&lt;user&gt;, mananzan, and, almario, share, their,...</td>\n",
              "      <td>0.032258</td>\n",
              "      <td>[#nobelpeaceprize]</td>\n",
              "      <td>[71]</td>\n",
              "    </tr>\n",
              "    <tr>\n",
              "      <th>4</th>\n",
              "      <td>[#iniラジオリクエスト仲間, 📻, nack5, 📻, &lt;url&gt;, #ini, &lt;us...</td>\n",
              "      <td>0.000000</td>\n",
              "      <td>[#iniラジオリクエスト仲間, #ini, #rocketeer]</td>\n",
              "      <td>[96, 12, 12]</td>\n",
              "    </tr>\n",
              "  </tbody>\n",
              "</table>\n",
              "</div>"
            ],
            "text/plain": [
              "                                             content  ...      clusters\n",
              "0  [📸, <number>, enhypen, official, twitter, upda...  ...      [96, 96]\n",
              "1  [<user>, <user>, i, hope, you, will, be, sippi...  ...      [13, 13]\n",
              "2  [هیممم, let, ', s, play, ball, with, nct, #nct...  ...  [62, 62, 62]\n",
              "3  [<user>, mananzan, and, almario, share, their,...  ...          [71]\n",
              "4  [#iniラジオリクエスト仲間, 📻, nack5, 📻, <url>, #ini, <us...  ...  [96, 12, 12]\n",
              "\n",
              "[5 rows x 4 columns]"
            ]
          },
          "metadata": {},
          "execution_count": 163
        }
      ]
    },
    {
      "cell_type": "code",
      "metadata": {
        "id": "DxkfY_4bUQ4j"
      },
      "source": [
        "#model.most_similar(positive=['#fishing'])"
      ],
      "execution_count": null,
      "outputs": []
    },
    {
      "cell_type": "code",
      "metadata": {
        "id": "70FKKi4BVGxB"
      },
      "source": [
        "dict_of_vectors['clusters'] = dict_of_vectors['clusters'].apply(lambda x: x[0])"
      ],
      "execution_count": null,
      "outputs": []
    },
    {
      "cell_type": "code",
      "metadata": {
        "colab": {
          "base_uri": "https://localhost:8080/",
          "height": 206
        },
        "id": "JP97Bv97VbLJ",
        "outputId": "f163148b-99a1-4d9a-f93c-2539dbab94ab"
      },
      "source": [
        "dict_of_vectors.head()"
      ],
      "execution_count": null,
      "outputs": [
        {
          "output_type": "execute_result",
          "data": {
            "text/html": [
              "<div>\n",
              "<style scoped>\n",
              "    .dataframe tbody tr th:only-of-type {\n",
              "        vertical-align: middle;\n",
              "    }\n",
              "\n",
              "    .dataframe tbody tr th {\n",
              "        vertical-align: top;\n",
              "    }\n",
              "\n",
              "    .dataframe thead th {\n",
              "        text-align: right;\n",
              "    }\n",
              "</style>\n",
              "<table border=\"1\" class=\"dataframe\">\n",
              "  <thead>\n",
              "    <tr style=\"text-align: right;\">\n",
              "      <th></th>\n",
              "      <th>words</th>\n",
              "      <th>vectors</th>\n",
              "      <th>clusters</th>\n",
              "    </tr>\n",
              "  </thead>\n",
              "  <tbody>\n",
              "    <tr>\n",
              "      <th>0</th>\n",
              "      <td>#txt_ito</td>\n",
              "      <td>[1.6883262, -3.7271774, 1.4069372, 5.524123, -...</td>\n",
              "      <td>85</td>\n",
              "    </tr>\n",
              "    <tr>\n",
              "      <th>1</th>\n",
              "      <td>#txt_ito解禁</td>\n",
              "      <td>[-3.4602497, -0.019245002, 2.4544702, 2.656884...</td>\n",
              "      <td>85</td>\n",
              "    </tr>\n",
              "    <tr>\n",
              "      <th>2</th>\n",
              "      <td>#tomorrow_x_together</td>\n",
              "      <td>[-3.374553, 1.1085926, 3.4937181, 1.6657225, -...</td>\n",
              "      <td>22</td>\n",
              "    </tr>\n",
              "    <tr>\n",
              "      <th>3</th>\n",
              "      <td>#ai</td>\n",
              "      <td>[-1.444032, 0.8323116, -1.8848944, 0.530972, 0...</td>\n",
              "      <td>90</td>\n",
              "    </tr>\n",
              "    <tr>\n",
              "      <th>4</th>\n",
              "      <td>#ethics</td>\n",
              "      <td>[0.15248415, 0.5306509, 0.036244188, 0.8140198...</td>\n",
              "      <td>38</td>\n",
              "    </tr>\n",
              "  </tbody>\n",
              "</table>\n",
              "</div>"
            ],
            "text/plain": [
              "                  words  ... clusters\n",
              "0              #txt_ito  ...       85\n",
              "1            #txt_ito解禁  ...       85\n",
              "2  #tomorrow_x_together  ...       22\n",
              "3                   #ai  ...       90\n",
              "4               #ethics  ...       38\n",
              "\n",
              "[5 rows x 3 columns]"
            ]
          },
          "metadata": {},
          "execution_count": 166
        }
      ]
    },
    {
      "cell_type": "code",
      "metadata": {
        "id": "YR73tKMoUfBq"
      },
      "source": [
        "#(dict_of_vectors.loc[dict_of_vectors['clusters']==34, 'words'])"
      ],
      "execution_count": null,
      "outputs": []
    },
    {
      "cell_type": "code",
      "metadata": {
        "id": "Tqhj3QyHVuTX"
      },
      "source": [
        "#dict_of_vectors.iloc[]"
      ],
      "execution_count": null,
      "outputs": []
    },
    {
      "cell_type": "code",
      "source": [
        "data.head()"
      ],
      "metadata": {
        "colab": {
          "base_uri": "https://localhost:8080/",
          "height": 206
        },
        "id": "T7Gbsxz78xbc",
        "outputId": "da508bc4-50bd-4ba1-a3ab-d2a20806d220"
      },
      "execution_count": null,
      "outputs": [
        {
          "output_type": "execute_result",
          "data": {
            "text/html": [
              "<div>\n",
              "<style scoped>\n",
              "    .dataframe tbody tr th:only-of-type {\n",
              "        vertical-align: middle;\n",
              "    }\n",
              "\n",
              "    .dataframe tbody tr th {\n",
              "        vertical-align: top;\n",
              "    }\n",
              "\n",
              "    .dataframe thead th {\n",
              "        text-align: right;\n",
              "    }\n",
              "</style>\n",
              "<table border=\"1\" class=\"dataframe\">\n",
              "  <thead>\n",
              "    <tr style=\"text-align: right;\">\n",
              "      <th></th>\n",
              "      <th>content</th>\n",
              "      <th>number_of_likes</th>\n",
              "      <th>tags</th>\n",
              "      <th>clusters</th>\n",
              "    </tr>\n",
              "  </thead>\n",
              "  <tbody>\n",
              "    <tr>\n",
              "      <th>0</th>\n",
              "      <td>[📸, &lt;number&gt;, enhypen, official, twitter, upda...</td>\n",
              "      <td>0.000000</td>\n",
              "      <td>[#todaysenhypen, #sunghoonkingparkmc]</td>\n",
              "      <td>[96, 96]</td>\n",
              "    </tr>\n",
              "    <tr>\n",
              "      <th>1</th>\n",
              "      <td>[&lt;user&gt;, &lt;user&gt;, i, hope, you, will, be, sippi...</td>\n",
              "      <td>0.050000</td>\n",
              "      <td>[#huntersrefreshes, #redroadtrip]</td>\n",
              "      <td>[13, 13]</td>\n",
              "    </tr>\n",
              "    <tr>\n",
              "      <th>2</th>\n",
              "      <td>[هیممم, let, ', s, play, ball, with, nct, #nct...</td>\n",
              "      <td>0.000000</td>\n",
              "      <td>[#nct_universe, #nct, #universe]</td>\n",
              "      <td>[62, 62, 62]</td>\n",
              "    </tr>\n",
              "    <tr>\n",
              "      <th>3</th>\n",
              "      <td>[&lt;user&gt;, mananzan, and, almario, share, their,...</td>\n",
              "      <td>0.032258</td>\n",
              "      <td>[#nobelpeaceprize]</td>\n",
              "      <td>[71]</td>\n",
              "    </tr>\n",
              "    <tr>\n",
              "      <th>4</th>\n",
              "      <td>[#iniラジオリクエスト仲間, 📻, nack5, 📻, &lt;url&gt;, #ini, &lt;us...</td>\n",
              "      <td>0.000000</td>\n",
              "      <td>[#iniラジオリクエスト仲間, #ini, #rocketeer]</td>\n",
              "      <td>[96, 12, 12]</td>\n",
              "    </tr>\n",
              "  </tbody>\n",
              "</table>\n",
              "</div>"
            ],
            "text/plain": [
              "                                             content  ...      clusters\n",
              "0  [📸, <number>, enhypen, official, twitter, upda...  ...      [96, 96]\n",
              "1  [<user>, <user>, i, hope, you, will, be, sippi...  ...      [13, 13]\n",
              "2  [هیممم, let, ', s, play, ball, with, nct, #nct...  ...  [62, 62, 62]\n",
              "3  [<user>, mananzan, and, almario, share, their,...  ...          [71]\n",
              "4  [#iniラジオリクエスト仲間, 📻, nack5, 📻, <url>, #ini, <us...  ...  [96, 12, 12]\n",
              "\n",
              "[5 rows x 4 columns]"
            ]
          },
          "metadata": {},
          "execution_count": 169
        }
      ]
    },
    {
      "cell_type": "code",
      "metadata": {
        "id": "t_7lDHnkv98V"
      },
      "source": [
        "data['encoded_tweets'] = bert_tweet_encofing(bertClient, data['content'])"
      ],
      "execution_count": null,
      "outputs": []
    },
    {
      "cell_type": "code",
      "metadata": {
        "colab": {
          "base_uri": "https://localhost:8080/",
          "height": 293
        },
        "id": "89-4g9zCUF09",
        "outputId": "b147258c-3615-482e-c152-e8b694326337"
      },
      "source": [
        "data.head()"
      ],
      "execution_count": null,
      "outputs": [
        {
          "output_type": "execute_result",
          "data": {
            "text/html": [
              "<div>\n",
              "<style scoped>\n",
              "    .dataframe tbody tr th:only-of-type {\n",
              "        vertical-align: middle;\n",
              "    }\n",
              "\n",
              "    .dataframe tbody tr th {\n",
              "        vertical-align: top;\n",
              "    }\n",
              "\n",
              "    .dataframe thead th {\n",
              "        text-align: right;\n",
              "    }\n",
              "</style>\n",
              "<table border=\"1\" class=\"dataframe\">\n",
              "  <thead>\n",
              "    <tr style=\"text-align: right;\">\n",
              "      <th></th>\n",
              "      <th>content</th>\n",
              "      <th>number_of_likes</th>\n",
              "      <th>tags</th>\n",
              "      <th>clusters</th>\n",
              "      <th>encoded_tweets</th>\n",
              "    </tr>\n",
              "  </thead>\n",
              "  <tbody>\n",
              "    <tr>\n",
              "      <th>0</th>\n",
              "      <td>[📸, &lt;number&gt;, enhypen, official, twitter, upda...</td>\n",
              "      <td>0.000000</td>\n",
              "      <td>[#todaysenhypen, #sunghoonkingparkmc]</td>\n",
              "      <td>[96, 96]</td>\n",
              "      <td>[0.32939872, -0.30507454, 0.39111164, -0.33064...</td>\n",
              "    </tr>\n",
              "    <tr>\n",
              "      <th>1</th>\n",
              "      <td>[&lt;user&gt;, &lt;user&gt;, i, hope, you, will, be, sippi...</td>\n",
              "      <td>0.050000</td>\n",
              "      <td>[#huntersrefreshes, #redroadtrip]</td>\n",
              "      <td>[13, 13]</td>\n",
              "      <td>[0.23472793, 0.13260995, 0.42289382, -0.612361...</td>\n",
              "    </tr>\n",
              "    <tr>\n",
              "      <th>2</th>\n",
              "      <td>[هیممم, let, ', s, play, ball, with, nct, #nct...</td>\n",
              "      <td>0.000000</td>\n",
              "      <td>[#nct_universe, #nct, #universe]</td>\n",
              "      <td>[62, 62, 62]</td>\n",
              "      <td>[0.32218915, 0.63399506, 0.2602748, -0.7202351...</td>\n",
              "    </tr>\n",
              "    <tr>\n",
              "      <th>3</th>\n",
              "      <td>[&lt;user&gt;, mananzan, and, almario, share, their,...</td>\n",
              "      <td>0.032258</td>\n",
              "      <td>[#nobelpeaceprize]</td>\n",
              "      <td>[71]</td>\n",
              "      <td>[0.21689746, 0.43490803, 0.728294, -0.72232616...</td>\n",
              "    </tr>\n",
              "    <tr>\n",
              "      <th>4</th>\n",
              "      <td>[#iniラジオリクエスト仲間, 📻, nack5, 📻, &lt;url&gt;, #ini, &lt;us...</td>\n",
              "      <td>0.000000</td>\n",
              "      <td>[#iniラジオリクエスト仲間, #ini, #rocketeer]</td>\n",
              "      <td>[96, 12, 12]</td>\n",
              "      <td>[0.25720194, 0.34953207, 0.24828765, -0.949806...</td>\n",
              "    </tr>\n",
              "  </tbody>\n",
              "</table>\n",
              "</div>"
            ],
            "text/plain": [
              "                                             content  ...                                     encoded_tweets\n",
              "0  [📸, <number>, enhypen, official, twitter, upda...  ...  [0.32939872, -0.30507454, 0.39111164, -0.33064...\n",
              "1  [<user>, <user>, i, hope, you, will, be, sippi...  ...  [0.23472793, 0.13260995, 0.42289382, -0.612361...\n",
              "2  [هیممم, let, ', s, play, ball, with, nct, #nct...  ...  [0.32218915, 0.63399506, 0.2602748, -0.7202351...\n",
              "3  [<user>, mananzan, and, almario, share, their,...  ...  [0.21689746, 0.43490803, 0.728294, -0.72232616...\n",
              "4  [#iniラジオリクエスト仲間, 📻, nack5, 📻, <url>, #ini, <us...  ...  [0.25720194, 0.34953207, 0.24828765, -0.949806...\n",
              "\n",
              "[5 rows x 5 columns]"
            ]
          },
          "metadata": {},
          "execution_count": 171
        }
      ]
    },
    {
      "cell_type": "code",
      "metadata": {
        "colab": {
          "base_uri": "https://localhost:8080/"
        },
        "id": "zOkPoCIqLOrp",
        "outputId": "80e40b43-2abc-424f-edc5-947a28133280"
      },
      "source": [
        "print('Оперативы хватило')"
      ],
      "execution_count": null,
      "outputs": [
        {
          "output_type": "stream",
          "name": "stdout",
          "text": [
            "Оперативы хватило\n"
          ]
        }
      ]
    },
    {
      "cell_type": "code",
      "metadata": {
        "id": "v6UycBs06Rr5"
      },
      "source": [
        "def cat_transform (cat: pd.Series, mdb):\n",
        "  res = cat.apply(lambda x: mdb.transform([x]))\n",
        "  res = res.apply(lambda arr: np.asarray(arr))\n",
        "  return res.apply(lambda x: x[0])"
      ],
      "execution_count": null,
      "outputs": []
    },
    {
      "cell_type": "code",
      "metadata": {
        "id": "0WrxzfYJw3s9"
      },
      "source": [
        "data['categorical'] = cat_transform(data['clusters'], mdb)"
      ],
      "execution_count": null,
      "outputs": []
    },
    {
      "cell_type": "code",
      "metadata": {
        "colab": {
          "base_uri": "https://localhost:8080/"
        },
        "id": "0-3uzRF7wjjY",
        "outputId": "fe573a2d-9101-4494-ecf2-075c86dc69aa"
      },
      "source": [
        "data['categorical'].iloc[0].shape"
      ],
      "execution_count": null,
      "outputs": [
        {
          "output_type": "execute_result",
          "data": {
            "text/plain": [
              "(121,)"
            ]
          },
          "metadata": {},
          "execution_count": 175
        }
      ]
    },
    {
      "cell_type": "code",
      "metadata": {
        "id": "wZYcdfIdp745"
      },
      "source": [
        "data_train, data_val = train_test_split(data, test_size=0.2, random_state=42)"
      ],
      "execution_count": null,
      "outputs": []
    },
    {
      "cell_type": "code",
      "metadata": {
        "id": "CxyfFWAwOu4z"
      },
      "source": [
        "def tensor_cat_trandform (categ: pd.Series):\n",
        "  tensor_train_cat = categ.apply(lambda arr: np.asarray(arr))\n",
        "  tensor_train_cat = np.asarray(tensor_train_cat)\n",
        "  return np.stack(tensor_train_cat)"
      ],
      "execution_count": null,
      "outputs": []
    },
    {
      "cell_type": "code",
      "metadata": {
        "colab": {
          "base_uri": "https://localhost:8080/"
        },
        "id": "D5C6ar2pNkp2",
        "outputId": "dc45a9d2-839b-4a39-bf37-654db51dbc7c"
      },
      "source": [
        "%cd /content/gdrive/My Drive/Models_alpha_version"
      ],
      "execution_count": null,
      "outputs": [
        {
          "output_type": "stream",
          "name": "stdout",
          "text": [
            "/content/gdrive/My Drive/Models_alpha_version\n"
          ]
        }
      ]
    },
    {
      "cell_type": "markdown",
      "metadata": {
        "id": "d0pQMFS-Ao96"
      },
      "source": [
        "**BERT**"
      ]
    },
    {
      "cell_type": "code",
      "metadata": {
        "id": "LumpQklVAoKb"
      },
      "source": [
        "tensor_train_cat = tensor_cat_trandform(data_train['categorical'])"
      ],
      "execution_count": null,
      "outputs": []
    },
    {
      "cell_type": "code",
      "metadata": {
        "id": "bkPySBdnN4GD"
      },
      "source": [
        "x_train = data_train['encoded_tweets'].to_numpy()\n",
        "x_val= data_val['encoded_tweets'].to_numpy()"
      ],
      "execution_count": null,
      "outputs": []
    },
    {
      "cell_type": "code",
      "metadata": {
        "id": "ruiLhXMARLBo"
      },
      "source": [
        "x_train = np.stack(x_train)\n",
        "x_val = np.stack(x_val)"
      ],
      "execution_count": null,
      "outputs": []
    },
    {
      "cell_type": "code",
      "metadata": {
        "colab": {
          "base_uri": "https://localhost:8080/"
        },
        "id": "OhAA4cPiDEqj",
        "outputId": "ddd1c0b7-7c6b-4f5a-f702-25194662c67c"
      },
      "source": [
        "#tensor_val_cat = data_val['categorical'].apply(lambda arr: np.asarray(arr))\n",
        "#tensor_val_cat = np.asarray(tensor_val_cat)\n",
        "#tensor_val_cat = np.stack(tensor_val_cat)\n",
        "tensor_val_cat = tensor_cat_trandform(data_val['categorical'])\n",
        "tensor_val_cat.shape\n",
        "#tensor_val_cat = pad_sequences(tensor_val_cat, len(tensor_train_cat[0]))"
      ],
      "execution_count": null,
      "outputs": [
        {
          "output_type": "execute_result",
          "data": {
            "text/plain": [
              "(20000, 121)"
            ]
          },
          "metadata": {},
          "execution_count": 182
        }
      ]
    },
    {
      "cell_type": "code",
      "metadata": {
        "colab": {
          "base_uri": "https://localhost:8080/"
        },
        "id": "yhzvpqJgGraq",
        "outputId": "2d53ddaa-b1f8-4545-ba43-47df9f5f7843"
      },
      "source": [
        "pip install keras-metrics"
      ],
      "execution_count": null,
      "outputs": [
        {
          "output_type": "stream",
          "name": "stdout",
          "text": [
            "Requirement already satisfied: keras-metrics in /usr/local/lib/python3.7/dist-packages (1.1.0)\n",
            "Requirement already satisfied: Keras>=2.1.5 in /tensorflow-1.15.2/python3.7 (from keras-metrics) (2.3.1)\n",
            "Requirement already satisfied: h5py in /usr/local/lib/python3.7/dist-packages (from Keras>=2.1.5->keras-metrics) (2.10.0)\n",
            "Requirement already satisfied: six>=1.9.0 in /usr/local/lib/python3.7/dist-packages (from Keras>=2.1.5->keras-metrics) (1.15.0)\n",
            "Requirement already satisfied: scipy>=0.14 in /usr/local/lib/python3.7/dist-packages (from Keras>=2.1.5->keras-metrics) (1.4.1)\n",
            "Requirement already satisfied: pyyaml in /usr/local/lib/python3.7/dist-packages (from Keras>=2.1.5->keras-metrics) (6.0)\n",
            "Requirement already satisfied: keras-applications>=1.0.6 in /tensorflow-1.15.2/python3.7 (from Keras>=2.1.5->keras-metrics) (1.0.8)\n",
            "Requirement already satisfied: numpy>=1.9.1 in /usr/local/lib/python3.7/dist-packages (from Keras>=2.1.5->keras-metrics) (1.19.5)\n",
            "Requirement already satisfied: keras-preprocessing>=1.0.5 in /usr/local/lib/python3.7/dist-packages (from Keras>=2.1.5->keras-metrics) (1.1.2)\n"
          ]
        }
      ]
    },
    {
      "cell_type": "code",
      "metadata": {
        "id": "D6hNkCMdI_7T"
      },
      "source": [
        "def recall(y_true, y_pred):\n",
        "    print(y_true)\n",
        "    true_positives = K.sum(K.round(K.clip(y_true * y_pred, 0, 1)))\n",
        "    print(true_positives)\n",
        "    possible_positives = K.sum(K.round(K.clip(y_true, 0, 1)))\n",
        "    recall_keras = true_positives / (possible_positives + K.epsilon())\n",
        "    return recall_keras\n",
        "\n",
        "\n",
        "def precision(y_true, y_pred):\n",
        "    true_positives = K.sum(K.round(K.clip(y_true * y_pred, 0, 1)))\n",
        "    predicted_positives = K.sum(K.round(K.clip(y_pred, 0, 1)))\n",
        "    precision_keras = true_positives / (predicted_positives + K.epsilon())\n",
        "    return precision_keras\n",
        "\n",
        "def f1(y_true, y_pred):\n",
        "    p = precision(y_true, y_pred)\n",
        "    r = recall(y_true, y_pred)\n",
        "    return 2 * ((p * r) / (p + r + K.epsilon()))\n",
        "\n"
      ],
      "execution_count": null,
      "outputs": []
    },
    {
      "cell_type": "code",
      "metadata": {
        "id": "FOh1MgbIGwfr"
      },
      "source": [
        "import keras_metrics"
      ],
      "execution_count": null,
      "outputs": []
    },
    {
      "cell_type": "code",
      "metadata": {
        "colab": {
          "base_uri": "https://localhost:8080/"
        },
        "id": "GZ7SJBb5Dvmx",
        "outputId": "bac1cc34-27ff-4967-e407-be9a04635b15"
      },
      "source": [
        "model = keras.Sequential()\n",
        "model.add(L.InputLayer(batch_input_shape= (None, 768)))\n",
        "model.add(L.Dense(input_shape = (None,768), activation='relu', units = 256))\n",
        "#model.add(Dropout(0.25))\n",
        "model.add(L.Dense(input_shape = (None,256), activation='relu', units = 128))\n",
        "#model.add(Dropout(0.25))\n",
        "model.add(L.Dense(input_shape=(None,128), activation='relu', units = 121))\n",
        "#model.add(L.Activation('softmax'))\n",
        "#model.add(L.Dense(input_shape = (None, 125), activation='softmax', units = 121))\n",
        "model.compile(optimizer='adam', loss='categorical_crossentropy', metrics=['accuracy', precision, recall, f1])"
      ],
      "execution_count": null,
      "outputs": [
        {
          "output_type": "stream",
          "name": "stdout",
          "text": [
            "Tensor(\"dense_12_target:0\", shape=(?, ?), dtype=float32)\n",
            "Tensor(\"metrics_2/recall/Sum:0\", shape=(), dtype=float32)\n",
            "Tensor(\"dense_12_target:0\", shape=(?, ?), dtype=float32)\n",
            "Tensor(\"metrics_2/f1/Sum_2:0\", shape=(), dtype=float32)\n"
          ]
        }
      ]
    },
    {
      "cell_type": "code",
      "metadata": {
        "colab": {
          "base_uri": "https://localhost:8080/",
          "height": 422
        },
        "id": "kr4nELF9G08l",
        "outputId": "d385eb5c-e635-4b73-e8f3-7b5864732cd4"
      },
      "source": [
        "plot_model(model, to_file='model_tags.png', show_shapes=True)"
      ],
      "execution_count": null,
      "outputs": [
        {
          "output_type": "execute_result",
          "data": {
            "image/png": "[encoded data removed]",
            "text/plain": [
              "<IPython.core.display.Image object>"
            ]
          },
          "metadata": {},
          "execution_count": 187
        }
      ]
    },
    {
      "cell_type": "code",
      "metadata": {
        "colab": {
          "base_uri": "https://localhost:8080/"
        },
        "id": "Z9VJyLW7Hj27",
        "outputId": "d454a346-c0aa-42f0-cc81-c82b8fc12bc3"
      },
      "source": [
        "model.summary()"
      ],
      "execution_count": null,
      "outputs": [
        {
          "output_type": "stream",
          "name": "stdout",
          "text": [
            "Model: \"sequential_3\"\n",
            "_________________________________________________________________\n",
            "Layer (type)                 Output Shape              Param #   \n",
            "=================================================================\n",
            "dense_10 (Dense)             (None, 256)               196864    \n",
            "_________________________________________________________________\n",
            "dense_11 (Dense)             (None, 128)               32896     \n",
            "_________________________________________________________________\n",
            "dense_12 (Dense)             (None, 121)               15609     \n",
            "=================================================================\n",
            "Total params: 245,369\n",
            "Trainable params: 245,369\n",
            "Non-trainable params: 0\n",
            "_________________________________________________________________\n"
          ]
        }
      ]
    },
    {
      "cell_type": "code",
      "metadata": {
        "id": "oqpwD5iH2grv"
      },
      "source": [
        "model.load_weights('./tag_prediction_model_weights.h5')"
      ],
      "execution_count": null,
      "outputs": []
    },
    {
      "cell_type": "code",
      "metadata": {
        "colab": {
          "base_uri": "https://localhost:8080/"
        },
        "id": "c5X7gW1yHnVf",
        "outputId": "2689dfad-638a-4752-cc1f-57d7d7918b35"
      },
      "source": [
        "tensorboard = tf.keras.callbacks.TensorBoard(log_dir='./logs', write_graph=True, write_images=True)\n",
        "early_stopping = EarlyStopping(monitor='val_loss')\n",
        "history = model.fit(x = x_train, y = tensor_train_cat,\n",
        "                    batch_size=100,\n",
        "                    epochs=100,\n",
        "                    verbose=1,\n",
        "                    validation_split=0.1,\n",
        "                    callbacks=[tensorboard, early_stopping])"
      ],
      "execution_count": null,
      "outputs": [
        {
          "output_type": "stream",
          "name": "stdout",
          "text": [
            "WARNING:tensorflow:From /tensorflow-1.15.2/python3.7/tensorflow_core/python/ops/math_grad.py:1424: where (from tensorflow.python.ops.array_ops) is deprecated and will be removed in a future version.\n",
            "Instructions for updating:\n",
            "Use tf.where in 2.0, which has the same broadcast rule as np.where\n",
            "Train on 72000 samples, validate on 8000 samples\n",
            "Epoch 1/100\n",
            "  200/72000 [..............................] - ETA: 4:07 - loss: 11.6148 - accuracy: 0.2600 - precision: 0.0314 - recall: 0.5629 - f1: 0.0596"
          ]
        },
        {
          "output_type": "stream",
          "name": "stderr",
          "text": [
            "/tensorflow-1.15.2/python3.7/keras/callbacks/callbacks.py:95: RuntimeWarning: Method (on_train_batch_end) is slow compared to the batch update (0.342866). Check your callbacks.\n",
            "  % (hook_name, delta_t_median), RuntimeWarning)\n"
          ]
        },
        {
          "output_type": "stream",
          "name": "stdout",
          "text": [
            " 3000/72000 [>.............................] - ETA: 38s - loss: 11.5704 - accuracy: 0.2217 - precision: 0.0307 - recall: 0.5422 - f1: 0.0580"
          ]
        },
        {
          "output_type": "stream",
          "name": "stderr",
          "text": [
            "/tensorflow-1.15.2/python3.7/keras/callbacks/callbacks.py:95: RuntimeWarning: Method (on_train_batch_end) is slow compared to the batch update (0.587280). Check your callbacks.\n",
            "  % (hook_name, delta_t_median), RuntimeWarning)\n",
            "/tensorflow-1.15.2/python3.7/keras/callbacks/callbacks.py:95: RuntimeWarning: Method (on_train_batch_end) is slow compared to the batch update (0.172289). Check your callbacks.\n",
            "  % (hook_name, delta_t_median), RuntimeWarning)\n"
          ]
        },
        {
          "output_type": "stream",
          "name": "stdout",
          "text": [
            "72000/72000 [==============================] - 6s 78us/step - loss: 10.9900 - accuracy: 0.2325 - precision: 0.0357 - recall: 0.5627 - f1: 0.0670 - val_loss: 10.8629 - val_accuracy: 0.2339 - val_precision: 0.0369 - val_recall: 0.5714 - val_f1: 0.0692\n",
            "Epoch 2/100\n",
            "72000/72000 [==============================] - 4s 59us/step - loss: 10.9067 - accuracy: 0.2326 - precision: 0.0363 - recall: 0.5660 - f1: 0.0683 - val_loss: 10.8713 - val_accuracy: 0.2351 - val_precision: 0.0390 - val_recall: 0.5695 - val_f1: 0.0730\n"
          ]
        }
      ]
    },
    {
      "cell_type": "code",
      "metadata": {
        "colab": {
          "base_uri": "https://localhost:8080/"
        },
        "id": "iQXcbIQY-Cgj",
        "outputId": "03fcbf61-6aac-4818-8687-3cfceb50e3d0"
      },
      "source": [
        "model.predict(x=x_train[13:14])[0]"
      ],
      "execution_count": null,
      "outputs": [
        {
          "output_type": "execute_result",
          "data": {
            "text/plain": [
              "array([   0.      ,  306.22992 ,  594.7467  ,    0.      ,    0.      ,\n",
              "          0.      ,    0.      ,    0.      ,    0.      ,    0.      ,\n",
              "          0.      ,    0.      , 1236.2375  ,    0.      ,    0.      ,\n",
              "          0.      ,    0.      ,    0.      ,    0.      ,    0.      ,\n",
              "        197.08475 ,    0.      ,  863.7605  ,    0.      , 1312.0048  ,\n",
              "          0.      ,    0.      ,  309.6776  ,    0.      ,    0.      ,\n",
              "          0.      ,    0.      ,  122.934364,    0.      ,    0.      ,\n",
              "          0.      ,  142.85136 ,  178.64944 ,    0.      ,  502.35547 ,\n",
              "          0.      ,    0.      ,   87.78244 ,    0.      ,  625.45905 ,\n",
              "          0.      ,    0.      ,    0.      ,    0.      ,    0.      ,\n",
              "          0.      ,    0.      ,    0.      ,  100.01656 ,    0.      ,\n",
              "          0.      ,    0.      ,    0.      ,    0.      ,    0.      ,\n",
              "          0.      ,  140.2018  ,    0.      ,    0.      ,    0.      ,\n",
              "        192.69585 ,    0.      ,    0.      ,   99.09492 ,    0.      ,\n",
              "          0.      ,    0.      ,    0.      ,  962.0865  ,  605.59    ,\n",
              "         52.707977,    0.      ,  307.09735 ,   27.818213,    0.      ,\n",
              "        472.3448  ,    0.      ,    0.      ,    0.      ,    0.      ,\n",
              "          0.      ,    0.      ,    0.      ,    0.      ,    0.      ,\n",
              "          0.      ,    0.      ,    0.      ,    0.      ,    0.      ,\n",
              "          0.      , 6475.081   ,    0.      ,    0.      ,    0.      ,\n",
              "          0.      ,    0.      ,    0.      ,    0.      ,    0.      ,\n",
              "          0.      ,    0.      ,    0.      ,    0.      ,    0.      ,\n",
              "       1184.1857  ,    0.      ,    0.      ,    0.      ,    0.      ,\n",
              "        211.69267 ,    0.      ,    0.      ,    0.      ,    0.      ,\n",
              "          0.      ], dtype=float32)"
            ]
          },
          "metadata": {},
          "execution_count": 191
        }
      ]
    },
    {
      "cell_type": "markdown",
      "metadata": {
        "id": "MmFFdmTYLegE"
      },
      "source": []
    },
    {
      "cell_type": "markdown",
      "metadata": {
        "id": "HL-KuTstLekQ"
      },
      "source": [
        "**Тест на вводимом тексте**"
      ]
    },
    {
      "cell_type": "code",
      "metadata": {
        "colab": {
          "base_uri": "https://localhost:8080/"
        },
        "id": "qoc1pEfD_2rz",
        "outputId": "cf08e7d1-bf70-4017-dd16-313a80d3ed19"
      },
      "source": [
        "likes_for_train = np.asarray(data_train['number_of_likes'])\n",
        "likes_for_val = np.asarray(data_val['number_of_likes'])\n",
        "likes_for_train.shape"
      ],
      "execution_count": null,
      "outputs": [
        {
          "output_type": "execute_result",
          "data": {
            "text/plain": [
              "(80000,)"
            ]
          },
          "metadata": {},
          "execution_count": 192
        }
      ]
    },
    {
      "cell_type": "markdown",
      "metadata": {
        "id": "NBAKalRM_jRr"
      },
      "source": [
        "**Предсказание по тэгу и тексту лайков**"
      ]
    },
    {
      "cell_type": "code",
      "metadata": {
        "id": "U_NIyVLK_v2o"
      },
      "source": [
        "model_with_likes = keras.models.Sequential()\n",
        "#l_title = L.Input(shape=[None], name=\"Title\")\n",
        "l_twitt = L.Input(batch_shape=(None, 768))\n",
        "l_categ = L.Input(batch_shape = (None, 121))\n",
        "l_categor = L.Dense(input_shape = (121,1), activation='relu', units =1)(l_categ)\n",
        "l_twitt_emb1 = L.Dense(input_shape = (768,1), activation='relu', units = 256)(l_twitt)\n",
        "l_twitt_emb2 = L.Dense(input_shape = (256,1), activation='relu', units = 128)(l_twitt_emb1)\n",
        "l_twitt_emb3 = L.Dense(input_shape=(128,1), activation='relu', units = 121)(l_twitt_emb2)\n",
        "l_all = L.Concatenate()([l_twitt_emb3, l_categor])\n",
        "output_layer1 = L.Dense(input_shape=(121*2,1),activation='relu', units=128)(l_all)\n",
        "output_layer2 = L.Dense(input_shape = (128,1),activation='relu', units=1)(output_layer1)\n",
        "model_with_likes = keras.models.Model(inputs=[l_twitt, l_categ], outputs=[output_layer2])\n",
        "model_with_likes.compile(optimizer='adam', loss='mse', metrics=['accuracy'])"
      ],
      "execution_count": null,
      "outputs": []
    },
    {
      "cell_type": "code",
      "metadata": {
        "id": "5Wh7egMo2Tx5"
      },
      "source": [
        "model_with_likes.load_weights('./tag_prediction_model_with_likes_weights.h5')"
      ],
      "execution_count": null,
      "outputs": []
    },
    {
      "cell_type": "code",
      "metadata": {
        "colab": {
          "base_uri": "https://localhost:8080/",
          "height": 754
        },
        "id": "MoGOviwZZGTm",
        "outputId": "ede2c14d-dce3-4a3d-d9f9-153a945ed037"
      },
      "source": [
        "plot_model(model_with_likes, to_file='model_likes.png', show_shapes=True)"
      ],
      "execution_count": null,
      "outputs": [
        {
          "output_type": "execute_result",
          "data": {
            "image/png": "[encoded data removed]",
            "text/plain": [
              "<IPython.core.display.Image object>"
            ]
          },
          "metadata": {},
          "execution_count": 195
        }
      ]
    },
    {
      "cell_type": "code",
      "metadata": {
        "colab": {
          "base_uri": "https://localhost:8080/"
        },
        "id": "yWvk9Ul5acYd",
        "outputId": "e0ae9078-cf92-437e-bd57-e2f173f2c018"
      },
      "source": [
        "model_with_likes.summary()"
      ],
      "execution_count": null,
      "outputs": [
        {
          "output_type": "stream",
          "name": "stdout",
          "text": [
            "Model: \"model_2\"\n",
            "__________________________________________________________________________________________________\n",
            "Layer (type)                    Output Shape         Param #     Connected to                     \n",
            "==================================================================================================\n",
            "input_5 (InputLayer)            (None, 768)          0                                            \n",
            "__________________________________________________________________________________________________\n",
            "dense_14 (Dense)                (None, 256)          196864      input_5[0][0]                    \n",
            "__________________________________________________________________________________________________\n",
            "dense_15 (Dense)                (None, 128)          32896       dense_14[0][0]                   \n",
            "__________________________________________________________________________________________________\n",
            "input_6 (InputLayer)            (None, 121)          0                                            \n",
            "__________________________________________________________________________________________________\n",
            "dense_16 (Dense)                (None, 121)          15609       dense_15[0][0]                   \n",
            "__________________________________________________________________________________________________\n",
            "dense_13 (Dense)                (None, 1)            122         input_6[0][0]                    \n",
            "__________________________________________________________________________________________________\n",
            "concatenate_2 (Concatenate)     (None, 122)          0           dense_16[0][0]                   \n",
            "                                                                 dense_13[0][0]                   \n",
            "__________________________________________________________________________________________________\n",
            "dense_17 (Dense)                (None, 128)          15744       concatenate_2[0][0]              \n",
            "__________________________________________________________________________________________________\n",
            "dense_18 (Dense)                (None, 1)            129         dense_17[0][0]                   \n",
            "==================================================================================================\n",
            "Total params: 261,364\n",
            "Trainable params: 261,364\n",
            "Non-trainable params: 0\n",
            "__________________________________________________________________________________________________\n"
          ]
        }
      ]
    },
    {
      "cell_type": "code",
      "metadata": {
        "colab": {
          "base_uri": "https://localhost:8080/"
        },
        "id": "cyPlxLGYLjPw",
        "outputId": "ef759657-740c-4dd7-bb65-2e2f360aaffd"
      },
      "source": [
        "his_of_model_with_likes = model_with_likes.fit(x = [x_train,tensor_train_cat], y = likes_for_train,\n",
        "                    batch_size=100,\n",
        "                    epochs=100,\n",
        "                    verbose=1,\n",
        "                    validation_split=0.1,\n",
        "                    callbacks=[tensorboard, early_stopping])"
      ],
      "execution_count": null,
      "outputs": [
        {
          "output_type": "stream",
          "name": "stdout",
          "text": [
            "Train on 72000 samples, validate on 8000 samples\n",
            "Epoch 1/100\n",
            "72000/72000 [==============================] - 4s 54us/step - loss: 0.1473 - accuracy: 0.7249 - val_loss: 0.1485 - val_accuracy: 0.7278\n",
            "Epoch 2/100\n",
            "72000/72000 [==============================] - 4s 50us/step - loss: 0.1473 - accuracy: 0.7249 - val_loss: 0.1485 - val_accuracy: 0.7278\n"
          ]
        }
      ]
    },
    {
      "cell_type": "code",
      "metadata": {
        "colab": {
          "base_uri": "https://localhost:8080/"
        },
        "id": "4s5z6XBMJhFm",
        "outputId": "69dc196f-d3c1-4aba-97b7-88960017d41a"
      },
      "source": [
        "print(\"Shit hasnt failed\")"
      ],
      "execution_count": null,
      "outputs": [
        {
          "output_type": "stream",
          "name": "stdout",
          "text": [
            "Shit hasnt failed\n"
          ]
        }
      ]
    },
    {
      "cell_type": "code",
      "metadata": {
        "id": "zAMBIXg6QxtV",
        "colab": {
          "base_uri": "https://localhost:8080/",
          "height": 35
        },
        "outputId": "4ab13fee-22f2-4be9-fde0-9d077e75f24a"
      },
      "source": [
        "from keras.models import save_model, load_model\n",
        "\n",
        "'''model.save('./tag_prediction_model.h5')\n",
        "model_with_likes.save('./tag_prediction_model_with_likes.h5')'''"
      ],
      "execution_count": null,
      "outputs": [
        {
          "output_type": "execute_result",
          "data": {
            "application/vnd.google.colaboratory.intrinsic+json": {
              "type": "string"
            },
            "text/plain": [
              "\"model.save('./tag_prediction_model.h5')\\nmodel_with_likes.save('./tag_prediction_model_with_likes.h5')\""
            ]
          },
          "metadata": {},
          "execution_count": 199
        }
      ]
    },
    {
      "cell_type": "code",
      "metadata": {
        "id": "7ehAyqpKRN7x"
      },
      "source": [
        "def training_of_model (data: pd.DataFrame, model, model_with_likes, mdb, bertClient, tensorboard, early_stopping):\n",
        "  data = data.sample(frac=1)\n",
        "  data = data.reset_index(drop=True)\n",
        "  data['encoded_tweets'] = bert_tweet_encofing(bertClient, data['content'])\n",
        "  data['categorical'] = cat_transform(data['clusters'], mdb)\n",
        "  data_train, data_val = train_test_split(data, test_size=0.2, random_state=42)\n",
        "  tensor_train_cat = tensor_cat_trandform(data_train['categorical'])\n",
        "  tensor_val_cat = tensor_cat_trandform(data_val['categorical'])\n",
        "  x_train = data_train['encoded_tweets'].to_numpy()\n",
        "  x_val= data_val['encoded_tweets'].to_numpy()\n",
        "  x_train = np.stack(x_train)\n",
        "  x_val = np.stack(x_val)\n",
        "  history = model.fit(x = x_train, y = tensor_train_cat,\n",
        "                    batch_size=100,\n",
        "                    epochs=50,\n",
        "                    verbose=1,\n",
        "                    validation_split=0.1,\n",
        "                    callbacks=[tensorboard, early_stopping])\n",
        "  likes_for_train = np.asarray(data_train['number_of_likes'])\n",
        "  likes_for_val = np.asarray(data_val['number_of_likes'])\n",
        "  his_of_model_with_likes = model_with_likes.fit(x = [x_train,tensor_train_cat], y =likes_for_train,\n",
        "                    batch_size=100,\n",
        "                    epochs=50,\n",
        "                    verbose=1,\n",
        "                    validation_split=0.1,\n",
        "                    callbacks=[tensorboard, early_stopping])\n",
        "  return model, model_with_likes"
      ],
      "execution_count": null,
      "outputs": []
    },
    {
      "cell_type": "code",
      "metadata": {
        "colab": {
          "base_uri": "https://localhost:8080/",
          "height": 1000
        },
        "id": "00KuxnqAQzZR",
        "outputId": "d80ed766-151f-4501-819a-be964c5124c4"
      },
      "source": [
        "#model = load_model('./tag_prediction_model.h5')\n",
        "for i in range (2,37):\n",
        "  model, model_with_likes = training_of_model(data1[(100000*(i-1)):(100000*i)],model, model_with_likes, mdb, bertClient, tensorboard, early_stopping)\n",
        "  model.save('./tag_prediction_model.h5')\n",
        "  model.save_weights('./tag_prediction_model_weights.h5')\n",
        "  model_with_likes.save('./tag_prediction_model_with_likes.h5')\n",
        "  model_with_likes.save_weights('./tag_prediction_model_with_likes_weights.h5')\n",
        "  print(i)  "
      ],
      "execution_count": null,
      "outputs": [
        {
          "output_type": "stream",
          "name": "stdout",
          "text": [
            "Train on 72000 samples, validate on 8000 samples\n",
            "Epoch 1/50\n",
            "72000/72000 [==============================] - 4s 50us/step - loss: 10.9729 - accuracy: 0.2340 - precision: 0.0358 - recall: 0.5634 - f1: 0.0673 - val_loss: 11.0494 - val_accuracy: 0.2305 - val_precision: 0.0379 - val_recall: 0.5605 - val_f1: 0.0710\n",
            "Epoch 2/50\n",
            "72000/72000 [==============================] - 4s 50us/step - loss: 11.0017 - accuracy: 0.2322 - precision: 0.0339 - recall: 0.5645 - f1: 0.0639 - val_loss: 11.0776 - val_accuracy: 0.2305 - val_precision: 0.0320 - val_recall: 0.5649 - val_f1: 0.0606\n",
            "Train on 72000 samples, validate on 8000 samples\n",
            "Epoch 1/50\n",
            "72000/72000 [==============================] - 4s 50us/step - loss: 0.1483 - accuracy: 0.7217 - val_loss: 0.1428 - val_accuracy: 0.7320\n",
            "Epoch 2/50\n",
            "72000/72000 [==============================] - 4s 50us/step - loss: 0.1483 - accuracy: 0.7217 - val_loss: 0.1428 - val_accuracy: 0.7320\n",
            "2\n",
            "Train on 72000 samples, validate on 8000 samples\n",
            "Epoch 1/50\n",
            "72000/72000 [==============================] - 4s 50us/step - loss: 10.9624 - accuracy: 0.2345 - precision: 0.0333 - recall: 0.5657 - f1: 0.0629 - val_loss: 10.9275 - val_accuracy: 0.2384 - val_precision: 0.0333 - val_recall: 0.5638 - val_f1: 0.0629\n",
            "Epoch 2/50\n",
            "72000/72000 [==============================] - 4s 51us/step - loss: 10.9360 - accuracy: 0.2346 - precision: 0.0340 - recall: 0.5662 - f1: 0.0641 - val_loss: 10.9429 - val_accuracy: 0.2368 - val_precision: 0.0291 - val_recall: 0.5682 - val_f1: 0.0553\n",
            "Train on 72000 samples, validate on 8000 samples\n",
            "Epoch 1/50\n",
            "72000/72000 [==============================] - 4s 51us/step - loss: 0.1456 - accuracy: 0.7258 - val_loss: 0.1515 - val_accuracy: 0.7140\n",
            "Epoch 2/50\n",
            "72000/72000 [==============================] - 4s 51us/step - loss: 0.1456 - accuracy: 0.7258 - val_loss: 0.1515 - val_accuracy: 0.7140\n",
            "3\n",
            "Train on 72000 samples, validate on 8000 samples\n",
            "Epoch 1/50\n",
            "72000/72000 [==============================] - 4s 49us/step - loss: 10.8990 - accuracy: 0.2341 - precision: 0.0318 - recall: 0.5704 - f1: 0.0602 - val_loss: 10.7934 - val_accuracy: 0.2410 - val_precision: 0.0316 - val_recall: 0.5732 - val_f1: 0.0599\n",
            "Epoch 2/50\n",
            "72000/72000 [==============================] - 4s 49us/step - loss: 10.8935 - accuracy: 0.2351 - precision: 0.0331 - recall: 0.5693 - f1: 0.0625 - val_loss: 10.7227 - val_accuracy: 0.2415 - val_precision: 0.0353 - val_recall: 0.5710 - val_f1: 0.0666\n",
            "Epoch 3/50\n",
            "72000/72000 [==============================] - 4s 49us/step - loss: 10.8648 - accuracy: 0.2336 - precision: 0.0336 - recall: 0.5696 - f1: 0.0635 - val_loss: 10.7009 - val_accuracy: 0.2397 - val_precision: 0.0344 - val_recall: 0.5723 - val_f1: 0.0649\n",
            "Epoch 4/50\n",
            "72000/72000 [==============================] - 4s 49us/step - loss: 10.8515 - accuracy: 0.2337 - precision: 0.0340 - recall: 0.5700 - f1: 0.0641 - val_loss: 10.6976 - val_accuracy: 0.2396 - val_precision: 0.0322 - val_recall: 0.5739 - val_f1: 0.0609\n",
            "Epoch 5/50\n",
            "72000/72000 [==============================] - 4s 50us/step - loss: 10.8408 - accuracy: 0.2343 - precision: 0.0350 - recall: 0.5695 - f1: 0.0659 - val_loss: 10.6717 - val_accuracy: 0.2410 - val_precision: 0.0338 - val_recall: 0.5737 - val_f1: 0.0638\n",
            "Epoch 6/50\n",
            "72000/72000 [==============================] - 4s 49us/step - loss: 10.8678 - accuracy: 0.2342 - precision: 0.0343 - recall: 0.5693 - f1: 0.0647 - val_loss: 10.7158 - val_accuracy: 0.2400 - val_precision: 0.0337 - val_recall: 0.5731 - val_f1: 0.0637\n",
            "Train on 72000 samples, validate on 8000 samples\n",
            "Epoch 1/50\n",
            "72000/72000 [==============================] - 4s 50us/step - loss: 0.1469 - accuracy: 0.7249 - val_loss: 0.1443 - val_accuracy: 0.7320\n",
            "Epoch 2/50\n",
            "72000/72000 [==============================] - 4s 50us/step - loss: 0.1469 - accuracy: 0.7249 - val_loss: 0.1443 - val_accuracy: 0.7320\n",
            "4\n",
            "Train on 72000 samples, validate on 8000 samples\n",
            "Epoch 1/50\n",
            "72000/72000 [==============================] - 4s 59us/step - loss: 10.9383 - accuracy: 0.2313 - precision: 0.0310 - recall: 0.5691 - f1: 0.0588 - val_loss: 10.9255 - val_accuracy: 0.2323 - val_precision: 0.0304 - val_recall: 0.5645 - val_f1: 0.0577\n",
            "Epoch 2/50\n",
            "72000/72000 [==============================] - 4s 60us/step - loss: 10.8975 - accuracy: 0.2328 - precision: 0.0332 - recall: 0.5680 - f1: 0.0628 - val_loss: 10.8805 - val_accuracy: 0.2327 - val_precision: 0.0362 - val_recall: 0.5607 - val_f1: 0.0680\n",
            "Epoch 3/50\n",
            "72000/72000 [==============================] - 4s 49us/step - loss: 10.8776 - accuracy: 0.2329 - precision: 0.0343 - recall: 0.5677 - f1: 0.0647 - val_loss: 10.8593 - val_accuracy: 0.2329 - val_precision: 0.0334 - val_recall: 0.5634 - val_f1: 0.0631\n",
            "Epoch 4/50\n",
            "72000/72000 [==============================] - 4s 49us/step - loss: 10.8614 - accuracy: 0.2316 - precision: 0.0324 - recall: 0.5694 - f1: 0.0613 - val_loss: 10.8481 - val_accuracy: 0.2320 - val_precision: 0.0334 - val_recall: 0.5634 - val_f1: 0.0631\n",
            "Epoch 5/50\n",
            "72000/72000 [==============================] - 4s 51us/step - loss: 10.8463 - accuracy: 0.2329 - precision: 0.0357 - recall: 0.5674 - f1: 0.0671 - val_loss: 10.8569 - val_accuracy: 0.2333 - val_precision: 0.0371 - val_recall: 0.5604 - val_f1: 0.0696\n",
            "Train on 72000 samples, validate on 8000 samples\n",
            "Epoch 1/50\n",
            "72000/72000 [==============================] - 4s 50us/step - loss: 0.1453 - accuracy: 0.7252 - val_loss: 0.1410 - val_accuracy: 0.7296\n",
            "Epoch 2/50\n",
            "72000/72000 [==============================] - 4s 51us/step - loss: 0.1453 - accuracy: 0.7252 - val_loss: 0.1410 - val_accuracy: 0.7296\n",
            "5\n",
            "Train on 72000 samples, validate on 8000 samples\n",
            "Epoch 1/50\n",
            "72000/72000 [==============================] - 4s 49us/step - loss: 10.9075 - accuracy: 0.2359 - precision: 0.0342 - recall: 0.5661 - f1: 0.0644 - val_loss: 10.9264 - val_accuracy: 0.2306 - val_precision: 0.0357 - val_recall: 0.5669 - val_f1: 0.0671\n",
            "Epoch 2/50\n",
            "72000/72000 [==============================] - 4s 49us/step - loss: 10.9256 - accuracy: 0.2358 - precision: 0.0327 - recall: 0.5671 - f1: 0.0619 - val_loss: 10.9776 - val_accuracy: 0.2309 - val_precision: 0.0338 - val_recall: 0.5661 - val_f1: 0.0638\n",
            "Train on 72000 samples, validate on 8000 samples\n",
            "Epoch 1/50\n",
            "72000/72000 [==============================] - 4s 49us/step - loss: 0.1469 - accuracy: 0.7242 - val_loss: 0.1443 - val_accuracy: 0.7236\n",
            "Epoch 2/50\n",
            "72000/72000 [==============================] - 4s 49us/step - loss: 0.1469 - accuracy: 0.7242 - val_loss: 0.1443 - val_accuracy: 0.7236\n",
            "6\n",
            "Train on 72000 samples, validate on 8000 samples\n",
            "Epoch 1/50\n",
            "72000/72000 [==============================] - 4s 49us/step - loss: 10.9151 - accuracy: 0.2370 - precision: 0.0322 - recall: 0.5667 - f1: 0.0609 - val_loss: 10.8130 - val_accuracy: 0.2395 - val_precision: 0.0354 - val_recall: 0.5662 - val_f1: 0.0666\n",
            "Epoch 2/50\n",
            "72000/72000 [==============================] - 4s 49us/step - loss: 10.8980 - accuracy: 0.2377 - precision: 0.0344 - recall: 0.5661 - f1: 0.0648 - val_loss: 10.8036 - val_accuracy: 0.2397 - val_precision: 0.0358 - val_recall: 0.5663 - val_f1: 0.0673\n",
            "Epoch 3/50\n",
            "72000/72000 [==============================] - 4s 49us/step - loss: 10.8860 - accuracy: 0.2380 - precision: 0.0353 - recall: 0.5658 - f1: 0.0664 - val_loss: 10.8844 - val_accuracy: 0.2393 - val_precision: 0.0321 - val_recall: 0.5675 - val_f1: 0.0608\n",
            "Train on 72000 samples, validate on 8000 samples\n",
            "Epoch 1/50\n",
            "72000/72000 [==============================] - 4s 50us/step - loss: 0.1453 - accuracy: 0.7244 - val_loss: 0.1439 - val_accuracy: 0.7254\n",
            "Epoch 2/50\n",
            "72000/72000 [==============================] - 4s 50us/step - loss: 0.1453 - accuracy: 0.7244 - val_loss: 0.1439 - val_accuracy: 0.7254\n",
            "7\n",
            "Train on 72000 samples, validate on 8000 samples\n",
            "Epoch 1/50\n",
            "72000/72000 [==============================] - 4s 51us/step - loss: 10.8997 - accuracy: 0.2325 - precision: 0.0333 - recall: 0.5667 - f1: 0.0629 - val_loss: 10.8375 - val_accuracy: 0.2373 - val_precision: 0.0326 - val_recall: 0.5739 - val_f1: 0.0617\n",
            "Epoch 2/50\n",
            "72000/72000 [==============================] - 4s 51us/step - loss: 10.8836 - accuracy: 0.2332 - precision: 0.0346 - recall: 0.5664 - f1: 0.0652 - val_loss: 10.8262 - val_accuracy: 0.2387 - val_precision: 0.0349 - val_recall: 0.5733 - val_f1: 0.0657\n",
            "Epoch 3/50\n",
            "72000/72000 [==============================] - 4s 51us/step - loss: 10.8729 - accuracy: 0.2317 - precision: 0.0353 - recall: 0.5664 - f1: 0.0665 - val_loss: 10.8174 - val_accuracy: 0.2366 - val_precision: 0.0363 - val_recall: 0.5724 - val_f1: 0.0682\n",
            "Epoch 4/50\n",
            "72000/72000 [==============================] - 4s 51us/step - loss: 10.8892 - accuracy: 0.2327 - precision: 0.0356 - recall: 0.5654 - f1: 0.0670 - val_loss: 10.8555 - val_accuracy: 0.2380 - val_precision: 0.0350 - val_recall: 0.5717 - val_f1: 0.0660\n",
            "Train on 72000 samples, validate on 8000 samples\n",
            "Epoch 1/50\n",
            "72000/72000 [==============================] - 4s 52us/step - loss: 0.1459 - accuracy: 0.7253 - val_loss: 0.1462 - val_accuracy: 0.7281\n",
            "Epoch 2/50\n",
            "72000/72000 [==============================] - 4s 52us/step - loss: 0.1459 - accuracy: 0.7253 - val_loss: 0.1462 - val_accuracy: 0.7281\n",
            "8\n",
            "Train on 72000 samples, validate on 8000 samples\n",
            "Epoch 1/50\n",
            "72000/72000 [==============================] - 4s 50us/step - loss: 10.8792 - accuracy: 0.2370 - precision: 0.0361 - recall: 0.5656 - f1: 0.0679 - val_loss: 10.7394 - val_accuracy: 0.2370 - val_precision: 0.0349 - val_recall: 0.5684 - val_f1: 0.0657\n",
            "Epoch 2/50\n",
            "72000/72000 [==============================] - 4s 50us/step - loss: 10.8884 - accuracy: 0.2370 - precision: 0.0349 - recall: 0.5664 - f1: 0.0657 - val_loss: 10.7710 - val_accuracy: 0.2362 - val_precision: 0.0368 - val_recall: 0.5665 - val_f1: 0.0691\n",
            "Train on 72000 samples, validate on 8000 samples\n",
            "Epoch 1/50\n",
            "72000/72000 [==============================] - 5s 64us/step - loss: 0.1471 - accuracy: 0.7246 - val_loss: 0.1438 - val_accuracy: 0.7204\n",
            "Epoch 2/50\n",
            "72000/72000 [==============================] - 5s 63us/step - loss: 0.1471 - accuracy: 0.7246 - val_loss: 0.1438 - val_accuracy: 0.7204\n",
            "9\n",
            "Train on 72000 samples, validate on 8000 samples\n",
            "Epoch 1/50\n",
            "72000/72000 [==============================] - 4s 50us/step - loss: 10.9009 - accuracy: 0.2366 - precision: 0.0354 - recall: 0.5650 - f1: 0.0667 - val_loss: 10.6471 - val_accuracy: 0.2500 - val_precision: 0.0406 - val_recall: 0.5729 - val_f1: 0.0758\n",
            "Epoch 2/50\n",
            "72000/72000 [==============================] - 4s 50us/step - loss: 10.8837 - accuracy: 0.2373 - precision: 0.0353 - recall: 0.5658 - f1: 0.0664 - val_loss: 10.5887 - val_accuracy: 0.2499 - val_precision: 0.0370 - val_recall: 0.5773 - val_f1: 0.0696\n",
            "Epoch 3/50\n",
            "72000/72000 [==============================] - 4s 50us/step - loss: 10.8688 - accuracy: 0.2372 - precision: 0.0362 - recall: 0.5656 - f1: 0.0680 - val_loss: 10.5787 - val_accuracy: 0.2506 - val_precision: 0.0368 - val_recall: 0.5777 - val_f1: 0.0693\n",
            "Epoch 4/50\n",
            "72000/72000 [==============================] - 4s 50us/step - loss: 10.8539 - accuracy: 0.2383 - precision: 0.0369 - recall: 0.5658 - f1: 0.0692 - val_loss: 10.5881 - val_accuracy: 0.2503 - val_precision: 0.0394 - val_recall: 0.5756 - val_f1: 0.0738\n",
            "Train on 72000 samples, validate on 8000 samples\n",
            "Epoch 1/50\n",
            "72000/72000 [==============================] - 4s 50us/step - loss: 0.1480 - accuracy: 0.7222 - val_loss: 0.1420 - val_accuracy: 0.7316\n",
            "Epoch 2/50\n",
            "72000/72000 [==============================] - 4s 51us/step - loss: 0.1480 - accuracy: 0.7222 - val_loss: 0.1420 - val_accuracy: 0.7316\n",
            "10\n",
            "Train on 72000 samples, validate on 8000 samples\n",
            "Epoch 1/50\n",
            "72000/72000 [==============================] - 4s 50us/step - loss: 10.8753 - accuracy: 0.2354 - precision: 0.0343 - recall: 0.5662 - f1: 0.0646 - val_loss: 10.8588 - val_accuracy: 0.2325 - val_precision: 0.0325 - val_recall: 0.5721 - val_f1: 0.0615\n",
            "Epoch 2/50\n",
            "72000/72000 [==============================] - 4s 50us/step - loss: 10.8651 - accuracy: 0.2362 - precision: 0.0338 - recall: 0.5674 - f1: 0.0638 - val_loss: 10.8600 - val_accuracy: 0.2321 - val_precision: 0.0317 - val_recall: 0.5722 - val_f1: 0.0601\n",
            "Train on 72000 samples, validate on 8000 samples\n",
            "Epoch 1/50\n",
            "72000/72000 [==============================] - 4s 50us/step - loss: 0.1467 - accuracy: 0.7239 - val_loss: 0.1438 - val_accuracy: 0.7303\n",
            "Epoch 2/50\n",
            "72000/72000 [==============================] - 4s 50us/step - loss: 0.1467 - accuracy: 0.7239 - val_loss: 0.1438 - val_accuracy: 0.7303\n",
            "11\n",
            "Train on 72000 samples, validate on 8000 samples\n",
            "Epoch 1/50\n",
            "72000/72000 [==============================] - 4s 49us/step - loss: 10.8536 - accuracy: 0.2364 - precision: 0.0340 - recall: 0.5669 - f1: 0.0641 - val_loss: 10.6690 - val_accuracy: 0.2418 - val_precision: 0.0342 - val_recall: 0.5756 - val_f1: 0.0646\n",
            "Epoch 2/50\n",
            "72000/72000 [==============================] - 4s 50us/step - loss: 10.8696 - accuracy: 0.2343 - precision: 0.0327 - recall: 0.5675 - f1: 0.0618 - val_loss: 10.6579 - val_accuracy: 0.2438 - val_precision: 0.0362 - val_recall: 0.5747 - val_f1: 0.0682\n",
            "Epoch 3/50\n",
            "72000/72000 [==============================] - 4s 49us/step - loss: 10.8533 - accuracy: 0.2369 - precision: 0.0367 - recall: 0.5652 - f1: 0.0689 - val_loss: 10.6607 - val_accuracy: 0.2465 - val_precision: 0.0336 - val_recall: 0.5757 - val_f1: 0.0635\n",
            "Train on 72000 samples, validate on 8000 samples\n",
            "Epoch 1/50\n",
            "72000/72000 [==============================] - 4s 50us/step - loss: 0.1453 - accuracy: 0.7257 - val_loss: 0.1448 - val_accuracy: 0.7246\n",
            "Epoch 2/50\n",
            "72000/72000 [==============================] - 4s 50us/step - loss: 0.1453 - accuracy: 0.7257 - val_loss: 0.1448 - val_accuracy: 0.7246\n",
            "12\n",
            "Train on 72000 samples, validate on 8000 samples\n",
            "Epoch 1/50\n",
            "72000/72000 [==============================] - 4s 55us/step - loss: 10.8406 - accuracy: 0.2385 - precision: 0.0364 - recall: 0.5655 - f1: 0.0683 - val_loss: 10.6682 - val_accuracy: 0.2428 - val_precision: 0.0401 - val_recall: 0.5706 - val_f1: 0.0749\n",
            "Epoch 2/50\n",
            "72000/72000 [==============================] - 5s 70us/step - loss: 10.8335 - accuracy: 0.2374 - precision: 0.0350 - recall: 0.5666 - f1: 0.0659 - val_loss: 10.6474 - val_accuracy: 0.2419 - val_precision: 0.0370 - val_recall: 0.5727 - val_f1: 0.0695\n",
            "Epoch 3/50\n",
            "72000/72000 [==============================] - 5s 63us/step - loss: 10.8280 - accuracy: 0.2392 - precision: 0.0365 - recall: 0.5658 - f1: 0.0685 - val_loss: 10.6330 - val_accuracy: 0.2426 - val_precision: 0.0363 - val_recall: 0.5741 - val_f1: 0.0682\n",
            "Epoch 4/50\n",
            "72000/72000 [==============================] - 4s 50us/step - loss: 10.8211 - accuracy: 0.2394 - precision: 0.0370 - recall: 0.5659 - f1: 0.0694 - val_loss: 10.6669 - val_accuracy: 0.2435 - val_precision: 0.0359 - val_recall: 0.5736 - val_f1: 0.0676\n",
            "Train on 72000 samples, validate on 8000 samples\n",
            "Epoch 1/50\n",
            "72000/72000 [==============================] - 4s 51us/step - loss: 0.1475 - accuracy: 0.7231 - val_loss: 0.1423 - val_accuracy: 0.7259\n",
            "Epoch 2/50\n",
            "72000/72000 [==============================] - 4s 50us/step - loss: 0.1475 - accuracy: 0.7231 - val_loss: 0.1423 - val_accuracy: 0.7259\n",
            "13\n",
            "Train on 72000 samples, validate on 8000 samples\n",
            "Epoch 1/50\n",
            "72000/72000 [==============================] - 4s 53us/step - loss: 10.8806 - accuracy: 0.2366 - precision: 0.0339 - recall: 0.5667 - f1: 0.0640 - val_loss: 11.0155 - val_accuracy: 0.2369 - val_precision: 0.0306 - val_recall: 0.5610 - val_f1: 0.0581\n",
            "Epoch 2/50\n",
            "72000/72000 [==============================] - 4s 52us/step - loss: 10.8958 - accuracy: 0.2363 - precision: 0.0322 - recall: 0.5678 - f1: 0.0609 - val_loss: 10.9848 - val_accuracy: 0.2377 - val_precision: 0.0318 - val_recall: 0.5617 - val_f1: 0.0601\n",
            "Epoch 3/50\n",
            "72000/72000 [==============================] - 4s 52us/step - loss: 10.8790 - accuracy: 0.2375 - precision: 0.0346 - recall: 0.5666 - f1: 0.0652 - val_loss: 11.0040 - val_accuracy: 0.2383 - val_precision: 0.0359 - val_recall: 0.5582 - val_f1: 0.0674\n",
            "Train on 72000 samples, validate on 8000 samples\n",
            "Epoch 1/50\n",
            "72000/72000 [==============================] - 4s 52us/step - loss: 0.1476 - accuracy: 0.7220 - val_loss: 0.1461 - val_accuracy: 0.7215\n",
            "Epoch 2/50\n",
            "72000/72000 [==============================] - 4s 52us/step - loss: 0.1476 - accuracy: 0.7220 - val_loss: 0.1461 - val_accuracy: 0.7215\n",
            "14\n",
            "Train on 72000 samples, validate on 8000 samples\n",
            "Epoch 1/50\n",
            "72000/72000 [==============================] - 4s 50us/step - loss: 10.8321 - accuracy: 0.2389 - precision: 0.0337 - recall: 0.5690 - f1: 0.0636 - val_loss: 10.7186 - val_accuracy: 0.2390 - val_precision: 0.0341 - val_recall: 0.5709 - val_f1: 0.0643\n",
            "Epoch 2/50\n",
            "72000/72000 [==============================] - 4s 50us/step - loss: 10.8291 - accuracy: 0.2384 - precision: 0.0337 - recall: 0.5693 - f1: 0.0636 - val_loss: 10.7046 - val_accuracy: 0.2381 - val_precision: 0.0339 - val_recall: 0.5716 - val_f1: 0.0640\n",
            "Epoch 3/50\n",
            "72000/72000 [==============================] - 4s 50us/step - loss: 10.8209 - accuracy: 0.2391 - precision: 0.0347 - recall: 0.5687 - f1: 0.0654 - val_loss: 10.7092 - val_accuracy: 0.2376 - val_precision: 0.0356 - val_recall: 0.5702 - val_f1: 0.0671\n",
            "Train on 72000 samples, validate on 8000 samples\n",
            "Epoch 1/50\n",
            "72000/72000 [==============================] - 4s 50us/step - loss: 0.1469 - accuracy: 0.7254 - val_loss: 0.1482 - val_accuracy: 0.7232\n",
            "Epoch 2/50\n",
            "72000/72000 [==============================] - 4s 50us/step - loss: 0.1469 - accuracy: 0.7254 - val_loss: 0.1482 - val_accuracy: 0.7232\n",
            "15\n",
            "Train on 72000 samples, validate on 8000 samples\n",
            "Epoch 1/50\n",
            "72000/72000 [==============================] - 4s 50us/step - loss: 10.7974 - accuracy: 0.2393 - precision: 0.0339 - recall: 0.5689 - f1: 0.0639 - val_loss: 10.5689 - val_accuracy: 0.2447 - val_precision: 0.0337 - val_recall: 0.5739 - val_f1: 0.0636\n",
            "Epoch 2/50\n",
            "72000/72000 [==============================] - 4s 50us/step - loss: 10.8207 - accuracy: 0.2393 - precision: 0.0357 - recall: 0.5672 - f1: 0.0671 - val_loss: 10.5686 - val_accuracy: 0.2451 - val_precision: 0.0361 - val_recall: 0.5732 - val_f1: 0.0679\n",
            "Epoch 3/50\n",
            "72000/72000 [==============================] - 4s 50us/step - loss: 10.8086 - accuracy: 0.2396 - precision: 0.0327 - recall: 0.5693 - f1: 0.0618 - val_loss: 10.5827 - val_accuracy: 0.2459 - val_precision: 0.0352 - val_recall: 0.5730 - val_f1: 0.0663\n",
            "Train on 72000 samples, validate on 8000 samples\n",
            "Epoch 1/50\n",
            "72000/72000 [==============================] - 4s 50us/step - loss: 0.1457 - accuracy: 0.7255 - val_loss: 0.1498 - val_accuracy: 0.7210\n",
            "Epoch 2/50\n",
            "72000/72000 [==============================] - 4s 51us/step - loss: 0.1457 - accuracy: 0.7255 - val_loss: 0.1498 - val_accuracy: 0.7210\n",
            "16\n",
            "Train on 72000 samples, validate on 8000 samples\n",
            "Epoch 1/50\n",
            "72000/72000 [==============================] - 4s 51us/step - loss: 10.7571 - accuracy: 0.2395 - precision: 0.0338 - recall: 0.5704 - f1: 0.0638 - val_loss: 10.8023 - val_accuracy: 0.2371 - val_precision: 0.0355 - val_recall: 0.5647 - val_f1: 0.0667\n",
            "Epoch 2/50\n",
            "72000/72000 [==============================] - 4s 50us/step - loss: 10.7672 - accuracy: 0.2405 - precision: 0.0337 - recall: 0.5703 - f1: 0.0637 - val_loss: 10.7990 - val_accuracy: 0.2369 - val_precision: 0.0342 - val_recall: 0.5661 - val_f1: 0.0645\n",
            "Epoch 3/50\n",
            "72000/72000 [==============================] - 4s 50us/step - loss: 10.7523 - accuracy: 0.2405 - precision: 0.0362 - recall: 0.5691 - f1: 0.0681 - val_loss: 10.7848 - val_accuracy: 0.2379 - val_precision: 0.0360 - val_recall: 0.5656 - val_f1: 0.0677\n",
            "Epoch 4/50\n",
            "72000/72000 [==============================] - 4s 51us/step - loss: 10.7424 - accuracy: 0.2409 - precision: 0.0373 - recall: 0.5689 - f1: 0.0699 - val_loss: 10.7877 - val_accuracy: 0.2381 - val_precision: 0.0388 - val_recall: 0.5645 - val_f1: 0.0726\n",
            "Train on 72000 samples, validate on 8000 samples\n",
            "Epoch 1/50\n",
            "72000/72000 [==============================] - 4s 51us/step - loss: 0.1473 - accuracy: 0.7237 - val_loss: 0.1453 - val_accuracy: 0.7272\n",
            "Epoch 2/50\n",
            "72000/72000 [==============================] - 4s 50us/step - loss: 0.1473 - accuracy: 0.7237 - val_loss: 0.1453 - val_accuracy: 0.7272\n",
            "17\n",
            "Train on 72000 samples, validate on 8000 samples\n",
            "Epoch 1/50\n",
            "72000/72000 [==============================] - 4s 51us/step - loss: 10.8242 - accuracy: 0.2408 - precision: 0.0351 - recall: 0.5684 - f1: 0.0661 - val_loss: 10.8927 - val_accuracy: 0.2345 - val_precision: 0.0343 - val_recall: 0.5700 - val_f1: 0.0647\n",
            "Epoch 2/50\n",
            "72000/72000 [==============================] - 4s 50us/step - loss: 10.8140 - accuracy: 0.2408 - precision: 0.0360 - recall: 0.5684 - f1: 0.0676 - val_loss: 10.8774 - val_accuracy: 0.2362 - val_precision: 0.0334 - val_recall: 0.5701 - val_f1: 0.0630\n",
            "Epoch 3/50\n",
            "72000/72000 [==============================] - 4s 50us/step - loss: 10.8134 - accuracy: 0.2415 - precision: 0.0346 - recall: 0.5690 - f1: 0.0651 - val_loss: 10.8695 - val_accuracy: 0.2373 - val_precision: 0.0342 - val_recall: 0.5698 - val_f1: 0.0645\n",
            "Epoch 4/50\n",
            "72000/72000 [==============================] - 4s 50us/step - loss: 10.8040 - accuracy: 0.2415 - precision: 0.0351 - recall: 0.5691 - f1: 0.0662 - val_loss: 10.8971 - val_accuracy: 0.2380 - val_precision: 0.0395 - val_recall: 0.5664 - val_f1: 0.0738\n",
            "Train on 72000 samples, validate on 8000 samples\n",
            "Epoch 1/50\n",
            "72000/72000 [==============================] - 4s 51us/step - loss: 0.1481 - accuracy: 0.7210 - val_loss: 0.1453 - val_accuracy: 0.7266\n",
            "Epoch 2/50\n",
            "72000/72000 [==============================] - 4s 50us/step - loss: 0.1481 - accuracy: 0.7210 - val_loss: 0.1453 - val_accuracy: 0.7266\n",
            "18\n",
            "Train on 72000 samples, validate on 8000 samples\n",
            "Epoch 1/50\n",
            "72000/72000 [==============================] - 4s 50us/step - loss: 10.7273 - accuracy: 0.2445 - precision: 0.0366 - recall: 0.5706 - f1: 0.0688 - val_loss: 10.6096 - val_accuracy: 0.2490 - val_precision: 0.0375 - val_recall: 0.5780 - val_f1: 0.0704\n",
            "Epoch 2/50\n",
            "72000/72000 [==============================] - 4s 50us/step - loss: 10.7201 - accuracy: 0.2448 - precision: 0.0375 - recall: 0.5704 - f1: 0.0704 - val_loss: 10.6237 - val_accuracy: 0.2485 - val_precision: 0.0381 - val_recall: 0.5768 - val_f1: 0.0715\n",
            "Train on 72000 samples, validate on 8000 samples\n",
            "Epoch 1/50\n",
            "72000/72000 [==============================] - 4s 50us/step - loss: 0.1432 - accuracy: 0.7266 - val_loss: 0.1416 - val_accuracy: 0.7330\n",
            "Epoch 2/50\n",
            "72000/72000 [==============================] - 4s 50us/step - loss: 0.1432 - accuracy: 0.7266 - val_loss: 0.1416 - val_accuracy: 0.7330\n",
            "19\n",
            "Train on 72000 samples, validate on 8000 samples\n",
            "Epoch 1/50\n",
            "72000/72000 [==============================] - 4s 50us/step - loss: 10.8026 - accuracy: 0.2405 - precision: 0.0361 - recall: 0.5672 - f1: 0.0679 - val_loss: 10.6997 - val_accuracy: 0.2431 - val_precision: 0.0378 - val_recall: 0.5730 - val_f1: 0.0709\n",
            "Epoch 2/50\n",
            "72000/72000 [==============================] - 4s 51us/step - loss: 10.7942 - accuracy: 0.2412 - precision: 0.0365 - recall: 0.5676 - f1: 0.0686 - val_loss: 10.7402 - val_accuracy: 0.2404 - val_precision: 0.0305 - val_recall: 0.5766 - val_f1: 0.0580\n",
            "Train on 72000 samples, validate on 8000 samples\n",
            "Epoch 1/50\n",
            "72000/72000 [==============================] - 4s 51us/step - loss: 0.1446 - accuracy: 0.7267 - val_loss: 0.1444 - val_accuracy: 0.7241\n",
            "Epoch 2/50\n",
            "72000/72000 [==============================] - 4s 50us/step - loss: 0.1446 - accuracy: 0.7267 - val_loss: 0.1444 - val_accuracy: 0.7241\n",
            "20\n",
            "Train on 72000 samples, validate on 8000 samples\n",
            "Epoch 1/50\n",
            "72000/72000 [==============================] - 4s 51us/step - loss: 10.8988 - accuracy: 0.2409 - precision: 0.0312 - recall: 0.5672 - f1: 0.0592 - val_loss: 10.8514 - val_accuracy: 0.2438 - val_precision: 0.0328 - val_recall: 0.5681 - val_f1: 0.0619\n",
            "Epoch 2/50\n",
            "72000/72000 [==============================] - 4s 50us/step - loss: 10.8677 - accuracy: 0.2419 - precision: 0.0339 - recall: 0.5655 - f1: 0.0640 - val_loss: 10.8140 - val_accuracy: 0.2438 - val_precision: 0.0314 - val_recall: 0.5696 - val_f1: 0.0595\n",
            "Epoch 3/50\n",
            "72000/72000 [==============================] - 4s 51us/step - loss: 10.8503 - accuracy: 0.2417 - precision: 0.0326 - recall: 0.5666 - f1: 0.0617 - val_loss: 10.8369 - val_accuracy: 0.2421 - val_precision: 0.0358 - val_recall: 0.5662 - val_f1: 0.0673\n",
            "Train on 72000 samples, validate on 8000 samples\n",
            "Epoch 1/50\n",
            "72000/72000 [==============================] - 4s 59us/step - loss: 0.1463 - accuracy: 0.7230 - val_loss: 0.1479 - val_accuracy: 0.7214\n",
            "Epoch 2/50\n",
            "72000/72000 [==============================] - 4s 52us/step - loss: 0.1463 - accuracy: 0.7230 - val_loss: 0.1479 - val_accuracy: 0.7214\n",
            "21\n",
            "Train on 72000 samples, validate on 8000 samples\n",
            "Epoch 1/50\n",
            "72000/72000 [==============================] - 4s 51us/step - loss: 10.8753 - accuracy: 0.2403 - precision: 0.0335 - recall: 0.5666 - f1: 0.0632 - val_loss: 10.8054 - val_accuracy: 0.2404 - val_precision: 0.0350 - val_recall: 0.5695 - val_f1: 0.0659\n",
            "Epoch 2/50\n",
            "72000/72000 [==============================] - 4s 50us/step - loss: 10.8639 - accuracy: 0.2402 - precision: 0.0338 - recall: 0.5667 - f1: 0.0638 - val_loss: 10.8046 - val_accuracy: 0.2391 - val_precision: 0.0364 - val_recall: 0.5682 - val_f1: 0.0684\n",
            "Epoch 3/50\n",
            "72000/72000 [==============================] - 4s 50us/step - loss: 10.8553 - accuracy: 0.2408 - precision: 0.0360 - recall: 0.5657 - f1: 0.0676 - val_loss: 10.7869 - val_accuracy: 0.2441 - val_precision: 0.0383 - val_recall: 0.5681 - val_f1: 0.0717\n",
            "Epoch 4/50\n",
            "72000/72000 [==============================] - 4s 50us/step - loss: 10.8977 - accuracy: 0.2409 - precision: 0.0357 - recall: 0.5646 - f1: 0.0671 - val_loss: 10.8601 - val_accuracy: 0.2397 - val_precision: 0.0339 - val_recall: 0.5672 - val_f1: 0.0640\n",
            "Train on 72000 samples, validate on 8000 samples\n",
            "Epoch 1/50\n",
            "72000/72000 [==============================] - 4s 51us/step - loss: 0.1467 - accuracy: 0.7247 - val_loss: 0.1421 - val_accuracy: 0.7262\n",
            "Epoch 2/50\n",
            "72000/72000 [==============================] - 4s 50us/step - loss: 0.1467 - accuracy: 0.7247 - val_loss: 0.1421 - val_accuracy: 0.7262\n",
            "22\n"
          ]
        },
        {
          "output_type": "error",
          "ename": "KeyboardInterrupt",
          "evalue": "ignored",
          "traceback": [
            "\u001b[0;31m---------------------------------------------------------------------------\u001b[0m",
            "\u001b[0;31mKeyboardInterrupt\u001b[0m                         Traceback (most recent call last)",
            "\u001b[0;32m<ipython-input-201-00641647917e>\u001b[0m in \u001b[0;36m<module>\u001b[0;34m()\u001b[0m\n\u001b[1;32m      1\u001b[0m \u001b[0;31m#model = load_model('./tag_prediction_model.h5')\u001b[0m\u001b[0;34m\u001b[0m\u001b[0;34m\u001b[0m\u001b[0;34m\u001b[0m\u001b[0m\n\u001b[1;32m      2\u001b[0m \u001b[0;32mfor\u001b[0m \u001b[0mi\u001b[0m \u001b[0;32min\u001b[0m \u001b[0mrange\u001b[0m \u001b[0;34m(\u001b[0m\u001b[0;36m2\u001b[0m\u001b[0;34m,\u001b[0m\u001b[0;36m37\u001b[0m\u001b[0;34m)\u001b[0m\u001b[0;34m:\u001b[0m\u001b[0;34m\u001b[0m\u001b[0;34m\u001b[0m\u001b[0m\n\u001b[0;32m----> 3\u001b[0;31m   \u001b[0mmodel\u001b[0m\u001b[0;34m,\u001b[0m \u001b[0mmodel_with_likes\u001b[0m \u001b[0;34m=\u001b[0m \u001b[0mtraining_of_model\u001b[0m\u001b[0;34m(\u001b[0m\u001b[0mdata1\u001b[0m\u001b[0;34m[\u001b[0m\u001b[0;34m(\u001b[0m\u001b[0;36m100000\u001b[0m\u001b[0;34m*\u001b[0m\u001b[0;34m(\u001b[0m\u001b[0mi\u001b[0m\u001b[0;34m-\u001b[0m\u001b[0;36m1\u001b[0m\u001b[0;34m)\u001b[0m\u001b[0;34m)\u001b[0m\u001b[0;34m:\u001b[0m\u001b[0;34m(\u001b[0m\u001b[0;36m100000\u001b[0m\u001b[0;34m*\u001b[0m\u001b[0mi\u001b[0m\u001b[0;34m)\u001b[0m\u001b[0;34m]\u001b[0m\u001b[0;34m,\u001b[0m\u001b[0mmodel\u001b[0m\u001b[0;34m,\u001b[0m \u001b[0mmodel_with_likes\u001b[0m\u001b[0;34m,\u001b[0m \u001b[0mmdb\u001b[0m\u001b[0;34m,\u001b[0m \u001b[0mbertClient\u001b[0m\u001b[0;34m,\u001b[0m \u001b[0mtensorboard\u001b[0m\u001b[0;34m,\u001b[0m \u001b[0mearly_stopping\u001b[0m\u001b[0;34m)\u001b[0m\u001b[0;34m\u001b[0m\u001b[0;34m\u001b[0m\u001b[0m\n\u001b[0m\u001b[1;32m      4\u001b[0m   \u001b[0mmodel\u001b[0m\u001b[0;34m.\u001b[0m\u001b[0msave\u001b[0m\u001b[0;34m(\u001b[0m\u001b[0;34m'./tag_prediction_model.h5'\u001b[0m\u001b[0;34m)\u001b[0m\u001b[0;34m\u001b[0m\u001b[0;34m\u001b[0m\u001b[0m\n\u001b[1;32m      5\u001b[0m   \u001b[0mmodel\u001b[0m\u001b[0;34m.\u001b[0m\u001b[0msave_weights\u001b[0m\u001b[0;34m(\u001b[0m\u001b[0;34m'./tag_prediction_model_weights.h5'\u001b[0m\u001b[0;34m)\u001b[0m\u001b[0;34m\u001b[0m\u001b[0;34m\u001b[0m\u001b[0m\n",
            "\u001b[0;32m<ipython-input-200-a6018dc80006>\u001b[0m in \u001b[0;36mtraining_of_model\u001b[0;34m(data, model, model_with_likes, mdb, bertClient, tensorboard, early_stopping)\u001b[0m\n\u001b[1;32m      2\u001b[0m   \u001b[0mdata\u001b[0m \u001b[0;34m=\u001b[0m \u001b[0mdata\u001b[0m\u001b[0;34m.\u001b[0m\u001b[0msample\u001b[0m\u001b[0;34m(\u001b[0m\u001b[0mfrac\u001b[0m\u001b[0;34m=\u001b[0m\u001b[0;36m1\u001b[0m\u001b[0;34m)\u001b[0m\u001b[0;34m\u001b[0m\u001b[0;34m\u001b[0m\u001b[0m\n\u001b[1;32m      3\u001b[0m   \u001b[0mdata\u001b[0m \u001b[0;34m=\u001b[0m \u001b[0mdata\u001b[0m\u001b[0;34m.\u001b[0m\u001b[0mreset_index\u001b[0m\u001b[0;34m(\u001b[0m\u001b[0mdrop\u001b[0m\u001b[0;34m=\u001b[0m\u001b[0;32mTrue\u001b[0m\u001b[0;34m)\u001b[0m\u001b[0;34m\u001b[0m\u001b[0;34m\u001b[0m\u001b[0m\n\u001b[0;32m----> 4\u001b[0;31m   \u001b[0mdata\u001b[0m\u001b[0;34m[\u001b[0m\u001b[0;34m'encoded_tweets'\u001b[0m\u001b[0;34m]\u001b[0m \u001b[0;34m=\u001b[0m \u001b[0mbert_tweet_encofing\u001b[0m\u001b[0;34m(\u001b[0m\u001b[0mbertClient\u001b[0m\u001b[0;34m,\u001b[0m \u001b[0mdata\u001b[0m\u001b[0;34m[\u001b[0m\u001b[0;34m'content'\u001b[0m\u001b[0;34m]\u001b[0m\u001b[0;34m)\u001b[0m\u001b[0;34m\u001b[0m\u001b[0;34m\u001b[0m\u001b[0m\n\u001b[0m\u001b[1;32m      5\u001b[0m   \u001b[0mdata\u001b[0m\u001b[0;34m[\u001b[0m\u001b[0;34m'categorical'\u001b[0m\u001b[0;34m]\u001b[0m \u001b[0;34m=\u001b[0m \u001b[0mcat_transform\u001b[0m\u001b[0;34m(\u001b[0m\u001b[0mdata\u001b[0m\u001b[0;34m[\u001b[0m\u001b[0;34m'clusters'\u001b[0m\u001b[0;34m]\u001b[0m\u001b[0;34m,\u001b[0m \u001b[0mmdb\u001b[0m\u001b[0;34m)\u001b[0m\u001b[0;34m\u001b[0m\u001b[0;34m\u001b[0m\u001b[0m\n\u001b[1;32m      6\u001b[0m   \u001b[0mdata_train\u001b[0m\u001b[0;34m,\u001b[0m \u001b[0mdata_val\u001b[0m \u001b[0;34m=\u001b[0m \u001b[0mtrain_test_split\u001b[0m\u001b[0;34m(\u001b[0m\u001b[0mdata\u001b[0m\u001b[0;34m,\u001b[0m \u001b[0mtest_size\u001b[0m\u001b[0;34m=\u001b[0m\u001b[0;36m0.2\u001b[0m\u001b[0;34m,\u001b[0m \u001b[0mrandom_state\u001b[0m\u001b[0;34m=\u001b[0m\u001b[0;36m42\u001b[0m\u001b[0;34m)\u001b[0m\u001b[0;34m\u001b[0m\u001b[0;34m\u001b[0m\u001b[0m\n",
            "\u001b[0;32m<ipython-input-162-2bf79e89dbec>\u001b[0m in \u001b[0;36mbert_tweet_encofing\u001b[0;34m(bertClient, content)\u001b[0m\n\u001b[1;32m      1\u001b[0m \u001b[0;32mdef\u001b[0m \u001b[0mbert_tweet_encofing\u001b[0m\u001b[0;34m(\u001b[0m\u001b[0mbertClient\u001b[0m\u001b[0;34m,\u001b[0m \u001b[0mcontent\u001b[0m\u001b[0;34m:\u001b[0m \u001b[0mpd\u001b[0m\u001b[0;34m.\u001b[0m\u001b[0mSeries\u001b[0m\u001b[0;34m)\u001b[0m\u001b[0;34m:\u001b[0m\u001b[0;34m\u001b[0m\u001b[0;34m\u001b[0m\u001b[0m\n\u001b[0;32m----> 2\u001b[0;31m   \u001b[0mcontent\u001b[0m \u001b[0;34m=\u001b[0m \u001b[0mcontent\u001b[0m\u001b[0;34m.\u001b[0m\u001b[0mapply\u001b[0m\u001b[0;34m(\u001b[0m\u001b[0;32mlambda\u001b[0m \u001b[0mtweet\u001b[0m\u001b[0;34m:\u001b[0m\u001b[0mbertClient\u001b[0m\u001b[0;34m.\u001b[0m\u001b[0mencode\u001b[0m\u001b[0;34m(\u001b[0m\u001b[0;34m[\u001b[0m\u001b[0mtweet\u001b[0m\u001b[0;34m]\u001b[0m\u001b[0;34m,\u001b[0m \u001b[0mis_tokenized\u001b[0m\u001b[0;34m=\u001b[0m\u001b[0;32mTrue\u001b[0m\u001b[0;34m)\u001b[0m\u001b[0;34m)\u001b[0m\u001b[0;34m\u001b[0m\u001b[0;34m\u001b[0m\u001b[0m\n\u001b[0m\u001b[1;32m      3\u001b[0m   \u001b[0;32mreturn\u001b[0m \u001b[0mcontent\u001b[0m\u001b[0;34m.\u001b[0m\u001b[0mapply\u001b[0m\u001b[0;34m(\u001b[0m\u001b[0;32mlambda\u001b[0m \u001b[0mtweet\u001b[0m\u001b[0;34m:\u001b[0m \u001b[0mtweet\u001b[0m\u001b[0;34m[\u001b[0m\u001b[0;36m0\u001b[0m\u001b[0;34m]\u001b[0m\u001b[0;34m)\u001b[0m\u001b[0;34m\u001b[0m\u001b[0;34m\u001b[0m\u001b[0m\n",
            "\u001b[0;32m/usr/local/lib/python3.7/dist-packages/pandas/core/series.py\u001b[0m in \u001b[0;36mapply\u001b[0;34m(self, func, convert_dtype, args, **kwds)\u001b[0m\n\u001b[1;32m   4211\u001b[0m             \u001b[0;32melse\u001b[0m\u001b[0;34m:\u001b[0m\u001b[0;34m\u001b[0m\u001b[0;34m\u001b[0m\u001b[0m\n\u001b[1;32m   4212\u001b[0m                 \u001b[0mvalues\u001b[0m \u001b[0;34m=\u001b[0m \u001b[0mself\u001b[0m\u001b[0;34m.\u001b[0m\u001b[0mastype\u001b[0m\u001b[0;34m(\u001b[0m\u001b[0mobject\u001b[0m\u001b[0;34m)\u001b[0m\u001b[0;34m.\u001b[0m\u001b[0m_values\u001b[0m\u001b[0;34m\u001b[0m\u001b[0;34m\u001b[0m\u001b[0m\n\u001b[0;32m-> 4213\u001b[0;31m                 \u001b[0mmapped\u001b[0m \u001b[0;34m=\u001b[0m \u001b[0mlib\u001b[0m\u001b[0;34m.\u001b[0m\u001b[0mmap_infer\u001b[0m\u001b[0;34m(\u001b[0m\u001b[0mvalues\u001b[0m\u001b[0;34m,\u001b[0m \u001b[0mf\u001b[0m\u001b[0;34m,\u001b[0m \u001b[0mconvert\u001b[0m\u001b[0;34m=\u001b[0m\u001b[0mconvert_dtype\u001b[0m\u001b[0;34m)\u001b[0m\u001b[0;34m\u001b[0m\u001b[0;34m\u001b[0m\u001b[0m\n\u001b[0m\u001b[1;32m   4214\u001b[0m \u001b[0;34m\u001b[0m\u001b[0m\n\u001b[1;32m   4215\u001b[0m         \u001b[0;32mif\u001b[0m \u001b[0mlen\u001b[0m\u001b[0;34m(\u001b[0m\u001b[0mmapped\u001b[0m\u001b[0;34m)\u001b[0m \u001b[0;32mand\u001b[0m \u001b[0misinstance\u001b[0m\u001b[0;34m(\u001b[0m\u001b[0mmapped\u001b[0m\u001b[0;34m[\u001b[0m\u001b[0;36m0\u001b[0m\u001b[0;34m]\u001b[0m\u001b[0;34m,\u001b[0m \u001b[0mSeries\u001b[0m\u001b[0;34m)\u001b[0m\u001b[0;34m:\u001b[0m\u001b[0;34m\u001b[0m\u001b[0;34m\u001b[0m\u001b[0m\n",
            "\u001b[0;32mpandas/_libs/lib.pyx\u001b[0m in \u001b[0;36mpandas._libs.lib.map_infer\u001b[0;34m()\u001b[0m\n",
            "\u001b[0;32m<ipython-input-162-2bf79e89dbec>\u001b[0m in \u001b[0;36m<lambda>\u001b[0;34m(tweet)\u001b[0m\n\u001b[1;32m      1\u001b[0m \u001b[0;32mdef\u001b[0m \u001b[0mbert_tweet_encofing\u001b[0m\u001b[0;34m(\u001b[0m\u001b[0mbertClient\u001b[0m\u001b[0;34m,\u001b[0m \u001b[0mcontent\u001b[0m\u001b[0;34m:\u001b[0m \u001b[0mpd\u001b[0m\u001b[0;34m.\u001b[0m\u001b[0mSeries\u001b[0m\u001b[0;34m)\u001b[0m\u001b[0;34m:\u001b[0m\u001b[0;34m\u001b[0m\u001b[0;34m\u001b[0m\u001b[0m\n\u001b[0;32m----> 2\u001b[0;31m   \u001b[0mcontent\u001b[0m \u001b[0;34m=\u001b[0m \u001b[0mcontent\u001b[0m\u001b[0;34m.\u001b[0m\u001b[0mapply\u001b[0m\u001b[0;34m(\u001b[0m\u001b[0;32mlambda\u001b[0m \u001b[0mtweet\u001b[0m\u001b[0;34m:\u001b[0m\u001b[0mbertClient\u001b[0m\u001b[0;34m.\u001b[0m\u001b[0mencode\u001b[0m\u001b[0;34m(\u001b[0m\u001b[0;34m[\u001b[0m\u001b[0mtweet\u001b[0m\u001b[0;34m]\u001b[0m\u001b[0;34m,\u001b[0m \u001b[0mis_tokenized\u001b[0m\u001b[0;34m=\u001b[0m\u001b[0;32mTrue\u001b[0m\u001b[0;34m)\u001b[0m\u001b[0;34m)\u001b[0m\u001b[0;34m\u001b[0m\u001b[0;34m\u001b[0m\u001b[0m\n\u001b[0m\u001b[1;32m      3\u001b[0m   \u001b[0;32mreturn\u001b[0m \u001b[0mcontent\u001b[0m\u001b[0;34m.\u001b[0m\u001b[0mapply\u001b[0m\u001b[0;34m(\u001b[0m\u001b[0;32mlambda\u001b[0m \u001b[0mtweet\u001b[0m\u001b[0;34m:\u001b[0m \u001b[0mtweet\u001b[0m\u001b[0;34m[\u001b[0m\u001b[0;36m0\u001b[0m\u001b[0;34m]\u001b[0m\u001b[0;34m)\u001b[0m\u001b[0;34m\u001b[0m\u001b[0;34m\u001b[0m\u001b[0m\n",
            "\u001b[0;32m/usr/local/lib/python3.7/dist-packages/bert_serving/client/__init__.py\u001b[0m in \u001b[0;36marg_wrapper\u001b[0;34m(self, *args, **kwargs)\u001b[0m\n\u001b[1;32m    204\u001b[0m                 \u001b[0mself\u001b[0m\u001b[0;34m.\u001b[0m\u001b[0mreceiver\u001b[0m\u001b[0;34m.\u001b[0m\u001b[0msetsockopt\u001b[0m\u001b[0;34m(\u001b[0m\u001b[0mzmq\u001b[0m\u001b[0;34m.\u001b[0m\u001b[0mRCVTIMEO\u001b[0m\u001b[0;34m,\u001b[0m \u001b[0mself\u001b[0m\u001b[0;34m.\u001b[0m\u001b[0mtimeout\u001b[0m\u001b[0;34m)\u001b[0m\u001b[0;34m\u001b[0m\u001b[0;34m\u001b[0m\u001b[0m\n\u001b[1;32m    205\u001b[0m             \u001b[0;32mtry\u001b[0m\u001b[0;34m:\u001b[0m\u001b[0;34m\u001b[0m\u001b[0;34m\u001b[0m\u001b[0m\n\u001b[0;32m--> 206\u001b[0;31m                 \u001b[0;32mreturn\u001b[0m \u001b[0mfunc\u001b[0m\u001b[0;34m(\u001b[0m\u001b[0mself\u001b[0m\u001b[0;34m,\u001b[0m \u001b[0;34m*\u001b[0m\u001b[0margs\u001b[0m\u001b[0;34m,\u001b[0m \u001b[0;34m**\u001b[0m\u001b[0mkwargs\u001b[0m\u001b[0;34m)\u001b[0m\u001b[0;34m\u001b[0m\u001b[0;34m\u001b[0m\u001b[0m\n\u001b[0m\u001b[1;32m    207\u001b[0m             \u001b[0;32mexcept\u001b[0m \u001b[0mzmq\u001b[0m\u001b[0;34m.\u001b[0m\u001b[0merror\u001b[0m\u001b[0;34m.\u001b[0m\u001b[0mAgain\u001b[0m \u001b[0;32mas\u001b[0m \u001b[0m_e\u001b[0m\u001b[0;34m:\u001b[0m\u001b[0;34m\u001b[0m\u001b[0;34m\u001b[0m\u001b[0m\n\u001b[1;32m    208\u001b[0m                 t_e = TimeoutError(\n",
            "\u001b[0;32m/usr/local/lib/python3.7/dist-packages/bert_serving/client/__init__.py\u001b[0m in \u001b[0;36mencode\u001b[0;34m(self, texts, blocking, is_tokenized, show_tokens)\u001b[0m\n\u001b[1;32m    302\u001b[0m         \u001b[0;32mif\u001b[0m \u001b[0;32mnot\u001b[0m \u001b[0mblocking\u001b[0m\u001b[0;34m:\u001b[0m\u001b[0;34m\u001b[0m\u001b[0;34m\u001b[0m\u001b[0m\n\u001b[1;32m    303\u001b[0m             \u001b[0;32mreturn\u001b[0m \u001b[0;32mNone\u001b[0m\u001b[0;34m\u001b[0m\u001b[0;34m\u001b[0m\u001b[0m\n\u001b[0;32m--> 304\u001b[0;31m         \u001b[0mr\u001b[0m \u001b[0;34m=\u001b[0m \u001b[0mself\u001b[0m\u001b[0;34m.\u001b[0m\u001b[0m_recv_ndarray\u001b[0m\u001b[0;34m(\u001b[0m\u001b[0mreq_id\u001b[0m\u001b[0;34m)\u001b[0m\u001b[0;34m\u001b[0m\u001b[0;34m\u001b[0m\u001b[0m\n\u001b[0m\u001b[1;32m    305\u001b[0m         \u001b[0;32mif\u001b[0m \u001b[0mself\u001b[0m\u001b[0;34m.\u001b[0m\u001b[0mtoken_info_available\u001b[0m \u001b[0;32mand\u001b[0m \u001b[0mshow_tokens\u001b[0m\u001b[0;34m:\u001b[0m\u001b[0;34m\u001b[0m\u001b[0;34m\u001b[0m\u001b[0m\n\u001b[1;32m    306\u001b[0m             \u001b[0;32mreturn\u001b[0m \u001b[0mr\u001b[0m\u001b[0;34m.\u001b[0m\u001b[0membedding\u001b[0m\u001b[0;34m,\u001b[0m \u001b[0mr\u001b[0m\u001b[0;34m.\u001b[0m\u001b[0mtokens\u001b[0m\u001b[0;34m\u001b[0m\u001b[0;34m\u001b[0m\u001b[0m\n",
            "\u001b[0;32m/usr/local/lib/python3.7/dist-packages/bert_serving/client/__init__.py\u001b[0m in \u001b[0;36m_recv_ndarray\u001b[0;34m(self, wait_for_req_id)\u001b[0m\n\u001b[1;32m    168\u001b[0m \u001b[0;34m\u001b[0m\u001b[0m\n\u001b[1;32m    169\u001b[0m     \u001b[0;32mdef\u001b[0m \u001b[0m_recv_ndarray\u001b[0m\u001b[0;34m(\u001b[0m\u001b[0mself\u001b[0m\u001b[0;34m,\u001b[0m \u001b[0mwait_for_req_id\u001b[0m\u001b[0;34m=\u001b[0m\u001b[0;32mNone\u001b[0m\u001b[0;34m)\u001b[0m\u001b[0;34m:\u001b[0m\u001b[0;34m\u001b[0m\u001b[0;34m\u001b[0m\u001b[0m\n\u001b[0;32m--> 170\u001b[0;31m         \u001b[0mrequest_id\u001b[0m\u001b[0;34m,\u001b[0m \u001b[0mresponse\u001b[0m \u001b[0;34m=\u001b[0m \u001b[0mself\u001b[0m\u001b[0;34m.\u001b[0m\u001b[0m_recv\u001b[0m\u001b[0;34m(\u001b[0m\u001b[0mwait_for_req_id\u001b[0m\u001b[0;34m)\u001b[0m\u001b[0;34m\u001b[0m\u001b[0;34m\u001b[0m\u001b[0m\n\u001b[0m\u001b[1;32m    171\u001b[0m         \u001b[0marr_info\u001b[0m\u001b[0;34m,\u001b[0m \u001b[0marr_val\u001b[0m \u001b[0;34m=\u001b[0m \u001b[0mjsonapi\u001b[0m\u001b[0;34m.\u001b[0m\u001b[0mloads\u001b[0m\u001b[0;34m(\u001b[0m\u001b[0mresponse\u001b[0m\u001b[0;34m[\u001b[0m\u001b[0;36m1\u001b[0m\u001b[0;34m]\u001b[0m\u001b[0;34m)\u001b[0m\u001b[0;34m,\u001b[0m \u001b[0mresponse\u001b[0m\u001b[0;34m[\u001b[0m\u001b[0;36m2\u001b[0m\u001b[0;34m]\u001b[0m\u001b[0;34m\u001b[0m\u001b[0;34m\u001b[0m\u001b[0m\n\u001b[1;32m    172\u001b[0m         \u001b[0mX\u001b[0m \u001b[0;34m=\u001b[0m \u001b[0mnp\u001b[0m\u001b[0;34m.\u001b[0m\u001b[0mfrombuffer\u001b[0m\u001b[0;34m(\u001b[0m\u001b[0m_buffer\u001b[0m\u001b[0;34m(\u001b[0m\u001b[0marr_val\u001b[0m\u001b[0;34m)\u001b[0m\u001b[0;34m,\u001b[0m \u001b[0mdtype\u001b[0m\u001b[0;34m=\u001b[0m\u001b[0mstr\u001b[0m\u001b[0;34m(\u001b[0m\u001b[0marr_info\u001b[0m\u001b[0;34m[\u001b[0m\u001b[0;34m'dtype'\u001b[0m\u001b[0;34m]\u001b[0m\u001b[0;34m)\u001b[0m\u001b[0;34m)\u001b[0m\u001b[0;34m\u001b[0m\u001b[0;34m\u001b[0m\u001b[0m\n",
            "\u001b[0;32m/usr/local/lib/python3.7/dist-packages/bert_serving/client/__init__.py\u001b[0m in \u001b[0;36m_recv\u001b[0;34m(self, wait_for_req_id)\u001b[0m\n\u001b[1;32m    151\u001b[0m \u001b[0;34m\u001b[0m\u001b[0m\n\u001b[1;32m    152\u001b[0m                 \u001b[0;31m# receive a response\u001b[0m\u001b[0;34m\u001b[0m\u001b[0;34m\u001b[0m\u001b[0;34m\u001b[0m\u001b[0m\n\u001b[0;32m--> 153\u001b[0;31m                 \u001b[0mresponse\u001b[0m \u001b[0;34m=\u001b[0m \u001b[0mself\u001b[0m\u001b[0;34m.\u001b[0m\u001b[0mreceiver\u001b[0m\u001b[0;34m.\u001b[0m\u001b[0mrecv_multipart\u001b[0m\u001b[0;34m(\u001b[0m\u001b[0;34m)\u001b[0m\u001b[0;34m\u001b[0m\u001b[0;34m\u001b[0m\u001b[0m\n\u001b[0m\u001b[1;32m    154\u001b[0m                 \u001b[0mrequest_id\u001b[0m \u001b[0;34m=\u001b[0m \u001b[0mint\u001b[0m\u001b[0;34m(\u001b[0m\u001b[0mresponse\u001b[0m\u001b[0;34m[\u001b[0m\u001b[0;34m-\u001b[0m\u001b[0;36m1\u001b[0m\u001b[0;34m]\u001b[0m\u001b[0;34m)\u001b[0m\u001b[0;34m\u001b[0m\u001b[0;34m\u001b[0m\u001b[0m\n\u001b[1;32m    155\u001b[0m \u001b[0;34m\u001b[0m\u001b[0m\n",
            "\u001b[0;32m/usr/local/lib/python3.7/dist-packages/zmq/sugar/socket.py\u001b[0m in \u001b[0;36mrecv_multipart\u001b[0;34m(self, flags, copy, track)\u001b[0m\n\u001b[1;32m    623\u001b[0m             \u001b[0;32mfor\u001b[0m \u001b[0many\u001b[0m \u001b[0mof\u001b[0m \u001b[0mthe\u001b[0m \u001b[0mreasons\u001b[0m \u001b[0;34m:\u001b[0m\u001b[0mfunc\u001b[0m\u001b[0;34m:\u001b[0m\u001b[0;31m`\u001b[0m\u001b[0;34m~\u001b[0m\u001b[0mSocket\u001b[0m\u001b[0;34m.\u001b[0m\u001b[0mrecv\u001b[0m\u001b[0;31m`\u001b[0m \u001b[0mmight\u001b[0m \u001b[0mfail\u001b[0m\u001b[0;34m\u001b[0m\u001b[0;34m\u001b[0m\u001b[0m\n\u001b[1;32m    624\u001b[0m         \"\"\"\n\u001b[0;32m--> 625\u001b[0;31m         \u001b[0mparts\u001b[0m \u001b[0;34m=\u001b[0m \u001b[0;34m[\u001b[0m\u001b[0mself\u001b[0m\u001b[0;34m.\u001b[0m\u001b[0mrecv\u001b[0m\u001b[0;34m(\u001b[0m\u001b[0mflags\u001b[0m\u001b[0;34m,\u001b[0m \u001b[0mcopy\u001b[0m\u001b[0;34m=\u001b[0m\u001b[0mcopy\u001b[0m\u001b[0;34m,\u001b[0m \u001b[0mtrack\u001b[0m\u001b[0;34m=\u001b[0m\u001b[0mtrack\u001b[0m\u001b[0;34m)\u001b[0m\u001b[0;34m]\u001b[0m\u001b[0;34m\u001b[0m\u001b[0;34m\u001b[0m\u001b[0m\n\u001b[0m\u001b[1;32m    626\u001b[0m         \u001b[0;31m# have first part already, only loop while more to receive\u001b[0m\u001b[0;34m\u001b[0m\u001b[0;34m\u001b[0m\u001b[0;34m\u001b[0m\u001b[0m\n\u001b[1;32m    627\u001b[0m         \u001b[0;32mwhile\u001b[0m \u001b[0mself\u001b[0m\u001b[0;34m.\u001b[0m\u001b[0mgetsockopt\u001b[0m\u001b[0;34m(\u001b[0m\u001b[0mzmq\u001b[0m\u001b[0;34m.\u001b[0m\u001b[0mRCVMORE\u001b[0m\u001b[0;34m)\u001b[0m\u001b[0;34m:\u001b[0m\u001b[0;34m\u001b[0m\u001b[0;34m\u001b[0m\u001b[0m\n",
            "\u001b[0;32mzmq/backend/cython/socket.pyx\u001b[0m in \u001b[0;36mzmq.backend.cython.socket.Socket.recv\u001b[0;34m()\u001b[0m\n",
            "\u001b[0;32mzmq/backend/cython/socket.pyx\u001b[0m in \u001b[0;36mzmq.backend.cython.socket.Socket.recv\u001b[0;34m()\u001b[0m\n",
            "\u001b[0;32mzmq/backend/cython/socket.pyx\u001b[0m in \u001b[0;36mzmq.backend.cython.socket._recv_copy\u001b[0;34m()\u001b[0m\n",
            "\u001b[0;32m/usr/local/lib/python3.7/dist-packages/zmq/backend/cython/checkrc.pxd\u001b[0m in \u001b[0;36mzmq.backend.cython.checkrc._check_rc\u001b[0;34m()\u001b[0m\n",
            "\u001b[0;31mKeyboardInterrupt\u001b[0m: "
          ]
        }
      ]
    },
    {
      "cell_type": "code",
      "metadata": {
        "id": "fDWvUX1x5577"
      },
      "source": [
        "model.save('./tag_prediction_model.h5')\n",
        "model.save_weights('./tag_prediction_model_weights.h5')\n",
        "model_with_likes.save('./tag_prediction_model_with_likes.h5')\n",
        "model_with_likes.save_weights('./tag_prediction_model_with_likes_weights.h5')"
      ],
      "execution_count": null,
      "outputs": []
    },
    {
      "cell_type": "code",
      "metadata": {
        "id": "ruAkC6AVnJNc"
      },
      "source": [
        "import pickle\n",
        "with open('company_data.pkl', 'wb') as outp:\n",
        "    pickle.dump(mdb, outp, pickle.HIGHEST_PROTOCOL)"
      ],
      "execution_count": null,
      "outputs": []
    },
    {
      "cell_type": "code",
      "metadata": {
        "id": "hkf4y7AgLttk",
        "colab": {
          "base_uri": "https://localhost:8080/"
        },
        "outputId": "048b99fa-c3d8-472c-cad3-bc7698f9b773"
      },
      "source": [
        "score1 = model_with_likes.evaluate(x = [x_val, tensor_val_cat], y = likes_for_val, batch_size=100, verbose=1)\n",
        "print('\\n')\n",
        "print('Test loss:', score1[0])\n",
        "print('Test accuracy:', score1[1])"
      ],
      "execution_count": null,
      "outputs": [
        {
          "output_type": "stream",
          "name": "stdout",
          "text": [
            "20000/20000 [==============================] - 0s 18us/step\n",
            "\n",
            "\n",
            "Test loss: 0.15059731710702182\n",
            "Test accuracy: 0.7215499877929688\n"
          ]
        }
      ]
    },
    {
      "cell_type": "code",
      "metadata": {
        "id": "NLi2a1VBJubO",
        "colab": {
          "base_uri": "https://localhost:8080/"
        },
        "outputId": "8508627b-0cab-417b-d44d-91e59d045066"
      },
      "source": [
        "score = model.evaluate(x_val, tensor_val_cat, batch_size=30, verbose=1)\n",
        "print('\\n')\n",
        "print('Test loss:', score[0])\n",
        "print('Test accuracy:', score[1])"
      ],
      "execution_count": null,
      "outputs": [
        {
          "output_type": "stream",
          "name": "stdout",
          "text": [
            "20000/20000 [==============================] - 1s 68us/step\n",
            "\n",
            "\n",
            "Test loss: 10.938786545276642\n",
            "Test accuracy: 0.23659999668598175\n"
          ]
        }
      ]
    },
    {
      "cell_type": "code",
      "metadata": {
        "id": "uSPjWuuH62-v"
      },
      "source": [
        "text_processor = TextPreProcessor(\n",
        "    normalize=['url', 'email', 'percent', 'money', 'phone', 'user',\n",
        "        'time', 'url', 'date', 'number'],\n",
        "    annotate={\"hashtag\",# \"allcaps\", \n",
        "              \"elongated\", \"repeated\",\n",
        "        'emphasis', 'censored'},\n",
        "    fix_html=True,  # fix HTML tokens\n",
        "    segmenter=\"twitter\", \n",
        "    corrector=\"twitter\", \n",
        "    #unpack_hashtags=True,  # perform word segmentation on hashtags\n",
        "    unpack_contractions=True,  # Unpack contractions (can't -> can not)\n",
        "    spell_correct_elong=False,  # spell correction for elongated words\n",
        "    tokenizer=SocialTokenizer(lowercase=True).tokenize,\n",
        "    dicts=[emoticons]\n",
        "  )"
      ],
      "execution_count": null,
      "outputs": []
    },
    {
      "cell_type": "code",
      "metadata": {
        "id": "HQQVMW1qoekd"
      },
      "source": [
        "def model_prediction(s, model, bertClient, mdb, model_with_likes):\n",
        "  #s = text_processor.pre_process_doc(s)\n",
        "  s = bertClient.encode([s])\n",
        "  pr = model.predict(s)\n",
        "  pr = pr[0]\n",
        "  ind = np.argpartition(pr, -30)[-30:]\n",
        "  pred = np.zeros(len(pr))\n",
        "  for i in range(0, len(pred)):\n",
        "    if i in ind:\n",
        "      pred[i]=1\n",
        "  x = np.concatenate(([pred],[np.zeros(len(pred))]), axis = 0)\n",
        "  list_of_corresponding_tags =  mdb.inverse_transform(x)\n",
        "  list_of_corresponding_tags = list(list_of_corresponding_tags[0])\n",
        "  list_of_corresponding_tags = [(np.dot(pr, mdb.transform([[tag]])[0]),\n",
        "                                             model_with_likes.predict([[s[0]],[mdb.transform([[tag]])[0]]])[0][0], tag) for tag in list_of_corresponding_tags]\n",
        "  return sorted(list_of_corresponding_tags, reverse=True)"
      ],
      "execution_count": null,
      "outputs": []
    },
    {
      "cell_type": "code",
      "metadata": {
        "id": "fN2FssnTpOKS"
      },
      "source": [
        "s = 'Computer programming is the process of designing and building an executable computer program to accomplish a specific computing result or to perform a particular task. Programming involves tasks such as analysis, generating algorithms, profiling algorithms accuracy and resource consumption, and the implementation of algorithms in a chosen programming language (commonly referred to as coding).[1][2] The source code of a program is written in one or more languages that are intelligible to programmers, rather than machine code, which is directly executed by the central processing unit. The purpose of programming is to find a sequence of instructions that will automate the perform'\n",
        "res = model_prediction(s, model, bertClient, mdb, model_with_likes=model_with_likes)"
      ],
      "execution_count": null,
      "outputs": []
    },
    {
      "cell_type": "code",
      "metadata": {
        "colab": {
          "base_uri": "https://localhost:8080/"
        },
        "id": "MUWSIG1q19TO",
        "outputId": "9d8a1fd9-6a74-4226-8550-dadf0e8d166f"
      },
      "source": [
        "res"
      ],
      "execution_count": null,
      "outputs": [
        {
          "output_type": "execute_result",
          "data": {
            "text/plain": [
              "[(36819.76171875, 0.0, 96),\n",
              " (4247.599609375, 0.0, 39),\n",
              " (2069.77001953125, 0.0, 42),\n",
              " (2021.305419921875, 0.0, 33),\n",
              " (1440.4124755859375, 0.0, 37),\n",
              " (1267.5997314453125, 0.0, 38),\n",
              " (1223.4490966796875, 0.0, 75),\n",
              " (1046.6192626953125, 0.0, 20),\n",
              " (1000.9122924804688, 0.0, 78),\n",
              " (726.1573486328125, 0.0, 80),\n",
              " (650.2639770507812, 0.0, 24),\n",
              " (549.7344970703125, 0.0, 68),\n",
              " (403.0625, 0.0, 74),\n",
              " (0.0, 0.0, 120),\n",
              " (0.0, 0.0, 55),\n",
              " (0.0, 0.0, 54),\n",
              " (0.0, 0.0, 53),\n",
              " (0.0, 0.0, 52),\n",
              " (0.0, 0.0, 50),\n",
              " (0.0, 0.0, 49),\n",
              " (0.0, 0.0, 48),\n",
              " (0.0, 0.0, 47),\n",
              " (0.0, 0.0, 46),\n",
              " (0.0, 0.0, 45),\n",
              " (0.0, 0.0, 44),\n",
              " (0.0, 0.0, 43),\n",
              " (0.0, 0.0, 41),\n",
              " (0.0, 0.0, 40),\n",
              " (0.0, 0.0, 36),\n",
              " (0.0, 0.0, 35)]"
            ]
          },
          "metadata": {},
          "execution_count": 259
        }
      ]
    },
    {
      "cell_type": "code",
      "source": [
        "to_predict = []\n",
        "for a, b, c in res:\n",
        "    to_predict.append(dict_of_vectors.loc[dict_of_vectors['clusters']==c, 'words'])"
      ],
      "metadata": {
        "id": "3-_z5Hi7XLzx"
      },
      "execution_count": null,
      "outputs": []
    },
    {
      "cell_type": "code",
      "source": [
        "to_predict[0].iloc[0]"
      ],
      "metadata": {
        "colab": {
          "base_uri": "https://localhost:8080/",
          "height": 35
        },
        "id": "18ZsabX8XRcz",
        "outputId": "4a71ceba-6c07-48da-dcdb-813c83502b9d"
      },
      "execution_count": null,
      "outputs": [
        {
          "output_type": "execute_result",
          "data": {
            "application/vnd.google.colaboratory.intrinsic+json": {
              "type": "string"
            },
            "text/plain": [
              "'#elsalvador'"
            ]
          },
          "metadata": {},
          "execution_count": 216
        }
      ]
    },
    {
      "cell_type": "code",
      "source": [
        "true_data = []\n",
        "for i in to_predict:\n",
        "  for j in range(0, len(i)):\n",
        "    true_data.append(i.iloc[j])\n",
        "true_data"
      ],
      "metadata": {
        "colab": {
          "base_uri": "https://localhost:8080/"
        },
        "id": "7jlT0_WQXcZL",
        "outputId": "fef072d2-e384-4294-c264-90439500079d"
      },
      "execution_count": null,
      "outputs": [
        {
          "output_type": "execute_result",
          "data": {
            "text/plain": [
              "['#elsalvador',\n",
              " '#pca',\n",
              " '#nomasks',\n",
              " '#play',\n",
              " '#thisisus',\n",
              " '#dancingwiththedevil',\n",
              " '#legal',\n",
              " '#worldhunger',\n",
              " '#newzroom405',\n",
              " '#results',\n",
              " '#pacs',\n",
              " '#blackhistorymonth',\n",
              " '#islamabad',\n",
              " '#capitalism',\n",
              " '#constructionjobs',\n",
              " '#malikvswankhedes',\n",
              " '#teamseas',\n",
              " '#localrock',\n",
              " '#jeffbezos',\n",
              " '#kamalhaasan',\n",
              " '#sunday',\n",
              " '#portland',\n",
              " '#engineeringjobs',\n",
              " '#educationjobs',\n",
              " '#euro',\n",
              " '#createatignite',\n",
              " '#csr',\n",
              " '#soultalk',\n",
              " '#liquoroseinsa',\n",
              " '#dofo',\n",
              " '#usaid',\n",
              " '#xspoilers',\n",
              " '#holidayspirit',\n",
              " '#savedemocracy',\n",
              " '#fairbargainingnow',\n",
              " '#umassworksbecausewedo',\n",
              " '#goodnighteveryone',\n",
              " '#policingpromise',\n",
              " '#girls',\n",
              " '#whereispengshuai',\n",
              " '#registerdemocrats',\n",
              " '#voterizer',\n",
              " '#arisaka',\n",
              " '#bbcf',\n",
              " '#foodbill',\n",
              " '#mtpol',\n",
              " '#cryptoavengers',\n",
              " '#atromg8',\n",
              " '#panafricanismprevails',\n",
              " '#justicematters',\n",
              " '#liberalismisamentaldisorder',\n",
              " '#magic',\n",
              " '#opengov',\n",
              " '#taxcodeisracist',\n",
              " '#ccprfsummit2021',\n",
              " '#pesticides',\n",
              " '#dave',\n",
              " '#forza',\n",
              " '#aot',\n",
              " '#veteran',\n",
              " '#fbr',\n",
              " '#yegwx',\n",
              " '#pakimysstreamfestd2',\n",
              " '#rememberingbobdole',\n",
              " '#sethu',\n",
              " '#zatima',\n",
              " '#paidleave',\n",
              " '#montreal',\n",
              " '#her',\n",
              " '#tb',\n",
              " '#peterbone',\n",
              " '#cdc',\n",
              " '#nocoalbailouts',\n",
              " '#cfoawards21',\n",
              " '#バビ',\n",
              " '#stopthesale',\n",
              " '#ग',\n",
              " '#hrcommunity',\n",
              " '#union',\n",
              " '#businessintelligence',\n",
              " '#spaceshost',\n",
              " '#awaazmarkets',\n",
              " '#munafekitayyari',\n",
              " '#powerwomen',\n",
              " '#no',\n",
              " '#گلی_گلی_شور_عمران_خان_چور',\n",
              " '#justinflation',\n",
              " '#ballerz',\n",
              " '#dogewhale',\n",
              " '#oxfordhighschool',\n",
              " '#amcarmy',\n",
              " '#droughtmonitor',\n",
              " '#britain',\n",
              " '#presidentbiden',\n",
              " '#healthontheshelf2021',\n",
              " '#nbsafter5',\n",
              " '#afcon',\n",
              " '#neurology',\n",
              " '#bowlgame',\n",
              " '#electricvehicle',\n",
              " '#doodlebot',\n",
              " '#argentina',\n",
              " '#wot',\n",
              " '#citymch2021',\n",
              " '#examiningtheroots',\n",
              " '#magnitsky',\n",
              " '#jammingseshwithphi',\n",
              " '#womeninstemcampaign',\n",
              " '#cdnag',\n",
              " '#resistanceunited',\n",
              " '#housingequity',\n",
              " '#reimaginewithwrag',\n",
              " '#reallifescience',\n",
              " '#chemtwitter',\n",
              " '#summerwells',\n",
              " '#daw',\n",
              " '#sneakpeek',\n",
              " '#iraniraqsyriaturkeyareoccupiers',\n",
              " '#rajamouli',\n",
              " '#sismo',\n",
              " '#rgv',\n",
              " '#beyou',\n",
              " '#hkfellows',\n",
              " '#caregivers',\n",
              " '#cre',\n",
              " '#mutualaidrequest',\n",
              " '#justiceroadmapny',\n",
              " '#defido',\n",
              " '#saydetroit',\n",
              " '#gsd',\n",
              " '#mentor',\n",
              " '#stateofangularecosystem',\n",
              " '#ussoccerchat',\n",
              " '#celsius',\n",
              " '#moneyheistseason5',\n",
              " '#geauxtigers',\n",
              " '#saparliamentaryinstitute',\n",
              " '#nfcaorbust',\n",
              " '#sbc',\n",
              " '#p18demoday',\n",
              " '#i70',\n",
              " '#thisisourshot',\n",
              " '#tuscanvines',\n",
              " '#charterschools',\n",
              " '#poap',\n",
              " '#independenceday',\n",
              " '#cawater',\n",
              " '#bc',\n",
              " '#urgent',\n",
              " '#honduras',\n",
              " '#scoytheseries',\n",
              " '#afcfta',\n",
              " '#navy',\n",
              " '#kare11weather',\n",
              " '#finals',\n",
              " '#gischat',\n",
              " '#dessert',\n",
              " '#ed',\n",
              " '#canadian',\n",
              " '#welovepoap',\n",
              " '#mynameismillie',\n",
              " '#trivia',\n",
              " '#phled',\n",
              " '#sanctionpakistan',\n",
              " '#askingforafriend',\n",
              " '#ccnow',\n",
              " '#votingrightsnow',\n",
              " '#fresh',\n",
              " '#relistwolvesnow',\n",
              " '#hearthstone',\n",
              " '#decrimdoneright',\n",
              " '#rtb',\n",
              " '#disabilities',\n",
              " '#chiefndiweni',\n",
              " '#homesforsale',\n",
              " '#lagov',\n",
              " '#lalege',\n",
              " '#seothread',\n",
              " '#foia',\n",
              " '#musevenomics',\n",
              " '#buildinpublic',\n",
              " '#greed',\n",
              " '#tankathursday',\n",
              " '#lewdrp',\n",
              " '#jwst',\n",
              " '#deaf',\n",
              " '#bunnyrenecartsells',\n",
              " '#illini',\n",
              " '#tagteam',\n",
              " '#dc4l',\n",
              " '#joeboyonnrg',\n",
              " '#oann',\n",
              " '#openinnovation',\n",
              " '#dorsetypjobshour',\n",
              " '#opinion',\n",
              " '#ldfshow',\n",
              " '#sacramento',\n",
              " '#gradschool',\n",
              " '#tigerstrong',\n",
              " '#academicfreedom',\n",
              " '#fight',\n",
              " '#letitiajames',\n",
              " '#energytwitter',\n",
              " '#hotel',\n",
              " '#aotvincent',\n",
              " '#supreme',\n",
              " '#telcoin',\n",
              " '#got',\n",
              " '#tanzaniaat60',\n",
              " '#girlstalkza',\n",
              " '#govnl',\n",
              " '#scpol',\n",
              " '#surrey',\n",
              " '#scarbto',\n",
              " '#avtweeps',\n",
              " '#utleg',\n",
              " '#utpol',\n",
              " '#sierraleone',\n",
              " '#savinglives',\n",
              " '#womenthatbuild',\n",
              " '#globantawards',\n",
              " '#ccpchina',\n",
              " '#ece',\n",
              " '#ffc',\n",
              " '#makeawish',\n",
              " '#harmonyone',\n",
              " '#citinewsroom',\n",
              " '#reylohohoho',\n",
              " '#theultimateexperience',\n",
              " '#language',\n",
              " '#internetcomputer',\n",
              " '#teamkentucky',\n",
              " '#covid19sk',\n",
              " '#istandwithrosiekay',\n",
              " '#sanfrancisco',\n",
              " '#dreamkey',\n",
              " '#magickey',\n",
              " '#arnews',\n",
              " '#stl',\n",
              " '#cult45',\n",
              " '#noblequest',\n",
              " '#hcm',\n",
              " '#shrm',\n",
              " '#rudegolems',\n",
              " '#firebonnie',\n",
              " '#etpac21',\n",
              " '#seochat',\n",
              " '#thaelection2021',\n",
              " '#dqq',\n",
              " '#mashiho',\n",
              " '#cult',\n",
              " '#simracing',\n",
              " '#universalname',\n",
              " '#lukso',\n",
              " '#thankyewboys',\n",
              " '#ejns2021',\n",
              " '#connections',\n",
              " '#eat',\n",
              " '#tech4democracy',\n",
              " '#newbook',\n",
              " '#itaintxmasuntil',\n",
              " '#death',\n",
              " '#wethepeoples',\n",
              " '#wtpawards',\n",
              " '#goplies',\n",
              " '#teesasxmercyjohnson',\n",
              " '#mycausemycleats',\n",
              " '#rightsnetupdate',\n",
              " '#12days',\n",
              " '#prikspijt',\n",
              " '#fdiafrica',\n",
              " '#newyorkcity',\n",
              " '#nejmcatlive',\n",
              " '#amsterdam',\n",
              " '#fcim',\n",
              " '#spacs',\n",
              " '#unctadedar',\n",
              " '#verifyveve',\n",
              " '#vaultoholics',\n",
              " '#utah',\n",
              " '#qna',\n",
              " '#writingq',\n",
              " '#katibampya',\n",
              " '#wenyenchiwananchi',\n",
              " '#welldone',\n",
              " '#milkmoeu',\n",
              " '#euagri',\n",
              " '#schoolchoice',\n",
              " '#venezuela',\n",
              " '#gophercon',\n",
              " '#forbes',\n",
              " '#16daysofjane',\n",
              " '#listerine',\n",
              " '#orleg',\n",
              " '#orpol',\n",
              " '#tracenadoba',\n",
              " '#savethedate',\n",
              " '#pmsfanduelisfamily',\n",
              " '#righttorepair',\n",
              " '#algorithms',\n",
              " '#mffl',\n",
              " '#dubnames2021',\n",
              " '#ksleg',\n",
              " '#strixhaven',\n",
              " '#iwnews',\n",
              " '#suny',\n",
              " '#thefifthdriver',\n",
              " '#guncontrol',\n",
              " '#swa',\n",
              " '#fostercare',\n",
              " '#kingdomhearts',\n",
              " '#firebobbykotick',\n",
              " '#soonernation',\n",
              " '#is',\n",
              " '#anniechristitch',\n",
              " '#safeact',\n",
              " '#somerset',\n",
              " '#waleg',\n",
              " '#ford',\n",
              " '#southside',\n",
              " '#releaseyusufmustikhan',\n",
              " '#nytspellingbee',\n",
              " '#tanzania60',\n",
              " '#ileftbecause',\n",
              " '#jointhenewsroom',\n",
              " '#yqr',\n",
              " '#spokane',\n",
              " '#probono',\n",
              " '#n95s4all',\n",
              " '#worldbuilding',\n",
              " '#winweek2021',\n",
              " '#wonamoni',\n",
              " '#neomcoin',\n",
              " '#canadians',\n",
              " '#democracyhypocrisy',\n",
              " '#breakingthebarriers',\n",
              " '#boycottpublix',\n",
              " '#nmgleadershipforum',\n",
              " '#fixit',\n",
              " '#roboots',\n",
              " '#partnerships',\n",
              " '#nigerianews',\n",
              " '#reflectionofyou',\n",
              " '#identityv',\n",
              " '#prowrestling',\n",
              " '#justthenews',\n",
              " '#artbasel',\n",
              " '#btrstonpomp',\n",
              " '#immigration',\n",
              " '#climatetech',\n",
              " '#vlogmas',\n",
              " '#infographicb2b',\n",
              " '#stopprivatizationofbanks',\n",
              " '#blackhistory',\n",
              " '#repealovec',\n",
              " '#defundthepolice',\n",
              " '#enginaltandüzyatan',\n",
              " '#kızılelmayolunda',\n",
              " '#sra2021',\n",
              " '#opioid',\n",
              " '#eua',\n",
              " '#swtor',\n",
              " '#denythepermit',\n",
              " '#30thfreeeyecamp',\n",
              " '#thanks',\n",
              " '#llsif',\n",
              " '#middleschool',\n",
              " '#gobulldogs',\n",
              " '#25daysoffishmas',\n",
              " '#thrchat',\n",
              " '#lawtwitter',\n",
              " '#extralife',\n",
              " '#salvationarmy',\n",
              " '#satyakijeet',\n",
              " '#thecivgive2021',\n",
              " '#bleedblue',\n",
              " '#changingamerica',\n",
              " '#atheist',\n",
              " '#civilwar',\n",
              " '#twitterchat',\n",
              " '#snkrs',\n",
              " '#kidfollowkid',\n",
              " '#aberdeen',\n",
              " '#parlyinstituteofsalaunch',\n",
              " '#hitmc',\n",
              " '#thankyoupat',\n",
              " '#mileg',\n",
              " '#altnewsfactcheck',\n",
              " '#emptytheshelters',\n",
              " '#bnk48_stories',\n",
              " '#kayunga4nakweede',\n",
              " '#hosecoin',\n",
              " '#socialism',\n",
              " '#cleanslateny',\n",
              " '#shinycheck',\n",
              " '#orthodox',\n",
              " '#monastery',\n",
              " '#byzantine',\n",
              " '#novascotia',\n",
              " '#marchon',\n",
              " '#wwii',\n",
              " '#cancelculture',\n",
              " '#endgunviolence',\n",
              " '#freeexofromsm',\n",
              " '#mellos',\n",
              " '#voteyes',\n",
              " '#oub329',\n",
              " '#vote4anp',\n",
              " '#vote4laltain',\n",
              " '#justdawit',\n",
              " '#bbtfamily',\n",
              " '#sencalkapımı',\n",
              " '#deconstruction',\n",
              " '#exvangelical',\n",
              " '#transrightsarehumanrights',\n",
              " '#copper',\n",
              " '#r1sam',\n",
              " '#buckleup',\n",
              " '#miamimiracle',\n",
              " '#tbw21',\n",
              " '#audius',\n",
              " '#paranormalromance',\n",
              " '#black',\n",
              " '#transisbeautiful',\n",
              " '#gomefund',\n",
              " '#a',\n",
              " '#jexit',\n",
              " '#acsac2021',\n",
              " '#thebeatles',\n",
              " '#vanre',\n",
              " '#financialliteracy',\n",
              " '#financialeducation',\n",
              " '#songbird',\n",
              " '#lukashevich',\n",
              " '#openrp',\n",
              " '#gfvip',\n",
              " '#kennethcopeland',\n",
              " '#howtoliveinanatmosphereoflove',\n",
              " '#canceloicinpakistan',\n",
              " '#i̇ştegerçek',\n",
              " '#snl',\n",
              " '#nomandates',\n",
              " '#wizkid',\n",
              " '#kingcrimson',\n",
              " '#violence',\n",
              " '#r',\n",
              " '#오세훈',\n",
              " '#ohsehun',\n",
              " '#easports',\n",
              " '#tigraywarrapevictims',\n",
              " '#timepoy',\n",
              " '#wwesupercard',\n",
              " '#hbcugrad',\n",
              " '#bankruptcy',\n",
              " '#physicaltherapy',\n",
              " '#wildidol',\n",
              " '#smh',\n",
              " '#nurse',\n",
              " '#legends',\n",
              " '#drums',\n",
              " '#disabilityrights',\n",
              " '#chc',\n",
              " '#collectorshelpingcollectors',\n",
              " '#wearelakota',\n",
              " '#wholesale',\n",
              " '#censusecondata',\n",
              " '#alerts',\n",
              " '#housingcrisis',\n",
              " '#war',\n",
              " '#familyhistory',\n",
              " '#dairy',\n",
              " '#ridge',\n",
              " '#numerology',\n",
              " '#boldlygo100',\n",
              " '#blessedandgrateful',\n",
              " '#mdt',\n",
              " '#ٹی_ایل_پی_پروموشن',\n",
              " '#bidenadministration',\n",
              " '#nmr',\n",
              " '#salonetwitter',\n",
              " '#durham',\n",
              " '#michaeljackson',\n",
              " '#usnavy',\n",
              " '#ndtvexclusive',\n",
              " '#psa',\n",
              " '#indy',\n",
              " '#livertwitter',\n",
              " '#takebackpakstudentstochina',\n",
              " '#blacktwitter',\n",
              " '#medhat',\n",
              " '#sharpei',\n",
              " '#goodluck',\n",
              " '#jewish',\n",
              " '#silversqueeze',\n",
              " '#cotton',\n",
              " '#gunviolence',\n",
              " '#drugs',\n",
              " '#socialworktwitter',\n",
              " '#abetterabk',\n",
              " '#leveloneproject',\n",
              " '#flowertothepeople',\n",
              " '#caregiving',\n",
              " '#hvac',\n",
              " '#giawards2021',\n",
              " '#myintegrityhero',\n",
              " '#gata',\n",
              " '#fairmaps',\n",
              " '#fbl2021',\n",
              " '#bids',\n",
              " '#ontag',\n",
              " '#iahsbkb',\n",
              " '#btv',\n",
              " '#ydiscovery',\n",
              " '#micdrop',\n",
              " '#chile',\n",
              " '#sadakatsiz',\n",
              " '#bajajfinserv',\n",
              " '#bajajfinance',\n",
              " '#socal',\n",
              " '#tpsd',\n",
              " '#hapebeastgang',\n",
              " '#hapetureday',\n",
              " '#peru',\n",
              " '#jlvraa',\n",
              " '#boise',\n",
              " '#burmaroad',\n",
              " '#nationalsecurity',\n",
              " '#saynotocorruption',\n",
              " '#domains',\n",
              " '#talkswithtlhogi',\n",
              " '#believesurvivors',\n",
              " '#qtwinsinmalawi',\n",
              " '#penginu',\n",
              " '#endalz',\n",
              " '#portugal',\n",
              " '#powerisbeeuty',\n",
              " '#iceland',\n",
              " '#lisbethhockey',\n",
              " '#emmaraducanu',\n",
              " '#weenergizelife',\n",
              " '#sequent',\n",
              " '#acquisition',\n",
              " '#jasonstatham',\n",
              " '#irs',\n",
              " '#seflclimatesummit',\n",
              " '#lithuania',\n",
              " '#bisiakandememoir',\n",
              " '#learn',\n",
              " '#mhaspoiler',\n",
              " '#adulting',\n",
              " '#feltman',\n",
              " '#yycbike',\n",
              " '#holidayparty',\n",
              " '#logo',\n",
              " '#south24',\n",
              " '#ajitdoval',\n",
              " '#trustthescience',\n",
              " '#communism',\n",
              " '#influencers',\n",
              " '#davidtennant',\n",
              " '#pens',\n",
              " '#champlaintowers',\n",
              " '#surfsidecollapse',\n",
              " '#surfside',\n",
              " '#fl',\n",
              " '#kisiigrowing',\n",
              " '#wheels',\n",
              " '#क',\n",
              " '#ghscs2021',\n",
              " '#nobeijing2022',\n",
              " '#magicthegathering',\n",
              " '#coronavirusuk',\n",
              " '#traitors',\n",
              " '#blockedbymccoy',\n",
              " '#bidenflation',\n",
              " '#hounews',\n",
              " '#drama',\n",
              " '#policing',\n",
              " '#abshirejobs',\n",
              " '#wethe15',\n",
              " '#bmecountdown',\n",
              " '#thankyoubrandon',\n",
              " '#waronchristmas',\n",
              " '#advocacyexchange',\n",
              " '#abpse',\n",
              " '#purduedh',\n",
              " '#zeo',\n",
              " '#filmfare',\n",
              " '#broxtowe',\n",
              " '#uyghurtribunal',\n",
              " '#startyourday',\n",
              " '#riseup',\n",
              " '#eastbourne',\n",
              " '#prblockchainweek',\n",
              " '#iodscotawards',\n",
              " '#billboardhottrending',\n",
              " '#ixpe',\n",
              " '#superfamily',\n",
              " '#suttonunited',\n",
              " '#nyhnmovies',\n",
              " '#nyhnupdates',\n",
              " '#hoyasaxa',\n",
              " '#zil',\n",
              " '#esemresiste',\n",
              " '#emotions',\n",
              " '#firedcfromdc',\n",
              " '#interviews',\n",
              " '#gravitas',\n",
              " '#fast50',\n",
              " '#rampride',\n",
              " '#animalrights',\n",
              " '#sustainablebizsummit',\n",
              " '#naturalgas',\n",
              " '#charles16',\n",
              " '#jaydudhane',\n",
              " '#gigem',\n",
              " '#jobalert',\n",
              " '#bb15pratikshow',\n",
              " '#arkansas',\n",
              " '#seniors',\n",
              " '#sabres',\n",
              " '#odsaw21',\n",
              " '#truthbrigade',\n",
              " '#hospice',\n",
              " '#komeshaufisadi',\n",
              " '#finservmarkets',\n",
              " '#massachusetts',\n",
              " '#kelloggstrike',\n",
              " '#fanduelisfamily',\n",
              " '#oxfordstrong',\n",
              " '#bebetter',\n",
              " '#upl',\n",
              " '#uniteforhealthcare',\n",
              " '#mts2021',\n",
              " '#relistwolves',\n",
              " '#mizunopro',\n",
              " '#raleigh',\n",
              " '#knowbeforeyougo',\n",
              " '#southafricatonight',\n",
              " '#preventgenocide',\n",
              " '#rieeproofs',\n",
              " '#thousandautumns',\n",
              " '#famu',\n",
              " '#holditdown',\n",
              " '#genderandtax',\n",
              " '#taxjusticeug',\n",
              " '#wintersession2021',\n",
              " '#madden22',\n",
              " '#cw4400',\n",
              " '#caldorfire',\n",
              " '#safebanking',\n",
              " '#designsystems',\n",
              " '#whatvanawards2022',\n",
              " '#no2ir',\n",
              " '#olympic',\n",
              " '#kabir_is_supreme_god',\n",
              " '#wearehome',\n",
              " '#portraitchallenge',\n",
              " '#tiktokunbandinyy',\n",
              " '#24hdiffusion',\n",
              " '#rhumbarepublik',\n",
              " '#thepulse',\n",
              " '#sasgrad2021',\n",
              " '#infrastructurebill',\n",
              " '#pslf',\n",
              " '#safetyfirst',\n",
              " '#nebpreps',\n",
              " '#rwotgain',\n",
              " '#christmaseveryday',\n",
              " '#ics',\n",
              " '#minnesota',\n",
              " '#following',\n",
              " '#pearlharbor',\n",
              " '#cancerscreening',\n",
              " '#chapelhill',\n",
              " '#म',\n",
              " '#abchoiceshueaasaan',\n",
              " '#shiva',\n",
              " '#thankyoufanduel',\n",
              " '#gambia',\n",
              " '#votingrightsact',\n",
              " '#mars',\n",
              " '#rent',\n",
              " '#capetown',\n",
              " '#senca',\n",
              " '#capitol',\n",
              " '#commerce',\n",
              " '#rust',\n",
              " '#cambridgeshire',\n",
              " '#joemanchin',\n",
              " '#seinfeld',\n",
              " '#9by9th',\n",
              " '#crc',\n",
              " '#frognation',\n",
              " '#teamdemocracy',\n",
              " '#meetwithmanny',\n",
              " '#lgm',\n",
              " '#retro',\n",
              " '#lebanese',\n",
              " '#artvartist2021',\n",
              " '#cambodia',\n",
              " '#westernbalkans',\n",
              " '#pfue',\n",
              " '#meetup',\n",
              " '#breakoutawards',\n",
              " '#cbs',\n",
              " '#enddir',\n",
              " '#protest',\n",
              " '#sokoto',\n",
              " '#landscapert',\n",
              " '#bulldogpride',\n",
              " '#liberia',\n",
              " '#lagalaxy',\n",
              " '#bestoftweets',\n",
              " '#ideas',\n",
              " '#tanzaniaindependenceday',\n",
              " '#30x30',\n",
              " '#jojo_anime',\n",
              " '#dodgers',\n",
              " '#conamorportodos',\n",
              " '#txed',\n",
              " '#coworking',\n",
              " '#worldcupofstartrek',\n",
              " '#llap',\n",
              " '#mcplusdeservebetter',\n",
              " '#nygov',\n",
              " '#niper',\n",
              " '#xmasparty',\n",
              " '#walmartexclusive',\n",
              " '#fantasyindiesdecember',\n",
              " '#regneg',\n",
              " '#brampton',\n",
              " '#onhere',\n",
              " '#diaa2021',\n",
              " '#sudanuprising',\n",
              " '#nbsamasengejje',\n",
              " '#ngss',\n",
              " '#homeschooling',\n",
              " '#wendywilliamsshow',\n",
              " '#pwplibraries',\n",
              " '#maldives',\n",
              " '#respectforsnas',\n",
              " '#estonia',\n",
              " '#uponly461',\n",
              " '#okstate',\n",
              " '#defense',\n",
              " '#idpd',\n",
              " '#rpfollowrp',\n",
              " '#isaidwhatisaid',\n",
              " '#weloveyoulauren',\n",
              " '#getbackthebeatles',\n",
              " '#pnw',\n",
              " '#veganfood',\n",
              " '#glexpo',\n",
              " '#zoot',\n",
              " '#top100',\n",
              " '#chsnews',\n",
              " '#murder',\n",
              " '#nootnoot',\n",
              " '#darfur',\n",
              " '#liquidcraft',\n",
              " '#m4a',\n",
              " '#pcs2021',\n",
              " '#poole',\n",
              " '#wealthtax',\n",
              " '#blackwomen',\n",
              " '#workforcedevelopment',\n",
              " '#larain',\n",
              " '#semperfi',\n",
              " '#gosensgo',\n",
              " '#jokes',\n",
              " '#beef',\n",
              " '#replenishrrf',\n",
              " '#oxfordshire',\n",
              " '#nativeamerican',\n",
              " '#sanafrecuenciacap21',\n",
              " '#ncat',\n",
              " '#donjazzyshortschallenge',\n",
              " '#process',\n",
              " '#islington',\n",
              " '#トワイライヴ',\n",
              " '#includeeveryone',\n",
              " '#odsp',\n",
              " '#ftb',\n",
              " '#proudteacher',\n",
              " '#newbeginnings',\n",
              " '#flf',\n",
              " '#gbo',\n",
              " '#communitysupport',\n",
              " '#warwickshire',\n",
              " '#deeznutslivestream',\n",
              " '#stopprivatzation',\n",
              " '#doolallyq',\n",
              " '#donegal',\n",
              " '#helpingothers',\n",
              " '#wexford',\n",
              " '#ridgenation',\n",
              " '#worldclass',\n",
              " '#wyss',\n",
              " '#thankcorkitschristmas',\n",
              " '#export',\n",
              " '#ldinsight',\n",
              " '#shoutout',\n",
              " '#massage_in_riyadh',\n",
              " '#learnenglish',\n",
              " '#puspha',\n",
              " '#kusifest21',\n",
              " '#knittingtwitter',\n",
              " '#doncaster',\n",
              " '#matsyakaand',\n",
              " '#gin',\n",
              " '#dettyordub',\n",
              " '#visituganda',\n",
              " '#orph',\n",
              " '#debatearchi',\n",
              " '#gaganyaan',\n",
              " '#aiartwork',\n",
              " '#yaoi',\n",
              " '#onlinesafetybill',\n",
              " '#iebcinatambuavijana',\n",
              " '#weightloss',\n",
              " '#occupationaltherapy',\n",
              " '#fml',\n",
              " '#fungifriday',\n",
              " '#cleanair',\n",
              " '#lincolnshire',\n",
              " '#northshropshirebyelection',\n",
              " '#queenoftheuniverse',\n",
              " '#hosearmy',\n",
              " '#bolton',\n",
              " '#brianwilliams',\n",
              " '#proudtowearthisbrand',\n",
              " '#migrants',\n",
              " '#languagelearning',\n",
              " '#dailyexpressbrexitercomments',\n",
              " '#derbyshire',\n",
              " '#queen',\n",
              " '#humanrightsviolations',\n",
              " '#immunology',\n",
              " '#spam',\n",
              " '#christmasmarket',\n",
              " '#flink',\n",
              " '#unicorn',\n",
              " '#realdailybriefing',\n",
              " '#msportbetug',\n",
              " '#lastchristmas',\n",
              " '#indiannavy',\n",
              " '#afcon2021',\n",
              " '#tpas21',\n",
              " '#disabilityhistorymonth',\n",
              " '#offline',\n",
              " '#reality',\n",
              " '#featurefriday',\n",
              " '#staffordshire',\n",
              " '#digitalcultureawards',\n",
              " '#iminter',\n",
              " '#nerazzurri',\n",
              " '#weareicgc',\n",
              " '#fbppr',\n",
              " '#2022annualtariffreview',\n",
              " '#stormpotya',\n",
              " '#uap',\n",
              " '#嵐ステde嵐会',\n",
              " '#building',\n",
              " '#snt',\n",
              " '#ba',\n",
              " '#yashboss',\n",
              " '#flooding',\n",
              " '#bantrophyhuntingimportsuk',\n",
              " '#getthebandone',\n",
              " '#shabbatshalom',\n",
              " '#bri',\n",
              " '#theta',\n",
              " '#방탄소년단지민',\n",
              " '#birdsarentreal',\n",
              " '#702walkthetalk',\n",
              " '#nobel',\n",
              " '#alumni',\n",
              " '#phdposition',\n",
              " '#fillupfriday',\n",
              " '#librivox',\n",
              " '#freemasons',\n",
              " '#gp',\n",
              " '#askrhu',\n",
              " '#ino',\n",
              " '#noriewspoilers',\n",
              " '#servicetweet',\n",
              " '#musexmas',\n",
              " '#10december',\n",
              " '#asawards21',\n",
              " '#slovenia',\n",
              " '#middayreport',\n",
              " '#planahead',\n",
              " '#apprenticeawards2021',\n",
              " '#sumeshandramesh',\n",
              " '#aperfectgifttoregift',\n",
              " '#prison',\n",
              " '#ugandaisblessed',\n",
              " '#uti',\n",
              " '#woolieschristmas',\n",
              " '#restorerights',\n",
              " '#smallholderfarming',\n",
              " '#lawyers',\n",
              " '#puredctrinesofchrist',\n",
              " '#socialhousing',\n",
              " '#policebrutality',\n",
              " '#kickstart',\n",
              " '#hemp',\n",
              " '#faisalabad',\n",
              " '#bridgesoftrust',\n",
              " '#recreating',\n",
              " '#marine',\n",
              " '#fridaymusicfun',\n",
              " '#value',\n",
              " '#jessiesmollett',\n",
              " '#nobelprizeday',\n",
              " '#asbestos',\n",
              " '#supportukmfg',\n",
              " '#celebrationofbikeability',\n",
              " '#piawaawards21',\n",
              " '#healthinequalities',\n",
              " '#holochain',\n",
              " '#workingtogether',\n",
              " '#middayentertainment',\n",
              " '#maymaympowered',\n",
              " '#haematology',\n",
              " '#cap',\n",
              " '#falkirk',\n",
              " '#communityeducation',\n",
              " '#abc',\n",
              " '#congratsmariaressa',\n",
              " '#cardiology',\n",
              " '#grassroots',\n",
              " '#macclesfield',\n",
              " '#jinan',\n",
              " '#blockchainproject',\n",
              " '#folloforfolloback',\n",
              " '#armedforces',\n",
              " '#sdwx',\n",
              " '#expandwithowletloan',\n",
              " '#ज',\n",
              " '#booksonhindurashtra',\n",
              " '#sonyliv',\n",
              " '#international',\n",
              " '#nftcreator',\n",
              " '#afghanistancrisis',\n",
              " '#currentaffairs',\n",
              " '#muddy',\n",
              " '#christmassongs',\n",
              " '#wti',\n",
              " '#sky',\n",
              " '#surfawards',\n",
              " '#vienna',\n",
              " '#elderscrollsonline',\n",
              " '#flash',\n",
              " '#yixing',\n",
              " '#lakedistrict',\n",
              " '#kingslynn',\n",
              " '#imo',\n",
              " '#kalashaawards2021',\n",
              " '#benedixramos',\n",
              " '#dictatorship',\n",
              " '#brands',\n",
              " '#m1',\n",
              " '#empowerment',\n",
              " '#ladakh',\n",
              " '#carers',\n",
              " '#population',\n",
              " '#dmdupressure',\n",
              " '#lira',\n",
              " '#proportionalrepresentation',\n",
              " '#noexcuseforabuse',\n",
              " '#방탄소년단지',\n",
              " '#nomoreneocolonialism',\n",
              " '#ジェジュン',\n",
              " '#j_jun',\n",
              " '#fallfriday',\n",
              " '#strandedaussies',\n",
              " '#dontlikedontpay',\n",
              " '#blackcountryhealth247',\n",
              " '#this',\n",
              " '#gingerbread',\n",
              " '#middaynews',\n",
              " '#partyonwheels',\n",
              " '#biblicaldoctrinesday5',\n",
              " '#evermore',\n",
              " '#ブイシッウレシッタノシッ',\n",
              " '#vaccinedeaths',\n",
              " '#youthwork',\n",
              " '#ambulance',\n",
              " '#itvideo',\n",
              " '#zooloosbooktours',\n",
              " '#northumberland',\n",
              " '#fontsonfriday',\n",
              " '#him',\n",
              " '#tokyo',\n",
              " '#70s',\n",
              " '#seventies',\n",
              " '#sba2021',\n",
              " '#corbyn',\n",
              " ...]"
            ]
          },
          "metadata": {},
          "execution_count": 219
        }
      ]
    },
    {
      "cell_type": "code",
      "source": [
        "from UnofficialTwitterApi import *\n",
        "gleb = cl.GetTopicsScore(topics=true_data[:1000])\n",
        "to_sort = []\n",
        "for key, value in gleb.items():\n",
        "    to_sort.append((value, key))\n",
        "to_sort = sorted(to_sort, key=lambda x: x[0], reverse=True)"
      ],
      "metadata": {
        "id": "aidt3SoUYq6j"
      },
      "execution_count": null,
      "outputs": []
    },
    {
      "cell_type": "code",
      "source": [
        "to_sort"
      ],
      "metadata": {
        "colab": {
          "base_uri": "https://localhost:8080/"
        },
        "id": "epbmI8hZbej8",
        "outputId": "10607ce0-c159-407b-d2db-fff2970c2969"
      },
      "execution_count": null,
      "outputs": [
        {
          "output_type": "execute_result",
          "data": {
            "text/plain": [
              "[(139396, '#is'),\n",
              " (132273, '#no'),\n",
              " (122065, '#play'),\n",
              " (106068, '#cbs'),\n",
              " (102745, '#this'),\n",
              " (101199, '#12days'),\n",
              " (92763, '#a'),\n",
              " (89282, '#black'),\n",
              " (89193, '#mellos'),\n",
              " (86335, '#shiva'),\n",
              " (85693, '#cap'),\n",
              " (84705, '#bc'),\n",
              " (84218, '#islamabad'),\n",
              " (83738, '#wizkid'),\n",
              " (82900, '#bri'),\n",
              " (82453, '#larain'),\n",
              " (81884, '#girls'),\n",
              " (81884, '#girlstalkza'),\n",
              " (80206, '#r'),\n",
              " (79016, '#bids'),\n",
              " (75697, '#holochain'),\n",
              " (75138, '#supreme'),\n",
              " (74331, '#abc'),\n",
              " (74115, '#pens'),\n",
              " (70546, '#방탄소년단지민'),\n",
              " (70546, '#방탄소년단지'),\n",
              " (70236, '#wwesupercard'),\n",
              " (69749, '#sadakatsiz'),\n",
              " (69622, '#tokyo'),\n",
              " (69502, '#timepoy'),\n",
              " (69334, '#massage_in_riyadh'),\n",
              " (67541, '#yegwx'),\n",
              " (66997, '#got'),\n",
              " (66395, '#oxfordhighschool'),\n",
              " (66240, '#eua'),\n",
              " (64988, '#xspoilers'),\n",
              " (63884, '#ideas'),\n",
              " (62910, '#thanks'),\n",
              " (62588, '#welldone'),\n",
              " (62113, '#theta'),\n",
              " (61651, '#stl'),\n",
              " (61568, '#jojo_anime'),\n",
              " (61463, '#bestoftweets'),\n",
              " (61067, '#ba'),\n",
              " (59994, '#population'),\n",
              " (59688, '#summerwells'),\n",
              " (59515, '#spam'),\n",
              " (59468, '#vienna'),\n",
              " (59114, '#blacktwitter'),\n",
              " (58942, '#waronchristmas'),\n",
              " (58326, '#lawtwitter'),\n",
              " (58250, '#gfvip'),\n",
              " (57945, '#yashboss'),\n",
              " (57943, '#war'),\n",
              " (57216, '#ohsehun'),\n",
              " (57209, '#electricvehicle'),\n",
              " (56957, '#woolieschristmas'),\n",
              " (56676, '#mdt'),\n",
              " (56657, '#sencalkapımı'),\n",
              " (56657, '#senca'),\n",
              " (56597, '#orph'),\n",
              " (56553, '#orleg'),\n",
              " (56019, '#prikspijt'),\n",
              " (55739, '#teamseas'),\n",
              " (55612, '#guncontrol'),\n",
              " (55426, '#mhaspoiler'),\n",
              " (55330, '#international'),\n",
              " (55271, '#bbcf'),\n",
              " (55201, '#urgent'),\n",
              " (55071, '#wot'),\n",
              " (55008, '#naturalgas'),\n",
              " (54960, '#phdposition'),\n",
              " (54804, '#michaeljackson'),\n",
              " (54523, '#cw4400'),\n",
              " (54469, '#ksleg'),\n",
              " (54375, '#swa'),\n",
              " (54208, '#mentor'),\n",
              " (54114, '#afcon'),\n",
              " (54114, '#afcon2021'),\n",
              " (54009, '#zil'),\n",
              " (53968, '#katibampya'),\n",
              " (53787, '#portugal'),\n",
              " (53756, '#cambodia'),\n",
              " (53645, '#mtpol'),\n",
              " (53511, '#magic'),\n",
              " (53203, '#fight'),\n",
              " (53119, '#snt'),\n",
              " (52738, '#copper'),\n",
              " (52738, '#sabres'),\n",
              " (52639, '#puspha'),\n",
              " (52427, '#poap'),\n",
              " (52068, '#ncat'),\n",
              " (52003, '#rust'),\n",
              " (51707, '#wenyenchiwananchi'),\n",
              " (51554, '#retro'),\n",
              " (51088, '#gin'),\n",
              " (51013, '#waleg'),\n",
              " (50975, '#ics'),\n",
              " (50867, '#whereispengshuai'),\n",
              " (50696, '#sunday'),\n",
              " (50626, '#endgunviolence'),\n",
              " (50463, '#venezuela'),\n",
              " (50448, '#superfamily'),\n",
              " (50137, '#okstate'),\n",
              " (49961, '#surrey'),\n",
              " (49828, '#thisisus'),\n",
              " (49828, '#learn'),\n",
              " (49699, '#spaceshost'),\n",
              " (49609, '#bidenflation'),\n",
              " (49518, '#fl'),\n",
              " (49415, '#matsyakaand'),\n",
              " (49378, '#chsnews'),\n",
              " (49028, '#citinewsroom'),\n",
              " (48840, '#cancelculture'),\n",
              " (48657, '#takebackpakstudentstochina'),\n",
              " (48337, '#yaoi'),\n",
              " (48085, '#reality'),\n",
              " (48035, '#lalege'),\n",
              " (48035, '#ٹی_ایل_پی_پروموشن'),\n",
              " (47962, '#identityv'),\n",
              " (47595, '#infrastructurebill'),\n",
              " (47149, '#safebanking'),\n",
              " (47145, '#rajamouli'),\n",
              " (47004, '#nebpreps'),\n",
              " (46806, '#justinflation'),\n",
              " (46457, '#amcarmy'),\n",
              " (46343, '#evermore'),\n",
              " (46318, '#snl'),\n",
              " (46300, '#reflectionofyou'),\n",
              " (46257, '#cre'),\n",
              " (46257, '#mashiho'),\n",
              " (46237, '#hotel'),\n",
              " (46147, '#argentina'),\n",
              " (45714, '#kalashaawards2021'),\n",
              " (45471, '#sequent'),\n",
              " (45471, '#zoot'),\n",
              " (45438, '#drugs'),\n",
              " (45207, '#thebeatles'),\n",
              " (45146, '#drama'),\n",
              " (45103, '#navy'),\n",
              " (44736, '#nobeijing2022'),\n",
              " (44717, '#nurse'),\n",
              " (44645, '#artvartist2021'),\n",
              " (44490, '#ジェジュン'),\n",
              " (44384, '#indiannavy'),\n",
              " (44355, '#portland'),\n",
              " (44202, '#queen'),\n",
              " (44036, '#sharpei'),\n",
              " (44017, '#eat'),\n",
              " (43874, '#migrants'),\n",
              " (43743, '#cult'),\n",
              " (43675, '#vote4anp'),\n",
              " (43580, '#jwst'),\n",
              " (43562, '#deaf'),\n",
              " (43558, '#beyou'),\n",
              " (43448, '#pca'),\n",
              " (43448, '#queenoftheuniverse'),\n",
              " (43387, '#minnesota'),\n",
              " (43315, '#folloforfolloback'),\n",
              " (43191, '#beef'),\n",
              " (43182, '#nbsafter5'),\n",
              " (43179, '#sismo'),\n",
              " (43161, '#forbes'),\n",
              " (43124, '#nobel'),\n",
              " (43054, '#oxfordstrong'),\n",
              " (42947, '#chile'),\n",
              " (42918, '#sky'),\n",
              " (42914, '#faisalabad'),\n",
              " (42870, '#suny'),\n",
              " (42790, '#goodluck'),\n",
              " (42701, '#mars'),\n",
              " (42667, '#harmonyone'),\n",
              " (42645, '#elsalvador'),\n",
              " (42611, '#salvationarmy'),\n",
              " (42502, '#silversqueeze'),\n",
              " (42447, '#songbird'),\n",
              " (42447, '#abpse'),\n",
              " (42365, '#protest'),\n",
              " (42365, '#muddy'),\n",
              " (42341, '#defido'),\n",
              " (42222, '#flash'),\n",
              " (42112, '#lukso'),\n",
              " (42079, '#billboardhottrending'),\n",
              " (41998, '#嵐ステde嵐会'),\n",
              " (41993, '#sonyliv'),\n",
              " (41992, '#death'),\n",
              " (41934, '#artbasel'),\n",
              " (41930, '#aot'),\n",
              " (41831, '#gp'),\n",
              " (41782, '#domains'),\n",
              " (41744, '#sierraleone'),\n",
              " (41685, '#swtor'),\n",
              " (41579, '#daw'),\n",
              " (41557, '#uap'),\n",
              " (41557, '#sumeshandramesh'),\n",
              " (41495, '#atheist'),\n",
              " (41233, '#kingdomhearts'),\n",
              " (41216, '#dodgers'),\n",
              " (41170, '#altnewsfactcheck'),\n",
              " (41044, '#finals'),\n",
              " (41018, '#lithuania'),\n",
              " (40936, '#thousandautumns'),\n",
              " (40835, '#avtweeps'),\n",
              " (40702, '#hounews'),\n",
              " (40628, '#gbo'),\n",
              " (40580, '#maldives'),\n",
              " (40557, '#wildidol'),\n",
              " (40536, '#ixpe'),\n",
              " (40483, '#hearthstone'),\n",
              " (40419, '#jaydudhane'),\n",
              " (40343, '#capetown'),\n",
              " (40267, '#davidtennant'),\n",
              " (40213, '#amsterdam'),\n",
              " (40196, '#ladakh'),\n",
              " (40162, '#powerwomen'),\n",
              " (40158, '#shinycheck'),\n",
              " (40095, '#weightloss'),\n",
              " (40073, '#oann'),\n",
              " (40043, '#afghanistancrisis'),\n",
              " (39982, '#justicematters'),\n",
              " (39563, '#nytspellingbee'),\n",
              " (39516, '#ed'),\n",
              " (39513, '#gravitas'),\n",
              " (39473, '#panafricanismprevails'),\n",
              " (39033, '#learnenglish'),\n",
              " (39015, '#abetterabk'),\n",
              " (38990, '#gosensgo'),\n",
              " (38950, '#legends'),\n",
              " (38932, '#union'),\n",
              " (38868, '#capitol'),\n",
              " (38750, '#micdrop'),\n",
              " (38742, '#mycausemycleats'),\n",
              " (38670, '#idpd'),\n",
              " (38659, '#policing'),\n",
              " (38606, '#tagteam'),\n",
              " (38585, '#トワイライヴ'),\n",
              " (38544, '#kickstart'),\n",
              " (38463, '#sbc'),\n",
              " (38449, '#frognation'),\n",
              " (38379, '#lakedistrict'),\n",
              " (38375, '#sneakpeek'),\n",
              " (38238, '#savedemocracy'),\n",
              " (38215, '#bleedblue'),\n",
              " (38074, '#dessert'),\n",
              " (37970, '#firebonnie'),\n",
              " (37807, '#opinion'),\n",
              " (37708, '#fbr'),\n",
              " (37567, '#ndtvexclusive'),\n",
              " (37551, '#violence'),\n",
              " (37490, '#trivia'),\n",
              " (37281, '#istandwithrosiekay'),\n",
              " (37257, '#donjazzyshortschallenge'),\n",
              " (36975, '#blackhistorymonth'),\n",
              " (36975, '#blackhistory'),\n",
              " (36975, '#salonetwitter'),\n",
              " (36869, '#veteran'),\n",
              " (36758, '#geauxtigers'),\n",
              " (36644, '#afcfta'),\n",
              " (36644, '#yycbike'),\n",
              " (36585, '#gunviolence'),\n",
              " (36529, '#raleigh'),\n",
              " (36349, '#hapebeastgang'),\n",
              " (36349, '#communism'),\n",
              " (36349, '#birdsarentreal'),\n",
              " (36290, '#brianwilliams'),\n",
              " (36290, '#falkirk'),\n",
              " (36037, '#dave'),\n",
              " (36037, '#telcoin'),\n",
              " (36037, '#lincolnshire'),\n",
              " (35974, '#hcm'),\n",
              " (35942, '#jobalert'),\n",
              " (35840, '#wwii'),\n",
              " (35705, '#gigem'),\n",
              " (35687, '#brands'),\n",
              " (35637, '#fresh'),\n",
              " (35637, '#energytwitter'),\n",
              " (35637, '#wexford'),\n",
              " (35581, '#esemresiste'),\n",
              " (35570, '#kabir_is_supreme_god'),\n",
              " (35492, '#newyorkcity'),\n",
              " (35419, '#middleschool'),\n",
              " (35419, '#deconstruction'),\n",
              " (35315, '#algorithms'),\n",
              " (35315, '#humanrightsviolations'),\n",
              " (35272, '#bajajfinserv'),\n",
              " (35272, '#jokes'),\n",
              " (35272, '#northshropshirebyelection'),\n",
              " (35254, '#ridge'),\n",
              " (35240, '#gsd'),\n",
              " (35195, '#foia'),\n",
              " (35195, '#safetyfirst'),\n",
              " (35191, '#uti'),\n",
              " (35153, '#arkansas'),\n",
              " (35085, '#durham'),\n",
              " (35064, '#imo'),\n",
              " (35046, '#nmr'),\n",
              " (34968, '#rgv'),\n",
              " (34967, '#m1'),\n",
              " (34926, '#homesforsale'),\n",
              " (34894, '#nomoreneocolonialism'),\n",
              " (34822, '#ブイシッウレシッタノシッ'),\n",
              " (34641, '#ग'),\n",
              " (34641, '#buildinpublic'),\n",
              " (34641, '#fcim'),\n",
              " (34641, '#livertwitter'),\n",
              " (34632, '#forza'),\n",
              " (34617, '#famu'),\n",
              " (34505, '#canadian'),\n",
              " (34492, '#him'),\n",
              " (34480, '#olympic'),\n",
              " (34469, '#paidleave'),\n",
              " (34438, '#isaidwhatisaid'),\n",
              " (34429, '#votingrightsact'),\n",
              " (34380, '#euro'),\n",
              " (34355, '#blackwomen'),\n",
              " (34314, '#dreamkey'),\n",
              " (34290, '#benedixramos'),\n",
              " (34274, '#iceland'),\n",
              " (34196, '#lagalaxy'),\n",
              " (34196, '#pnw'),\n",
              " (34158, '#britain'),\n",
              " (34103, '#onhere'),\n",
              " (34100, '#lawyers'),\n",
              " (34073, '#cotton'),\n",
              " (34007, '#bbtfamily'),\n",
              " (34007, '#rhumbarepublik'),\n",
              " (33946, '#jeffbezos'),\n",
              " (33920, '#gata'),\n",
              " (33920, '#irs'),\n",
              " (33907, '#resistanceunited'),\n",
              " (33847, '#cryptoavengers'),\n",
              " (33818, '#blessedandgrateful'),\n",
              " (33747, '#thankyoubrandon'),\n",
              " (33707, '#ccpchina'),\n",
              " (33707, '#boldlygo100'),\n",
              " (33665, '#policebrutality'),\n",
              " (33664, '#jewish'),\n",
              " (33650, '#nigerianews'),\n",
              " (33636, '#legal'),\n",
              " (33636, '#southside'),\n",
              " (33636, '#visituganda'),\n",
              " (33621, '#influencers'),\n",
              " (33605, '#hvac'),\n",
              " (33603, '#makeawish'),\n",
              " (33603, '#upl'),\n",
              " (33599, '#audius'),\n",
              " (33454, '#shoutout'),\n",
              " (33426, '#booksonhindurashtra'),\n",
              " (33397, '#defundthepolice'),\n",
              " (33382, '#fantasyindiesdecember'),\n",
              " (33369, '#ridgenation'),\n",
              " (33337, '#hemp'),\n",
              " (33290, '#value'),\n",
              " (33266, '#bebetter'),\n",
              " (33176, '#building'),\n",
              " (33171, '#awaazmarkets'),\n",
              " (33150, '#her'),\n",
              " (33150, '#riseup'),\n",
              " (33145, '#utah'),\n",
              " (33091, '#estonia'),\n",
              " (33057, '#massachusetts'),\n",
              " (33057, '#empowerment'),\n",
              " (33042, '#roboots'),\n",
              " (33029, '#defense'),\n",
              " (32972, '#vote4laltain'),\n",
              " (32959, '#currentaffairs'),\n",
              " (32955, '#chemtwitter'),\n",
              " (32906, '#lgm'),\n",
              " (32906, '#brampton'),\n",
              " (32858, '#doncaster'),\n",
              " (32829, '#prowrestling'),\n",
              " (32826, '#magicthegathering'),\n",
              " (32775, '#savethedate'),\n",
              " (32775, '#grassroots'),\n",
              " (32714, '#results'),\n",
              " (32643, '#aberdeen'),\n",
              " (32643, '#smh'),\n",
              " (32643, '#boise'),\n",
              " (32643, '#seinfeld'),\n",
              " (32643, '#lebanese'),\n",
              " (32643, '#disabilityhistorymonth'),\n",
              " (32610, '#neurology'),\n",
              " (32593, '#capitalism'),\n",
              " (32577, '#orthodox'),\n",
              " (32557, '#somerset'),\n",
              " (32557, '#export'),\n",
              " (32503, '#25daysoffishmas'),\n",
              " (32476, '#seniors'),\n",
              " (32456, '#educationjobs'),\n",
              " (32416, '#partnerships'),\n",
              " (32416, '#slovenia'),\n",
              " (32393, '#nomandates'),\n",
              " (32362, '#rwotgain'),\n",
              " (32362, '#meetup'),\n",
              " (32296, '#christmassongs'),\n",
              " (32240, '#veganfood'),\n",
              " (32214, '#odsp'),\n",
              " (32214, '#offline'),\n",
              " (32174, '#immunology'),\n",
              " (32152, '#traitors'),\n",
              " (32057, '#kingcrimson'),\n",
              " (32057, '#numerology'),\n",
              " (32057, '#christmaseveryday'),\n",
              " (32027, '#iwnews'),\n",
              " (32019, '#liberalismisamentaldisorder'),\n",
              " (32007, '#votingrightsnow'),\n",
              " (31966, '#cardiology'),\n",
              " (31920, '#greed'),\n",
              " (31895, '#healthontheshelf2021'),\n",
              " (31895, '#hbcugrad'),\n",
              " (31895, '#txed'),\n",
              " (31895, '#lastchristmas'),\n",
              " (31857, '#cult45'),\n",
              " (31857, '#dairy'),\n",
              " (31857, '#trustthescience'),\n",
              " (31777, '#scoytheseries'),\n",
              " (31741, '#gingerbread'),\n",
              " (31739, '#ford'),\n",
              " (31731, '#arisaka'),\n",
              " (31725, '#opioid'),\n",
              " (31725, '#logo'),\n",
              " (31725, '#uyghurtribunal'),\n",
              " (31725, '#gaganyaan'),\n",
              " (31725, '#proportionalrepresentation'),\n",
              " (31714, '#coworking'),\n",
              " (31561, '#language'),\n",
              " (31561, '#languagelearning'),\n",
              " (31561, '#northumberland'),\n",
              " (31555, '#soonernation'),\n",
              " (31555, '#immigration'),\n",
              " (31555, '#freemasons'),\n",
              " (31549, '#south24'),\n",
              " (31509, '#drums'),\n",
              " (31484, '#wintersession2021'),\n",
              " (31460, '#commerce'),\n",
              " (31433, '#macclesfield'),\n",
              " (31407, '#goplies'),\n",
              " (31386, '#neomcoin'),\n",
              " (31386, '#twitterchat'),\n",
              " (31386, '#702walkthetalk'),\n",
              " (31352, '#oxfordshire'),\n",
              " (31269, '#worldbuilding'),\n",
              " (31218, '#ballerz'),\n",
              " (31218, '#climatetech'),\n",
              " (31218, '#indy'),\n",
              " (31218, '#fml'),\n",
              " (31217, '#goodnighteveryone'),\n",
              " (31217, '#homeschooling'),\n",
              " (31217, '#iminter'),\n",
              " (31187, '#holidayspirit'),\n",
              " (31187, '#christmasmarket'),\n",
              " (31158, '#elderscrollsonline'),\n",
              " (31110, '#servicetweet'),\n",
              " (31057, '#pfue'),\n",
              " (31051, '#csr'),\n",
              " (31051, '#celsius'),\n",
              " (31051, '#chc'),\n",
              " (31051, '#fanduelisfamily'),\n",
              " (31051, '#westernbalkans'),\n",
              " (31004, '#aiartwork'),\n",
              " (30973, '#오세훈'),\n",
              " (30973, '#jessiesmollett'),\n",
              " (30892, '#cdnag'),\n",
              " (30892, '#justthenews'),\n",
              " (30892, '#hapetureday'),\n",
              " (30892, '#क'),\n",
              " (30892, '#knowbeforeyougo'),\n",
              " (30815, '#crc'),\n",
              " (30781, '#gobulldogs'),\n",
              " (30757, '#llap'),\n",
              " (30740, '#stopthesale'),\n",
              " (30740, '#thisisourshot'),\n",
              " (30740, '#spacs'),\n",
              " (30740, '#physicaltherapy'),\n",
              " (30711, '#schoolchoice'),\n",
              " (30675, '#cleanair'),\n",
              " (30639, '#newbeginnings'),\n",
              " (30600, '#teamkentucky'),\n",
              " (30600, '#rudegolems'),\n",
              " (30600, '#endalz'),\n",
              " (30600, '#suttonunited'),\n",
              " (30600, '#ino'),\n",
              " (30567, '#housingcrisis'),\n",
              " (30567, '#nootnoot'),\n",
              " (30474, '#pesticides'),\n",
              " (30474, '#nfcaorbust'),\n",
              " (30474, '#simracing'),\n",
              " (30474, '#ileftbecause'),\n",
              " (30474, '#civilwar'),\n",
              " (30474, '#wealthtax'),\n",
              " (30408, '#bidenadministration'),\n",
              " (30366, '#m4a'),\n",
              " (30364, '#righttorepair'),\n",
              " (30364, '#buckleup'),\n",
              " (30364, '#alerts'),\n",
              " (30364, '#jinan'),\n",
              " (30327, '#semperfi'),\n",
              " (30269, '#thecivgive2021'),\n",
              " (30269, '#easports'),\n",
              " (30269, '#rent'),\n",
              " (30269, '#knittingtwitter'),\n",
              " (30269, '#flink'),\n",
              " (30185, '#cawater'),\n",
              " (30185, '#ffc'),\n",
              " (30185, '#blockedbymccoy'),\n",
              " (30185, '#wendywilliamsshow'),\n",
              " (30185, '#middayreport'),\n",
              " (30151, '#j_jun'),\n",
              " (30121, '#rememberingbobdole'),\n",
              " (30121, '#probono'),\n",
              " (30121, '#rieeproofs'),\n",
              " (30121, '#म'),\n",
              " (30121, '#flf'),\n",
              " (30121, '#wti'),\n",
              " (30101, '#sudanuprising'),\n",
              " (30101, '#msportbetug'),\n",
              " (30070, '#wholesale'),\n",
              " (30070, '#saynotocorruption'),\n",
              " (30070, '#xmasparty'),\n",
              " (30070, '#fbppr'),\n",
              " (30070, '#prison'),\n",
              " (30070, '#ज'),\n",
              " (30029, '#strixhaven'),\n",
              " (30029, '#wethe15'),\n",
              " (30029, '#hoyasaxa'),\n",
              " (30029, '#9by9th'),\n",
              " (30029, '#process'),\n",
              " (30029, '#youthwork'),\n",
              " (1319, '#tb'),\n",
              " (1191, '#psa'),\n",
              " (979, '#marine'),\n",
              " (827, '#unicorn'),\n",
              " (685, '#peru'),\n",
              " (650, '#rtb'),\n",
              " (628, '#バビ'),\n",
              " (613, '#socialism'),\n",
              " (608, '#ece'),\n",
              " (600, '#constructionjobs'),\n",
              " (600, '#localrock'),\n",
              " (600, '#engineeringjobs'),\n",
              " (600, '#usaid'),\n",
              " (600, '#registerdemocrats'),\n",
              " (600, '#voterizer'),\n",
              " (600, '#opengov'),\n",
              " (600, '#montreal'),\n",
              " (600, '#cdc'),\n",
              " (600, '#businessintelligence'),\n",
              " (600, '#dogewhale'),\n",
              " (600, '#presidentbiden'),\n",
              " (600, '#doodlebot'),\n",
              " (600, '#magnitsky'),\n",
              " (600, '#caregivers'),\n",
              " (600, '#honduras'),\n",
              " (600, '#sanctionpakistan'),\n",
              " (600, '#lewdrp'),\n",
              " (600, '#joeboyonnrg'),\n",
              " (600, '#magickey'),\n",
              " (600, '#connections'),\n",
              " (600, '#newbook'),\n",
              " (600, '#teesasxmercyjohnson'),\n",
              " (600, '#fostercare'),\n",
              " (600, '#safeact'),\n",
              " (600, '#releaseyusufmustikhan'),\n",
              " (600, '#n95s4all'),\n",
              " (600, '#canadians'),\n",
              " (600, '#nmgleadershipforum'),\n",
              " (600, '#fixit'),\n",
              " (600, '#stopprivatizationofbanks'),\n",
              " (600, '#30thfreeeyecamp'),\n",
              " (600, '#extralife'),\n",
              " (600, '#satyakijeet'),\n",
              " (600, '#snkrs'),\n",
              " (600, '#kayunga4nakweede'),\n",
              " (600, '#bnk48_stories'),\n",
              " (600, '#hosecoin'),\n",
              " (600, '#voteyes'),\n",
              " (600, '#justdawit'),\n",
              " (600, '#paranormalromance'),\n",
              " (600, '#acsac2021'),\n",
              " (600, '#jexit'),\n",
              " (600, '#financialliteracy'),\n",
              " (600, '#vanre'),\n",
              " (600, '#financialeducation'),\n",
              " (600, '#bankruptcy'),\n",
              " (600, '#leveloneproject'),\n",
              " (600, '#caregiving'),\n",
              " (600, '#ydiscovery'),\n",
              " (600, '#btv'),\n",
              " (600, '#nationalsecurity'),\n",
              " (600, '#acquisition'),\n",
              " (600, '#ajitdoval'),\n",
              " (600, '#wheels'),\n",
              " (600, '#eastbourne'),\n",
              " (600, '#emotions'),\n",
              " (600, '#interviews'),\n",
              " (600, '#mts2021'),\n",
              " (600, '#pearlharbor'),\n",
              " (600, '#gambia'),\n",
              " (600, '#cambridgeshire'),\n",
              " (600, '#joemanchin'),\n",
              " (600, '#liberia'),\n",
              " (600, '#mcplusdeservebetter'),\n",
              " (600, '#niper'),\n",
              " (600, '#walmartexclusive'),\n",
              " (600, '#respectforsnas'),\n",
              " (600, '#top100'),\n",
              " (600, '#liquidcraft'),\n",
              " (600, '#darfur'),\n",
              " (600, '#nativeamerican'),\n",
              " (600, '#islington'),\n",
              " (600, '#ftb'),\n",
              " (600, '#deeznutslivestream'),\n",
              " (600, '#warwickshire'),\n",
              " (600, '#helpingothers'),\n",
              " (600, '#wyss'),\n",
              " (600, '#stopprivatzation'),\n",
              " (600, '#occupationaltherapy'),\n",
              " (600, '#hosearmy'),\n",
              " (600, '#bolton'),\n",
              " (600, '#realdailybriefing'),\n",
              " (600, '#weareicgc'),\n",
              " (600, '#alumni'),\n",
              " (600, '#ugandaisblessed'),\n",
              " (600, '#socialhousing'),\n",
              " (600, '#maymaympowered'),\n",
              " (600, '#middayentertainment'),\n",
              " (600, '#congratsmariaressa'),\n",
              " (600, '#armedforces'),\n",
              " (600, '#nftcreator'),\n",
              " (600, '#dictatorship'),\n",
              " (600, '#carers'),\n",
              " (600, '#lira'),\n",
              " (600, '#middaynews'),\n",
              " (600, '#itvideo'),\n",
              " (600, '#ambulance'),\n",
              " (600, '#70s'),\n",
              " (600, '#seventies'),\n",
              " (600, '#corbyn'),\n",
              " (0, '#nomasks'),\n",
              " (0, '#dancingwiththedevil'),\n",
              " (0, '#worldhunger'),\n",
              " (0, '#newzroom405'),\n",
              " (0, '#pacs'),\n",
              " (0, '#malikvswankhedes'),\n",
              " (0, '#kamalhaasan'),\n",
              " (0, '#createatignite'),\n",
              " (0, '#dofo'),\n",
              " (0, '#soultalk'),\n",
              " (0, '#liquoroseinsa'),\n",
              " (0, '#umassworksbecausewedo'),\n",
              " (0, '#fairbargainingnow'),\n",
              " (0, '#policingpromise'),\n",
              " (0, '#foodbill'),\n",
              " (0, '#atromg8'),\n",
              " (0, '#taxcodeisracist'),\n",
              " (0, '#ccprfsummit2021'),\n",
              " (0, '#sethu'),\n",
              " (0, '#zatima'),\n",
              " (0, '#pakimysstreamfestd2'),\n",
              " (0, '#nocoalbailouts'),\n",
              " (0, '#peterbone'),\n",
              " (0, '#cfoawards21'),\n",
              " (0, '#hrcommunity'),\n",
              " (0, '#munafekitayyari'),\n",
              " (0, '#گلی_گلی_شور_عمران_خان_چور'),\n",
              " (0, '#droughtmonitor'),\n",
              " (0, '#bowlgame'),\n",
              " (0, '#examiningtheroots'),\n",
              " (0, '#citymch2021'),\n",
              " (0, '#jammingseshwithphi'),\n",
              " (0, '#womeninstemcampaign'),\n",
              " (0, '#reimaginewithwrag'),\n",
              " (0, '#housingequity'),\n",
              " (0, '#reallifescience'),\n",
              " (0, '#iraniraqsyriaturkeyareoccupiers'),\n",
              " (0, '#hkfellows'),\n",
              " (0, '#mutualaidrequest'),\n",
              " (0, '#justiceroadmapny'),\n",
              " (0, '#saydetroit'),\n",
              " (0, '#stateofangularecosystem'),\n",
              " (0, '#moneyheistseason5'),\n",
              " (0, '#saparliamentaryinstitute'),\n",
              " (0, '#ussoccerchat'),\n",
              " (0, '#p18demoday'),\n",
              " (0, '#i70'),\n",
              " (0, '#tuscanvines'),\n",
              " (0, '#charterschools'),\n",
              " (0, '#independenceday'),\n",
              " (0, '#kare11weather'),\n",
              " (0, '#gischat'),\n",
              " (0, '#mynameismillie'),\n",
              " (0, '#welovepoap'),\n",
              " (0, '#phled'),\n",
              " (0, '#askingforafriend'),\n",
              " (0, '#ccnow'),\n",
              " (0, '#relistwolvesnow'),\n",
              " (0, '#decrimdoneright'),\n",
              " (0, '#disabilities'),\n",
              " (0, '#lagov'),\n",
              " (0, '#seothread'),\n",
              " (0, '#tankathursday'),\n",
              " (0, '#chiefndiweni'),\n",
              " (0, '#musevenomics'),\n",
              " (0, '#bunnyrenecartsells'),\n",
              " (0, '#dc4l'),\n",
              " (0, '#illini'),\n",
              " (0, '#dorsetypjobshour'),\n",
              " (0, '#ldfshow'),\n",
              " (0, '#openinnovation'),\n",
              " (0, '#sacramento'),\n",
              " (0, '#gradschool'),\n",
              " (0, '#academicfreedom'),\n",
              " (0, '#letitiajames'),\n",
              " (0, '#aotvincent'),\n",
              " (0, '#tanzaniaat60'),\n",
              " (0, '#govnl'),\n",
              " (0, '#tigerstrong'),\n",
              " (0, '#scarbto'),\n",
              " (0, '#scpol'),\n",
              " (0, '#utpol'),\n",
              " (0, '#utleg'),\n",
              " (0, '#womenthatbuild'),\n",
              " (0, '#savinglives'),\n",
              " (0, '#globantawards'),\n",
              " (0, '#theultimateexperience'),\n",
              " (0, '#reylohohoho'),\n",
              " (0, '#internetcomputer'),\n",
              " (0, '#sanfrancisco'),\n",
              " (0, '#covid19sk'),\n",
              " (0, '#arnews'),\n",
              " (0, '#noblequest'),\n",
              " (0, '#shrm'),\n",
              " (0, '#etpac21'),\n",
              " (0, '#dqq'),\n",
              " (0, '#seochat'),\n",
              " (0, '#thaelection2021'),\n",
              " (0, '#universalname'),\n",
              " (0, '#thankyewboys'),\n",
              " (0, '#ejns2021'),\n",
              " (0, '#tech4democracy'),\n",
              " (0, '#itaintxmasuntil'),\n",
              " (0, '#wethepeoples'),\n",
              " (0, '#wtpawards'),\n",
              " (0, '#rightsnetupdate'),\n",
              " (0, '#fdiafrica'),\n",
              " (0, '#vaultoholics'),\n",
              " (0, '#unctadedar'),\n",
              " (0, '#verifyveve'),\n",
              " (0, '#qna'),\n",
              " (0, '#writingq'),\n",
              " (0, '#nejmcatlive'),\n",
              " (0, '#milkmoeu'),\n",
              " (0, '#euagri'),\n",
              " (0, '#gophercon'),\n",
              " (0, '#16daysofjane'),\n",
              " (0, '#listerine'),\n",
              " (0, '#tracenadoba'),\n",
              " (0, '#dubnames2021'),\n",
              " (0, '#mffl'),\n",
              " (0, '#pmsfanduelisfamily'),\n",
              " (0, '#thefifthdriver'),\n",
              " (0, '#orpol'),\n",
              " (0, '#firebobbykotick'),\n",
              " (0, '#anniechristitch'),\n",
              " (0, '#jointhenewsroom'),\n",
              " (0, '#yqr'),\n",
              " (0, '#tanzania60'),\n",
              " (0, '#spokane'),\n",
              " (0, '#wonamoni'),\n",
              " (0, '#democracyhypocrisy'),\n",
              " (0, '#breakingthebarriers'),\n",
              " (0, '#boycottpublix'),\n",
              " (0, '#winweek2021'),\n",
              " (0, '#btrstonpomp'),\n",
              " (0, '#vlogmas'),\n",
              " (0, '#infographicb2b'),\n",
              " (0, '#repealovec'),\n",
              " (0, '#kızılelmayolunda'),\n",
              " (0, '#enginaltandüzyatan'),\n",
              " (0, '#sra2021'),\n",
              " (0, '#denythepermit'),\n",
              " (0, '#llsif'),\n",
              " (0, '#thrchat'),\n",
              " (0, '#changingamerica'),\n",
              " (0, '#parlyinstituteofsalaunch'),\n",
              " (0, '#kidfollowkid'),\n",
              " (0, '#hitmc'),\n",
              " (0, '#thankyoupat'),\n",
              " (0, '#emptytheshelters'),\n",
              " (0, '#cleanslateny'),\n",
              " (0, '#monastery'),\n",
              " (0, '#mileg'),\n",
              " (0, '#byzantine'),\n",
              " (0, '#novascotia'),\n",
              " (0, '#freeexofromsm'),\n",
              " (0, '#marchon'),\n",
              " (0, '#oub329'),\n",
              " (0, '#transrightsarehumanrights'),\n",
              " (0, '#exvangelical'),\n",
              " (0, '#r1sam'),\n",
              " (0, '#miamimiracle'),\n",
              " (0, '#tbw21'),\n",
              " (0, '#transisbeautiful'),\n",
              " (0, '#gomefund'),\n",
              " (0, '#lukashevich'),\n",
              " (0, '#openrp'),\n",
              " (0, '#kennethcopeland'),\n",
              " (0, '#howtoliveinanatmosphereoflove'),\n",
              " (0, '#canceloicinpakistan'),\n",
              " (0, '#i̇ştegerçek'),\n",
              " (0, '#tigraywarrapevictims'),\n",
              " (0, '#disabilityrights'),\n",
              " (0, '#collectorshelpingcollectors'),\n",
              " (0, '#wearelakota'),\n",
              " (0, '#censusecondata'),\n",
              " (0, '#familyhistory'),\n",
              " (0, '#usnavy'),\n",
              " (0, '#medhat'),\n",
              " (0, '#socialworktwitter'),\n",
              " (0, '#flowertothepeople'),\n",
              " (0, '#giawards2021'),\n",
              " (0, '#myintegrityhero'),\n",
              " (0, '#fairmaps'),\n",
              " (0, '#fbl2021'),\n",
              " (0, '#ontag'),\n",
              " (0, '#iahsbkb'),\n",
              " (0, '#bajajfinance'),\n",
              " (0, '#tpsd'),\n",
              " (0, '#socal'),\n",
              " (0, '#jlvraa'),\n",
              " (0, '#burmaroad'),\n",
              " (0, '#talkswithtlhogi'),\n",
              " (0, '#believesurvivors'),\n",
              " (0, '#penginu'),\n",
              " (0, '#qtwinsinmalawi'),\n",
              " (0, '#powerisbeeuty'),\n",
              " (0, '#lisbethhockey'),\n",
              " (0, '#emmaraducanu'),\n",
              " (0, '#weenergizelife'),\n",
              " (0, '#jasonstatham'),\n",
              " (0, '#seflclimatesummit'),\n",
              " (0, '#bisiakandememoir'),\n",
              " (0, '#adulting'),\n",
              " (0, '#feltman'),\n",
              " (0, '#holidayparty'),\n",
              " (0, '#champlaintowers'),\n",
              " (0, '#surfsidecollapse'),\n",
              " (0, '#surfside'),\n",
              " (0, '#kisiigrowing'),\n",
              " (0, '#coronavirusuk'),\n",
              " (0, '#ghscs2021'),\n",
              " (0, '#abshirejobs'),\n",
              " (0, '#advocacyexchange'),\n",
              " (0, '#purduedh'),\n",
              " (0, '#zeo'),\n",
              " (0, '#bmecountdown'),\n",
              " (0, '#broxtowe'),\n",
              " (0, '#startyourday'),\n",
              " (0, '#iodscotawards'),\n",
              " (0, '#prblockchainweek'),\n",
              " (0, '#filmfare'),\n",
              " (0, '#nyhnupdates'),\n",
              " (0, '#nyhnmovies'),\n",
              " (0, '#firedcfromdc'),\n",
              " (0, '#rampride'),\n",
              " (0, '#fast50'),\n",
              " (0, '#animalrights'),\n",
              " (0, '#sustainablebizsummit'),\n",
              " (0, '#charles16'),\n",
              " (0, '#bb15pratikshow'),\n",
              " (0, '#odsaw21'),\n",
              " (0, '#komeshaufisadi'),\n",
              " (0, '#finservmarkets'),\n",
              " (0, '#hospice'),\n",
              " (0, '#truthbrigade'),\n",
              " (0, '#kelloggstrike'),\n",
              " (0, '#uniteforhealthcare'),\n",
              " (0, '#relistwolves'),\n",
              " (0, '#mizunopro'),\n",
              " (0, '#preventgenocide'),\n",
              " (0, '#southafricatonight'),\n",
              " (0, '#holditdown'),\n",
              " (0, '#taxjusticeug'),\n",
              " (0, '#madden22'),\n",
              " (0, '#genderandtax'),\n",
              " (0, '#whatvanawards2022'),\n",
              " (0, '#designsystems'),\n",
              " (0, '#portraitchallenge'),\n",
              " (0, '#wearehome'),\n",
              " (0, '#tiktokunbandinyy'),\n",
              " (0, '#24hdiffusion'),\n",
              " (0, '#thepulse'),\n",
              " (0, '#caldorfire'),\n",
              " (0, '#pslf'),\n",
              " (0, '#no2ir'),\n",
              " (0, '#following'),\n",
              " (0, '#sasgrad2021'),\n",
              " (0, '#thankyoufanduel'),\n",
              " (0, '#cancerscreening'),\n",
              " (0, '#teamdemocracy'),\n",
              " (0, '#meetwithmanny'),\n",
              " (0, '#chapelhill'),\n",
              " (0, '#abchoiceshueaasaan'),\n",
              " (0, '#breakoutawards'),\n",
              " (0, '#enddir'),\n",
              " (0, '#sokoto'),\n",
              " (0, '#landscapert'),\n",
              " (0, '#bulldogpride'),\n",
              " (0, '#tanzaniaindependenceday'),\n",
              " (0, '#30x30'),\n",
              " (0, '#conamorportodos'),\n",
              " (0, '#worldcupofstartrek'),\n",
              " (0, '#nygov'),\n",
              " (0, '#diaa2021'),\n",
              " (0, '#nbsamasengejje'),\n",
              " (0, '#regneg'),\n",
              " (0, '#ngss'),\n",
              " (0, '#uponly461'),\n",
              " (0, '#rpfollowrp'),\n",
              " (0, '#pwplibraries'),\n",
              " (0, '#weloveyoulauren'),\n",
              " (0, '#getbackthebeatles'),\n",
              " (0, '#glexpo'),\n",
              " (0, '#murder'),\n",
              " (0, '#pcs2021'),\n",
              " (0, '#poole'),\n",
              " (0, '#workforcedevelopment'),\n",
              " (0, '#sanafrecuenciacap21'),\n",
              " (0, '#replenishrrf'),\n",
              " (0, '#includeeveryone'),\n",
              " (0, '#proudteacher'),\n",
              " (0, '#communitysupport'),\n",
              " (0, '#doolallyq'),\n",
              " (0, '#donegal'),\n",
              " (0, '#worldclass'),\n",
              " (0, '#ldinsight'),\n",
              " (0, '#thankcorkitschristmas'),\n",
              " (0, '#kusifest21'),\n",
              " (0, '#dettyordub'),\n",
              " (0, '#debatearchi'),\n",
              " (0, '#onlinesafetybill'),\n",
              " (0, '#iebcinatambuavijana'),\n",
              " (0, '#fungifriday'),\n",
              " (0, '#dailyexpressbrexitercomments'),\n",
              " (0, '#derbyshire'),\n",
              " (0, '#proudtowearthisbrand'),\n",
              " (0, '#tpas21'),\n",
              " (0, '#digitalcultureawards'),\n",
              " (0, '#staffordshire'),\n",
              " (0, '#featurefriday'),\n",
              " (0, '#nerazzurri'),\n",
              " (0, '#2022annualtariffreview'),\n",
              " (0, '#stormpotya'),\n",
              " (0, '#bantrophyhuntingimportsuk'),\n",
              " (0, '#flooding'),\n",
              " (0, '#shabbatshalom'),\n",
              " (0, '#getthebandone'),\n",
              " (0, '#fillupfriday'),\n",
              " (0, '#askrhu'),\n",
              " (0, '#librivox'),\n",
              " (0, '#musexmas'),\n",
              " (0, '#asawards21'),\n",
              " (0, '#10december'),\n",
              " (0, '#planahead'),\n",
              " (0, '#aperfectgifttoregift'),\n",
              " (0, '#noriewspoilers'),\n",
              " (0, '#apprenticeawards2021'),\n",
              " (0, '#restorerights'),\n",
              " (0, '#bridgesoftrust'),\n",
              " (0, '#smallholderfarming'),\n",
              " (0, '#puredctrinesofchrist'),\n",
              " (0, '#recreating'),\n",
              " (0, '#fridaymusicfun'),\n",
              " (0, '#celebrationofbikeability'),\n",
              " (0, '#supportukmfg'),\n",
              " (0, '#asbestos'),\n",
              " (0, '#piawaawards21'),\n",
              " (0, '#workingtogether'),\n",
              " (0, '#nobelprizeday'),\n",
              " (0, '#haematology'),\n",
              " (0, '#healthinequalities'),\n",
              " (0, '#communityeducation'),\n",
              " (0, '#sdwx'),\n",
              " (0, '#blockchainproject'),\n",
              " (0, '#expandwithowletloan'),\n",
              " (0, '#surfawards'),\n",
              " (0, '#kingslynn'),\n",
              " (0, '#yixing'),\n",
              " (0, '#noexcuseforabuse'),\n",
              " (0, '#dmdupressure'),\n",
              " (0, '#strandedaussies'),\n",
              " (0, '#fallfriday'),\n",
              " (0, '#partyonwheels'),\n",
              " (0, '#blackcountryhealth247'),\n",
              " (0, '#dontlikedontpay'),\n",
              " (0, '#biblicaldoctrinesday5'),\n",
              " (0, '#vaccinedeaths'),\n",
              " (0, '#zooloosbooktours'),\n",
              " (0, '#fontsonfriday'),\n",
              " (0, '#sba2021')]"
            ]
          },
          "metadata": {},
          "execution_count": 229
        }
      ]
    },
    {
      "cell_type": "code",
      "metadata": {
        "colab": {
          "base_uri": "https://localhost:8080/"
        },
        "id": "ocrno6foydKb",
        "outputId": "b01db420-af71-4bff-ed8d-f9419d88a04a"
      },
      "source": [
        "dict_of_vectors.loc[dict_of_vectors['clusters']==90, 'words']"
      ],
      "execution_count": null,
      "outputs": [
        {
          "output_type": "execute_result",
          "data": {
            "text/plain": [
              "3                           #ai\n",
              "122                    #finance\n",
              "127                 #innovation\n",
              "128             #sustainability\n",
              "200      #digitaltransformation\n",
              "201                    #digital\n",
              "212                         #ml\n",
              "247                 #technology\n",
              "275                   #business\n",
              "276                    #startup\n",
              "536                       #data\n",
              "569     #artificialintelligence\n",
              "590            #machinelearning\n",
              "591               #deeplearning\n",
              "702                       #tech\n",
              "801                      #cloud\n",
              "852                 #automation\n",
              "907                   #mobility\n",
              "992                    #fintech\n",
              "1012              #entrepreneur\n",
              "1013             #smallbusiness\n",
              "1136               #supplychain\n",
              "1190                   #bigdata\n",
              "1199                 #ecommerce\n",
              "1241                       #iot\n",
              "1242                        #5g\n",
              "1248                 #logistics\n",
              "1254               #datascience\n",
              "1365                  #startups\n",
              "1483                 #analytics\n",
              "1734                       #esg\n",
              "1795                  #robotics\n",
              "1816            #infrastructure\n",
              "1868          #entrepreneurship\n",
              "2121                     #sales\n",
              "2278               #engineering\n",
              "Name: words, dtype: object"
            ]
          },
          "metadata": {},
          "execution_count": 263
        }
      ]
    },
    {
      "cell_type": "code",
      "metadata": {
        "id": "P5J8pIne2xjG",
        "colab": {
          "base_uri": "https://localhost:8080/"
        },
        "outputId": "93080d8d-7d5a-4726-c272-931e988225f5"
      },
      "source": [
        "(dict_of_vectors.loc[dict_of_vectors['words']=='#ai', 'clusters'])"
      ],
      "execution_count": null,
      "outputs": [
        {
          "output_type": "execute_result",
          "data": {
            "text/plain": [
              "3    90\n",
              "Name: clusters, dtype: int64"
            ]
          },
          "metadata": {},
          "execution_count": 252
        }
      ]
    },
    {
      "cell_type": "code",
      "metadata": {
        "id": "88oSnkfcxWcX"
      },
      "source": [
        "model_with_likes.get_weights()"
      ],
      "execution_count": null,
      "outputs": []
    },
    {
      "cell_type": "code",
      "metadata": {
        "id": "85YWEk1HOVEl"
      },
      "source": [
        "model_with_likes.predict([x_train[3:4],tensor_train_cat[2:3]])"
      ],
      "execution_count": null,
      "outputs": []
    },
    {
      "cell_type": "code",
      "metadata": {
        "id": "-hVWBliZg1s2"
      },
      "source": [
        "with open('cluster_data.pkl', 'wb') as outp:\n",
        "    pickle.dump(dict_of_vectors, outp, pickle.HIGHEST_PROTOCOL)"
      ],
      "execution_count": null,
      "outputs": []
    },
    {
      "cell_type": "code",
      "source": [
        "with open('company_data.pkl', 'wb') as outp:\n",
        "    pickle.dump(mdb, outp, pickle.HIGHEST_PROTOCOL)"
      ],
      "metadata": {
        "id": "M9qjEWH95dGl"
      },
      "execution_count": null,
      "outputs": []
    },
    {
      "cell_type": "code",
      "source": [
        "with open('agl.pkl', 'wb') as outp:\n",
        "    pickle.dump(kmeans, outp, pickle.HIGHEST_PROTOCOL)"
      ],
      "metadata": {
        "id": "Q5r6UqxS616w"
      },
      "execution_count": null,
      "outputs": []
    },
    {
      "cell_type": "code",
      "metadata": {
        "id": "53doXlQoXIiz"
      },
      "source": [
        "drive.mount('/content/gdrive')\n",
        "os.environ['KAGGLE_CONFIG_DIR'] = \"/content/gdrive/My Drive\"\n",
        "%cd /content/gdrive/My Drive/Kaggle\n",
        "%cd /content/gdrive/My Drive/Models_alpha_version"
      ],
      "execution_count": null,
      "outputs": []
    },
    {
      "cell_type": "code",
      "metadata": {
        "id": "pjz4olwgW-pv"
      },
      "source": [
        "model_with_likes.load_weights('./tag_prediction_model_with_likes_weights.h5')\n",
        "model.load_weights('./tag_prediction_model_weights.h5')"
      ],
      "execution_count": null,
      "outputs": []
    },
    {
      "cell_type": "code",
      "metadata": {
        "id": "MlW90H5_Zw3H"
      },
      "source": [
        "with open('cluster_data.pkl', 'rb') as f:\n",
        "    dict_of_vectors = pickle.load(f)\n",
        "with open('company_data.pkl', 'rb') as k:\n",
        "    mdb = pickle.load(k)"
      ],
      "execution_count": null,
      "outputs": []
    },
    {
      "cell_type": "code",
      "metadata": {
        "id": "rzQ9UkFEaMUR"
      },
      "source": [
        "dict_of_vectors.head()"
      ],
      "execution_count": null,
      "outputs": []
    }
  ]
}